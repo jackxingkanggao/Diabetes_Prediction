{
 "cells": [
  {
   "cell_type": "markdown",
   "metadata": {},
   "source": [
    "# MSCA 32009  Health Analytics\n",
    "## Assignment 1 - Diabetes Prediction\n",
    "## Jack Gao"
   ]
  },
  {
   "cell_type": "code",
   "execution_count": 1,
   "metadata": {},
   "outputs": [],
   "source": [
    "import pandas as pd\n",
    "import numpy as np\n",
    "import matplotlib.pyplot as plt\n",
    "import seaborn as sns\n",
    "\n",
    "import warnings\n",
    "warnings.filterwarnings(\"ignore\")\n",
    "\n",
    "%matplotlib inline"
   ]
  },
  {
   "cell_type": "code",
   "execution_count": 2,
   "metadata": {},
   "outputs": [],
   "source": [
    "import os"
   ]
  },
  {
   "cell_type": "code",
   "execution_count": 3,
   "metadata": {},
   "outputs": [],
   "source": [
    "path = \"/Users/Xingkang/Desktop/UChicago/Quarter 2/MSCA 32009 Health Analytics/Assignment 1/datasetPracticeFusionDiabetes\""
   ]
  },
  {
   "cell_type": "code",
   "execution_count": 4,
   "metadata": {},
   "outputs": [],
   "source": [
    "os.chdir(path)"
   ]
  },
  {
   "cell_type": "code",
   "execution_count": 5,
   "metadata": {},
   "outputs": [],
   "source": [
    "test_data = pd.read_csv(\"test_SyncPatient.csv\")\n",
    "Smoking_Status = pd.read_csv('SyncSmokingStatus.csv')\n",
    "Condition = pd.read_csv('SyncCondition.csv')\n",
    "Patient = pd.read_csv('training_SyncPatient.csv')\n",
    "Allergy = pd.read_csv('training_SyncAllergy.csv')\n",
    "Diagnosis = pd.read_csv('training_SyncDiagnosis.csv')\n",
    "Immunization = pd.read_csv('training_SyncImmunization.csv')\n",
    "Lab_Observation = pd.read_csv('training_SyncLabObservation.csv')\n",
    "Lab_Panel = pd.read_csv('training_SyncLabPanel.csv')\n",
    "Lab_Result = pd.read_csv('training_SyncLabResult.csv')\n",
    "Medication = pd.read_csv('training_SyncMedication.csv')\n",
    "Patient_Orig = pd.read_csv('training_SyncPatient_orig.csv')\n",
    "Patient_Condition = pd.read_csv('training_SyncPatientCondition.csv')\n",
    "Patient_Smoking = pd.read_csv('training_SyncPatientSmokingStatus.csv')\n",
    "Prescription = pd.read_csv('training_SyncPrescription.csv')\n",
    "Transcript = pd.read_csv('training_SyncTranscript.csv')\n",
    "Transcript_Allergy = pd.read_csv('training_SyncTranscriptAllergy.csv') #Only 801 entries\n",
    "Transcript_Diagnosis = pd.read_csv('training_SyncTranscriptDiagnosis.csv') #267928 entries\n",
    "Transcript_Medication = pd.read_csv('training_SyncTranscriptMedication.csv')#97109 entries"
   ]
  },
  {
   "cell_type": "code",
   "execution_count": 6,
   "metadata": {},
   "outputs": [
    {
     "data": {
      "text/plain": [
       "(9871, 6)"
      ]
     },
     "execution_count": 6,
     "metadata": {},
     "output_type": "execute_result"
    }
   ],
   "source": [
    "Patient.shape"
   ]
  },
  {
   "cell_type": "code",
   "execution_count": 7,
   "metadata": {},
   "outputs": [
    {
     "name": "stdout",
     "output_type": "stream",
     "text": [
      "<class 'pandas.core.frame.DataFrame'>\n",
      "RangeIndex: 9871 entries, 0 to 9870\n",
      "Data columns (total 6 columns):\n",
      " #   Column        Non-Null Count  Dtype  \n",
      "---  ------        --------------  -----  \n",
      " 0   PatientGuid   6600 non-null   object \n",
      " 1   DMIndicator   6600 non-null   float64\n",
      " 2   Gender        6600 non-null   object \n",
      " 3   YearOfBirth   6600 non-null   float64\n",
      " 4   State         6600 non-null   object \n",
      " 5   PracticeGuid  6600 non-null   object \n",
      "dtypes: float64(2), object(4)\n",
      "memory usage: 462.8+ KB\n"
     ]
    }
   ],
   "source": [
    "Patient.info()"
   ]
  },
  {
   "cell_type": "code",
   "execution_count": 8,
   "metadata": {},
   "outputs": [],
   "source": [
    "test_data = test_data[6600:]"
   ]
  },
  {
   "cell_type": "code",
   "execution_count": 9,
   "metadata": {
    "scrolled": false
   },
   "outputs": [
    {
     "data": {
      "text/html": [
       "<div>\n",
       "<style scoped>\n",
       "    .dataframe tbody tr th:only-of-type {\n",
       "        vertical-align: middle;\n",
       "    }\n",
       "\n",
       "    .dataframe tbody tr th {\n",
       "        vertical-align: top;\n",
       "    }\n",
       "\n",
       "    .dataframe thead th {\n",
       "        text-align: right;\n",
       "    }\n",
       "</style>\n",
       "<table border=\"1\" class=\"dataframe\">\n",
       "  <thead>\n",
       "    <tr style=\"text-align: right;\">\n",
       "      <th></th>\n",
       "      <th>PatientGuid</th>\n",
       "      <th>Gender</th>\n",
       "      <th>YearOfBirth</th>\n",
       "      <th>State</th>\n",
       "      <th>PracticeGuid</th>\n",
       "    </tr>\n",
       "  </thead>\n",
       "  <tbody>\n",
       "    <tr>\n",
       "      <th>6600</th>\n",
       "      <td>027AC271-0852-4DDD-99C2-A74FE50066E0</td>\n",
       "      <td>F</td>\n",
       "      <td>1978</td>\n",
       "      <td>CA</td>\n",
       "      <td>4D27688B-C925-4513-9CF9-8D281ACC6712</td>\n",
       "    </tr>\n",
       "    <tr>\n",
       "      <th>6601</th>\n",
       "      <td>C5D4C6FA-A2B3-4CCD-A8D5-A760127CE47D</td>\n",
       "      <td>F</td>\n",
       "      <td>1941</td>\n",
       "      <td>PA</td>\n",
       "      <td>44C560D5-82B4-436A-9C72-C090F5377FD0</td>\n",
       "    </tr>\n",
       "    <tr>\n",
       "      <th>6602</th>\n",
       "      <td>1F4D1486-7632-4576-AC92-A760680D1DC9</td>\n",
       "      <td>M</td>\n",
       "      <td>1938</td>\n",
       "      <td>VA</td>\n",
       "      <td>9891CFAA-9B40-4120-AE20-3A1D86064898</td>\n",
       "    </tr>\n",
       "    <tr>\n",
       "      <th>6603</th>\n",
       "      <td>0F6AD971-F133-4BD7-B508-A76788D9C46C</td>\n",
       "      <td>M</td>\n",
       "      <td>1952</td>\n",
       "      <td>OH</td>\n",
       "      <td>64F84808-F87B-41CF-8E4B-5E0F456359B4</td>\n",
       "    </tr>\n",
       "    <tr>\n",
       "      <th>6604</th>\n",
       "      <td>1E23496C-7AAF-4A91-AAF4-A769BD439E67</td>\n",
       "      <td>F</td>\n",
       "      <td>1961</td>\n",
       "      <td>FL</td>\n",
       "      <td>BD209FBC-E92C-4392-A085-1DDA42AF37BA</td>\n",
       "    </tr>\n",
       "    <tr>\n",
       "      <th>...</th>\n",
       "      <td>...</td>\n",
       "      <td>...</td>\n",
       "      <td>...</td>\n",
       "      <td>...</td>\n",
       "      <td>...</td>\n",
       "    </tr>\n",
       "    <tr>\n",
       "      <th>9943</th>\n",
       "      <td>96C0A4E6-1E3E-497E-9C4E-FFEC0E25AD3A</td>\n",
       "      <td>F</td>\n",
       "      <td>1978</td>\n",
       "      <td>TX</td>\n",
       "      <td>E7101967-2FF1-4B0F-8129-B0B429D1D15C</td>\n",
       "    </tr>\n",
       "    <tr>\n",
       "      <th>9944</th>\n",
       "      <td>5845977A-3014-4301-92B3-FFF0A2EBBAD2</td>\n",
       "      <td>F</td>\n",
       "      <td>1986</td>\n",
       "      <td>WA</td>\n",
       "      <td>EADEC07A-9901-411F-BBE3-04376029E1E8</td>\n",
       "    </tr>\n",
       "    <tr>\n",
       "      <th>9945</th>\n",
       "      <td>F948403A-ABE6-496D-B37D-FFF9A9D79767</td>\n",
       "      <td>F</td>\n",
       "      <td>1955</td>\n",
       "      <td>CA</td>\n",
       "      <td>57B6F75F-CF0A-4225-BAD0-8222A7D4B489</td>\n",
       "    </tr>\n",
       "    <tr>\n",
       "      <th>9946</th>\n",
       "      <td>F764BC86-0CFA-4661-8D84-FFFA8E2B6080</td>\n",
       "      <td>F</td>\n",
       "      <td>1960</td>\n",
       "      <td>CA</td>\n",
       "      <td>1A69F223-8409-4FDC-A26C-114677D2D4C3</td>\n",
       "    </tr>\n",
       "    <tr>\n",
       "      <th>9947</th>\n",
       "      <td>A411D8EA-81A2-4A7F-9EF9-FFFD8ECBE91C</td>\n",
       "      <td>F</td>\n",
       "      <td>1934</td>\n",
       "      <td>NJ</td>\n",
       "      <td>6C808413-0201-4850-B906-5D2A8433A82D</td>\n",
       "    </tr>\n",
       "  </tbody>\n",
       "</table>\n",
       "<p>3348 rows × 5 columns</p>\n",
       "</div>"
      ],
      "text/plain": [
       "                               PatientGuid Gender  YearOfBirth State  \\\n",
       "6600  027AC271-0852-4DDD-99C2-A74FE50066E0      F         1978    CA   \n",
       "6601  C5D4C6FA-A2B3-4CCD-A8D5-A760127CE47D      F         1941    PA   \n",
       "6602  1F4D1486-7632-4576-AC92-A760680D1DC9      M         1938    VA   \n",
       "6603  0F6AD971-F133-4BD7-B508-A76788D9C46C      M         1952    OH   \n",
       "6604  1E23496C-7AAF-4A91-AAF4-A769BD439E67      F         1961    FL   \n",
       "...                                    ...    ...          ...   ...   \n",
       "9943  96C0A4E6-1E3E-497E-9C4E-FFEC0E25AD3A      F         1978    TX   \n",
       "9944  5845977A-3014-4301-92B3-FFF0A2EBBAD2      F         1986    WA   \n",
       "9945  F948403A-ABE6-496D-B37D-FFF9A9D79767      F         1955    CA   \n",
       "9946  F764BC86-0CFA-4661-8D84-FFFA8E2B6080      F         1960    CA   \n",
       "9947  A411D8EA-81A2-4A7F-9EF9-FFFD8ECBE91C      F         1934    NJ   \n",
       "\n",
       "                              PracticeGuid  \n",
       "6600  4D27688B-C925-4513-9CF9-8D281ACC6712  \n",
       "6601  44C560D5-82B4-436A-9C72-C090F5377FD0  \n",
       "6602  9891CFAA-9B40-4120-AE20-3A1D86064898  \n",
       "6603  64F84808-F87B-41CF-8E4B-5E0F456359B4  \n",
       "6604  BD209FBC-E92C-4392-A085-1DDA42AF37BA  \n",
       "...                                    ...  \n",
       "9943  E7101967-2FF1-4B0F-8129-B0B429D1D15C  \n",
       "9944  EADEC07A-9901-411F-BBE3-04376029E1E8  \n",
       "9945  57B6F75F-CF0A-4225-BAD0-8222A7D4B489  \n",
       "9946  1A69F223-8409-4FDC-A26C-114677D2D4C3  \n",
       "9947  6C808413-0201-4850-B906-5D2A8433A82D  \n",
       "\n",
       "[3348 rows x 5 columns]"
      ]
     },
     "execution_count": 9,
     "metadata": {},
     "output_type": "execute_result"
    }
   ],
   "source": [
    "test_data"
   ]
  },
  {
   "cell_type": "code",
   "execution_count": 10,
   "metadata": {},
   "outputs": [],
   "source": [
    "test_data.reset_index(inplace=True)"
   ]
  },
  {
   "cell_type": "code",
   "execution_count": 11,
   "metadata": {},
   "outputs": [
    {
     "data": {
      "text/html": [
       "<div>\n",
       "<style scoped>\n",
       "    .dataframe tbody tr th:only-of-type {\n",
       "        vertical-align: middle;\n",
       "    }\n",
       "\n",
       "    .dataframe tbody tr th {\n",
       "        vertical-align: top;\n",
       "    }\n",
       "\n",
       "    .dataframe thead th {\n",
       "        text-align: right;\n",
       "    }\n",
       "</style>\n",
       "<table border=\"1\" class=\"dataframe\">\n",
       "  <thead>\n",
       "    <tr style=\"text-align: right;\">\n",
       "      <th></th>\n",
       "      <th>index</th>\n",
       "      <th>PatientGuid</th>\n",
       "      <th>Gender</th>\n",
       "      <th>YearOfBirth</th>\n",
       "      <th>State</th>\n",
       "      <th>PracticeGuid</th>\n",
       "    </tr>\n",
       "  </thead>\n",
       "  <tbody>\n",
       "    <tr>\n",
       "      <th>0</th>\n",
       "      <td>6600</td>\n",
       "      <td>027AC271-0852-4DDD-99C2-A74FE50066E0</td>\n",
       "      <td>F</td>\n",
       "      <td>1978</td>\n",
       "      <td>CA</td>\n",
       "      <td>4D27688B-C925-4513-9CF9-8D281ACC6712</td>\n",
       "    </tr>\n",
       "    <tr>\n",
       "      <th>1</th>\n",
       "      <td>6601</td>\n",
       "      <td>C5D4C6FA-A2B3-4CCD-A8D5-A760127CE47D</td>\n",
       "      <td>F</td>\n",
       "      <td>1941</td>\n",
       "      <td>PA</td>\n",
       "      <td>44C560D5-82B4-436A-9C72-C090F5377FD0</td>\n",
       "    </tr>\n",
       "    <tr>\n",
       "      <th>2</th>\n",
       "      <td>6602</td>\n",
       "      <td>1F4D1486-7632-4576-AC92-A760680D1DC9</td>\n",
       "      <td>M</td>\n",
       "      <td>1938</td>\n",
       "      <td>VA</td>\n",
       "      <td>9891CFAA-9B40-4120-AE20-3A1D86064898</td>\n",
       "    </tr>\n",
       "    <tr>\n",
       "      <th>3</th>\n",
       "      <td>6603</td>\n",
       "      <td>0F6AD971-F133-4BD7-B508-A76788D9C46C</td>\n",
       "      <td>M</td>\n",
       "      <td>1952</td>\n",
       "      <td>OH</td>\n",
       "      <td>64F84808-F87B-41CF-8E4B-5E0F456359B4</td>\n",
       "    </tr>\n",
       "    <tr>\n",
       "      <th>4</th>\n",
       "      <td>6604</td>\n",
       "      <td>1E23496C-7AAF-4A91-AAF4-A769BD439E67</td>\n",
       "      <td>F</td>\n",
       "      <td>1961</td>\n",
       "      <td>FL</td>\n",
       "      <td>BD209FBC-E92C-4392-A085-1DDA42AF37BA</td>\n",
       "    </tr>\n",
       "    <tr>\n",
       "      <th>...</th>\n",
       "      <td>...</td>\n",
       "      <td>...</td>\n",
       "      <td>...</td>\n",
       "      <td>...</td>\n",
       "      <td>...</td>\n",
       "      <td>...</td>\n",
       "    </tr>\n",
       "    <tr>\n",
       "      <th>3343</th>\n",
       "      <td>9943</td>\n",
       "      <td>96C0A4E6-1E3E-497E-9C4E-FFEC0E25AD3A</td>\n",
       "      <td>F</td>\n",
       "      <td>1978</td>\n",
       "      <td>TX</td>\n",
       "      <td>E7101967-2FF1-4B0F-8129-B0B429D1D15C</td>\n",
       "    </tr>\n",
       "    <tr>\n",
       "      <th>3344</th>\n",
       "      <td>9944</td>\n",
       "      <td>5845977A-3014-4301-92B3-FFF0A2EBBAD2</td>\n",
       "      <td>F</td>\n",
       "      <td>1986</td>\n",
       "      <td>WA</td>\n",
       "      <td>EADEC07A-9901-411F-BBE3-04376029E1E8</td>\n",
       "    </tr>\n",
       "    <tr>\n",
       "      <th>3345</th>\n",
       "      <td>9945</td>\n",
       "      <td>F948403A-ABE6-496D-B37D-FFF9A9D79767</td>\n",
       "      <td>F</td>\n",
       "      <td>1955</td>\n",
       "      <td>CA</td>\n",
       "      <td>57B6F75F-CF0A-4225-BAD0-8222A7D4B489</td>\n",
       "    </tr>\n",
       "    <tr>\n",
       "      <th>3346</th>\n",
       "      <td>9946</td>\n",
       "      <td>F764BC86-0CFA-4661-8D84-FFFA8E2B6080</td>\n",
       "      <td>F</td>\n",
       "      <td>1960</td>\n",
       "      <td>CA</td>\n",
       "      <td>1A69F223-8409-4FDC-A26C-114677D2D4C3</td>\n",
       "    </tr>\n",
       "    <tr>\n",
       "      <th>3347</th>\n",
       "      <td>9947</td>\n",
       "      <td>A411D8EA-81A2-4A7F-9EF9-FFFD8ECBE91C</td>\n",
       "      <td>F</td>\n",
       "      <td>1934</td>\n",
       "      <td>NJ</td>\n",
       "      <td>6C808413-0201-4850-B906-5D2A8433A82D</td>\n",
       "    </tr>\n",
       "  </tbody>\n",
       "</table>\n",
       "<p>3348 rows × 6 columns</p>\n",
       "</div>"
      ],
      "text/plain": [
       "      index                           PatientGuid Gender  YearOfBirth State  \\\n",
       "0      6600  027AC271-0852-4DDD-99C2-A74FE50066E0      F         1978    CA   \n",
       "1      6601  C5D4C6FA-A2B3-4CCD-A8D5-A760127CE47D      F         1941    PA   \n",
       "2      6602  1F4D1486-7632-4576-AC92-A760680D1DC9      M         1938    VA   \n",
       "3      6603  0F6AD971-F133-4BD7-B508-A76788D9C46C      M         1952    OH   \n",
       "4      6604  1E23496C-7AAF-4A91-AAF4-A769BD439E67      F         1961    FL   \n",
       "...     ...                                   ...    ...          ...   ...   \n",
       "3343   9943  96C0A4E6-1E3E-497E-9C4E-FFEC0E25AD3A      F         1978    TX   \n",
       "3344   9944  5845977A-3014-4301-92B3-FFF0A2EBBAD2      F         1986    WA   \n",
       "3345   9945  F948403A-ABE6-496D-B37D-FFF9A9D79767      F         1955    CA   \n",
       "3346   9946  F764BC86-0CFA-4661-8D84-FFFA8E2B6080      F         1960    CA   \n",
       "3347   9947  A411D8EA-81A2-4A7F-9EF9-FFFD8ECBE91C      F         1934    NJ   \n",
       "\n",
       "                              PracticeGuid  \n",
       "0     4D27688B-C925-4513-9CF9-8D281ACC6712  \n",
       "1     44C560D5-82B4-436A-9C72-C090F5377FD0  \n",
       "2     9891CFAA-9B40-4120-AE20-3A1D86064898  \n",
       "3     64F84808-F87B-41CF-8E4B-5E0F456359B4  \n",
       "4     BD209FBC-E92C-4392-A085-1DDA42AF37BA  \n",
       "...                                    ...  \n",
       "3343  E7101967-2FF1-4B0F-8129-B0B429D1D15C  \n",
       "3344  EADEC07A-9901-411F-BBE3-04376029E1E8  \n",
       "3345  57B6F75F-CF0A-4225-BAD0-8222A7D4B489  \n",
       "3346  1A69F223-8409-4FDC-A26C-114677D2D4C3  \n",
       "3347  6C808413-0201-4850-B906-5D2A8433A82D  \n",
       "\n",
       "[3348 rows x 6 columns]"
      ]
     },
     "execution_count": 11,
     "metadata": {},
     "output_type": "execute_result"
    }
   ],
   "source": [
    "test_data"
   ]
  },
  {
   "cell_type": "code",
   "execution_count": 12,
   "metadata": {},
   "outputs": [
    {
     "data": {
      "text/plain": [
       "PatientGuid     3271\n",
       "DMIndicator     3271\n",
       "Gender          3271\n",
       "YearOfBirth     3271\n",
       "State           3271\n",
       "PracticeGuid    3271\n",
       "dtype: int64"
      ]
     },
     "execution_count": 12,
     "metadata": {},
     "output_type": "execute_result"
    }
   ],
   "source": [
    "Patient.isnull().sum()"
   ]
  },
  {
   "cell_type": "code",
   "execution_count": 13,
   "metadata": {},
   "outputs": [],
   "source": [
    "Patient.dropna(inplace=True)"
   ]
  },
  {
   "cell_type": "code",
   "execution_count": 14,
   "metadata": {
    "scrolled": true
   },
   "outputs": [
    {
     "name": "stdout",
     "output_type": "stream",
     "text": [
      "<class 'pandas.core.frame.DataFrame'>\n",
      "Int64Index: 6600 entries, 0 to 6599\n",
      "Data columns (total 6 columns):\n",
      " #   Column        Non-Null Count  Dtype  \n",
      "---  ------        --------------  -----  \n",
      " 0   PatientGuid   6600 non-null   object \n",
      " 1   DMIndicator   6600 non-null   float64\n",
      " 2   Gender        6600 non-null   object \n",
      " 3   YearOfBirth   6600 non-null   float64\n",
      " 4   State         6600 non-null   object \n",
      " 5   PracticeGuid  6600 non-null   object \n",
      "dtypes: float64(2), object(4)\n",
      "memory usage: 360.9+ KB\n"
     ]
    }
   ],
   "source": [
    "Patient.info()"
   ]
  },
  {
   "cell_type": "markdown",
   "metadata": {},
   "source": [
    "## 1. Examine Patient_Smoking Table & Remove Duplicates"
   ]
  },
  {
   "cell_type": "code",
   "execution_count": 15,
   "metadata": {
    "scrolled": true
   },
   "outputs": [
    {
     "name": "stdout",
     "output_type": "stream",
     "text": [
      "<class 'pandas.core.frame.DataFrame'>\n",
      "RangeIndex: 4940 entries, 0 to 4939\n",
      "Data columns (total 4 columns):\n",
      " #   Column                    Non-Null Count  Dtype \n",
      "---  ------                    --------------  ----- \n",
      " 0   PatientSmokingStatusGuid  4940 non-null   object\n",
      " 1   PatientGuid               4940 non-null   object\n",
      " 2   SmokingStatusGuid         4940 non-null   object\n",
      " 3   EffectiveYear             4940 non-null   int64 \n",
      "dtypes: int64(1), object(3)\n",
      "memory usage: 154.5+ KB\n"
     ]
    }
   ],
   "source": [
    "Patient_Smoking.info()"
   ]
  },
  {
   "cell_type": "code",
   "execution_count": 16,
   "metadata": {},
   "outputs": [
    {
     "data": {
      "text/plain": [
       "035B92F2-92DC-4F6E-90BF-80479138DB90    6\n",
       "29E1267B-AFCB-44D3-9E25-37042668B1B7    6\n",
       "2C40C416-8EF6-437A-9A8A-8D7E267E3F1B    5\n",
       "E3A3716D-A110-45AE-A696-5B04B5086CE7    5\n",
       "1A631272-6857-4025-AFDD-3A995C7EBEC8    5\n",
       "                                       ..\n",
       "1853B14A-437D-4A24-B340-8FFB261EC368    1\n",
       "AEBD2FEF-0D55-45E4-9EEF-AECF25781C31    1\n",
       "E3809C6C-0BF5-4414-B489-87A34750D218    1\n",
       "A7539B4D-B455-45DC-A6DD-1F34A0251232    1\n",
       "23E8A1CB-D3B2-4FDF-91BC-1C4B12564D94    1\n",
       "Name: PatientGuid, Length: 4427, dtype: int64"
      ]
     },
     "execution_count": 16,
     "metadata": {},
     "output_type": "execute_result"
    }
   ],
   "source": [
    "Patient_Smoking['PatientGuid'].value_counts() # 4427 Patients represented"
   ]
  },
  {
   "cell_type": "code",
   "execution_count": 17,
   "metadata": {},
   "outputs": [],
   "source": [
    "Patient_Smoking.sort_values(by='EffectiveYear',inplace=True)"
   ]
  },
  {
   "cell_type": "code",
   "execution_count": 18,
   "metadata": {},
   "outputs": [],
   "source": [
    "Patient_Smoking.drop_duplicates(subset=['PatientGuid'],keep='last',inplace=True)"
   ]
  },
  {
   "cell_type": "code",
   "execution_count": 19,
   "metadata": {
    "scrolled": false
   },
   "outputs": [
    {
     "data": {
      "text/plain": [
       "5465F577-72DF-4CA9-BBFC-1FF94BD2489A    1\n",
       "C765A529-D748-41FB-A752-3B8D884B43A7    1\n",
       "ADF1859E-33E8-4E25-A727-6F68FBCB9822    1\n",
       "CC99AF65-3386-4BC5-B4A0-945259B24869    1\n",
       "BFDCCBF9-BB0A-4870-9C46-E1BA06C9F6F3    1\n",
       "                                       ..\n",
       "1F8D7B39-0D68-42F5-8DC4-82F35ABF3331    1\n",
       "8BEC8659-BA97-48F4-B8F6-17F735B0BB1E    1\n",
       "C53D1EA1-9B42-48BF-A463-249C10037F6C    1\n",
       "E2E2C782-631F-4DD4-AAE7-8A05AF0A0400    1\n",
       "23E8A1CB-D3B2-4FDF-91BC-1C4B12564D94    1\n",
       "Name: PatientGuid, Length: 4427, dtype: int64"
      ]
     },
     "execution_count": 19,
     "metadata": {},
     "output_type": "execute_result"
    }
   ],
   "source": [
    "Patient_Smoking['PatientGuid'].value_counts()"
   ]
  },
  {
   "cell_type": "code",
   "execution_count": 20,
   "metadata": {},
   "outputs": [],
   "source": [
    "df1 = Patient.merge(Patient_Smoking,on='PatientGuid',how='left')"
   ]
  },
  {
   "cell_type": "code",
   "execution_count": 21,
   "metadata": {},
   "outputs": [],
   "source": [
    "df1 = df1.merge(Smoking_Status,on='SmokingStatusGuid',how='left')"
   ]
  },
  {
   "cell_type": "code",
   "execution_count": 22,
   "metadata": {},
   "outputs": [],
   "source": [
    "test1 = test_data.merge(Patient_Smoking,on='PatientGuid',how='left')"
   ]
  },
  {
   "cell_type": "code",
   "execution_count": 23,
   "metadata": {},
   "outputs": [],
   "source": [
    "test1 = test1.merge(Smoking_Status,on='SmokingStatusGuid',how='left')"
   ]
  },
  {
   "cell_type": "code",
   "execution_count": 24,
   "metadata": {},
   "outputs": [
    {
     "name": "stdout",
     "output_type": "stream",
     "text": [
      "<class 'pandas.core.frame.DataFrame'>\n",
      "Int64Index: 3348 entries, 0 to 3347\n",
      "Data columns (total 11 columns):\n",
      " #   Column                    Non-Null Count  Dtype  \n",
      "---  ------                    --------------  -----  \n",
      " 0   index                     3348 non-null   int64  \n",
      " 1   PatientGuid               3348 non-null   object \n",
      " 2   Gender                    3348 non-null   object \n",
      " 3   YearOfBirth               3348 non-null   int64  \n",
      " 4   State                     3348 non-null   object \n",
      " 5   PracticeGuid              3348 non-null   object \n",
      " 6   PatientSmokingStatusGuid  1506 non-null   object \n",
      " 7   SmokingStatusGuid         1506 non-null   object \n",
      " 8   EffectiveYear             1506 non-null   float64\n",
      " 9   Description               1506 non-null   object \n",
      " 10  NISTcode                  1506 non-null   float64\n",
      "dtypes: float64(2), int64(2), object(7)\n",
      "memory usage: 313.9+ KB\n"
     ]
    }
   ],
   "source": [
    "test1.info()"
   ]
  },
  {
   "cell_type": "code",
   "execution_count": 25,
   "metadata": {
    "scrolled": true
   },
   "outputs": [
    {
     "name": "stdout",
     "output_type": "stream",
     "text": [
      "<class 'pandas.core.frame.DataFrame'>\n",
      "Int64Index: 6600 entries, 0 to 6599\n",
      "Data columns (total 11 columns):\n",
      " #   Column                    Non-Null Count  Dtype  \n",
      "---  ------                    --------------  -----  \n",
      " 0   PatientGuid               6600 non-null   object \n",
      " 1   DMIndicator               6600 non-null   float64\n",
      " 2   Gender                    6600 non-null   object \n",
      " 3   YearOfBirth               6600 non-null   float64\n",
      " 4   State                     6600 non-null   object \n",
      " 5   PracticeGuid              6600 non-null   object \n",
      " 6   PatientSmokingStatusGuid  2921 non-null   object \n",
      " 7   SmokingStatusGuid         2921 non-null   object \n",
      " 8   EffectiveYear             2921 non-null   float64\n",
      " 9   Description               2921 non-null   object \n",
      " 10  NISTcode                  2921 non-null   float64\n",
      "dtypes: float64(4), object(7)\n",
      "memory usage: 618.8+ KB\n"
     ]
    }
   ],
   "source": [
    "df1.info()"
   ]
  },
  {
   "cell_type": "code",
   "execution_count": 26,
   "metadata": {
    "scrolled": false
   },
   "outputs": [
    {
     "data": {
      "text/plain": [
       "0 cigarettes per day (non-smoker or less than 100 in lifetime)    1240\n",
       "Not a current tobacco user                                         761\n",
       "0 cigarettes per day (previous smoker)                             446\n",
       "Up to 1 pack per day                                               253\n",
       "Few (1-3) cigarettes per day                                        91\n",
       "1-2 packs per day                                                   60\n",
       "Current Tobacco user                                                47\n",
       "Current status unknown                                              14\n",
       "2 or more packs per day                                              9\n",
       "Name: Description, dtype: int64"
      ]
     },
     "execution_count": 26,
     "metadata": {},
     "output_type": "execute_result"
    }
   ],
   "source": [
    "df1['Description'].value_counts()"
   ]
  },
  {
   "cell_type": "code",
   "execution_count": 27,
   "metadata": {
    "scrolled": true
   },
   "outputs": [
    {
     "data": {
      "text/plain": [
       "0 cigarettes per day (non-smoker or less than 100 in lifetime)    223\n",
       "Not a current tobacco user                                        182\n",
       "0 cigarettes per day (previous smoker)                            119\n",
       "Up to 1 pack per day                                               43\n",
       "Few (1-3) cigarettes per day                                       13\n",
       "1-2 packs per day                                                  11\n",
       "Current Tobacco user                                                5\n",
       "2 or more packs per day                                             2\n",
       "Current status unknown                                              1\n",
       "Name: Description, dtype: int64"
      ]
     },
     "execution_count": 27,
     "metadata": {},
     "output_type": "execute_result"
    }
   ],
   "source": [
    "df1[df1['DMIndicator']==1]['Description'].value_counts()"
   ]
  },
  {
   "cell_type": "code",
   "execution_count": 28,
   "metadata": {},
   "outputs": [
    {
     "data": {
      "text/plain": [
       "0 cigarettes per day (non-smoker or less than 100 in lifetime)    1017\n",
       "Not a current tobacco user                                         579\n",
       "0 cigarettes per day (previous smoker)                             327\n",
       "Up to 1 pack per day                                               210\n",
       "Few (1-3) cigarettes per day                                        78\n",
       "1-2 packs per day                                                   49\n",
       "Current Tobacco user                                                42\n",
       "Current status unknown                                              13\n",
       "2 or more packs per day                                              7\n",
       "Name: Description, dtype: int64"
      ]
     },
     "execution_count": 28,
     "metadata": {},
     "output_type": "execute_result"
    }
   ],
   "source": [
    "df1[df1['DMIndicator']==0]['Description'].value_counts()"
   ]
  },
  {
   "cell_type": "code",
   "execution_count": 29,
   "metadata": {
    "scrolled": true
   },
   "outputs": [
    {
     "data": {
      "text/html": [
       "<div>\n",
       "<style scoped>\n",
       "    .dataframe tbody tr th:only-of-type {\n",
       "        vertical-align: middle;\n",
       "    }\n",
       "\n",
       "    .dataframe tbody tr th {\n",
       "        vertical-align: top;\n",
       "    }\n",
       "\n",
       "    .dataframe thead th {\n",
       "        text-align: right;\n",
       "    }\n",
       "</style>\n",
       "<table border=\"1\" class=\"dataframe\">\n",
       "  <thead>\n",
       "    <tr style=\"text-align: right;\">\n",
       "      <th></th>\n",
       "      <th>DMIndicator</th>\n",
       "    </tr>\n",
       "    <tr>\n",
       "      <th>Description</th>\n",
       "      <th></th>\n",
       "    </tr>\n",
       "  </thead>\n",
       "  <tbody>\n",
       "    <tr>\n",
       "      <th>0 cigarettes per day (previous smoker)</th>\n",
       "      <td>0.266816</td>\n",
       "    </tr>\n",
       "    <tr>\n",
       "      <th>Not a current tobacco user</th>\n",
       "      <td>0.239159</td>\n",
       "    </tr>\n",
       "    <tr>\n",
       "      <th>2 or more packs per day</th>\n",
       "      <td>0.222222</td>\n",
       "    </tr>\n",
       "    <tr>\n",
       "      <th>1-2 packs per day</th>\n",
       "      <td>0.183333</td>\n",
       "    </tr>\n",
       "    <tr>\n",
       "      <th>0 cigarettes per day (non-smoker or less than 100 in lifetime)</th>\n",
       "      <td>0.179839</td>\n",
       "    </tr>\n",
       "    <tr>\n",
       "      <th>Up to 1 pack per day</th>\n",
       "      <td>0.169960</td>\n",
       "    </tr>\n",
       "    <tr>\n",
       "      <th>Few (1-3) cigarettes per day</th>\n",
       "      <td>0.142857</td>\n",
       "    </tr>\n",
       "    <tr>\n",
       "      <th>Current Tobacco user</th>\n",
       "      <td>0.106383</td>\n",
       "    </tr>\n",
       "    <tr>\n",
       "      <th>Current status unknown</th>\n",
       "      <td>0.071429</td>\n",
       "    </tr>\n",
       "  </tbody>\n",
       "</table>\n",
       "</div>"
      ],
      "text/plain": [
       "                                                    DMIndicator\n",
       "Description                                                    \n",
       "0 cigarettes per day (previous smoker)                 0.266816\n",
       "Not a current tobacco user                             0.239159\n",
       "2 or more packs per day                                0.222222\n",
       "1-2 packs per day                                      0.183333\n",
       "0 cigarettes per day (non-smoker or less than 1...     0.179839\n",
       "Up to 1 pack per day                                   0.169960\n",
       "Few (1-3) cigarettes per day                           0.142857\n",
       "Current Tobacco user                                   0.106383\n",
       "Current status unknown                                 0.071429"
      ]
     },
     "execution_count": 29,
     "metadata": {},
     "output_type": "execute_result"
    }
   ],
   "source": [
    "df1[['Description','DMIndicator']].groupby(['Description']).mean().sort_values(by='DMIndicator',ascending=False)"
   ]
  },
  {
   "cell_type": "code",
   "execution_count": 30,
   "metadata": {},
   "outputs": [
    {
     "data": {
      "text/plain": [
       "(array([0, 1, 2, 3, 4, 5, 6, 7, 8]),\n",
       " <a list of 9 Text major ticklabel objects>)"
      ]
     },
     "execution_count": 30,
     "metadata": {},
     "output_type": "execute_result"
    },
    {
     "data": {
      "image/png": "[encoded data removed]",
      "text/plain": [
       "<Figure size 432x288 with 1 Axes>"
      ]
     },
     "metadata": {
      "needs_background": "light"
     },
     "output_type": "display_data"
    }
   ],
   "source": [
    "sns.countplot(x=df1['Description'],hue=df1['DMIndicator'])\n",
    "\n",
    "plt.xticks(\n",
    "    rotation=45, \n",
    "    horizontalalignment='right',\n",
    "    fontweight='light',\n",
    "    fontsize='x-large'  \n",
    ")"
   ]
  },
  {
   "cell_type": "code",
   "execution_count": 31,
   "metadata": {},
   "outputs": [],
   "source": [
    "map1 = {'Current status unknown':1,'0 cigarettes per day (non-smoker or less than 100 in lifetime)':0,'Not a current tobacco user':0,'0 cigarettes per day (previous smoker)':0,'Few (1-3) cigarettes per day':1,'Up to 1 pack per day':2,'1-2 packs per day':3,'2 or more packs per day':4,'Current Tobacco user':2,}"
   ]
  },
  {
   "cell_type": "code",
   "execution_count": 32,
   "metadata": {},
   "outputs": [
    {
     "data": {
      "text/plain": [
       "{'Current status unknown': 1,\n",
       " '0 cigarettes per day (non-smoker or less than 100 in lifetime)': 0,\n",
       " 'Not a current tobacco user': 0,\n",
       " '0 cigarettes per day (previous smoker)': 0,\n",
       " 'Few (1-3) cigarettes per day': 1,\n",
       " 'Up to 1 pack per day': 2,\n",
       " '1-2 packs per day': 3,\n",
       " '2 or more packs per day': 4,\n",
       " 'Current Tobacco user': 2}"
      ]
     },
     "execution_count": 32,
     "metadata": {},
     "output_type": "execute_result"
    }
   ],
   "source": [
    "map1"
   ]
  },
  {
   "cell_type": "code",
   "execution_count": 33,
   "metadata": {},
   "outputs": [],
   "source": [
    "for dataset in df1:\n",
    "    df1['Smoking_Ordinal'] = df1['Description'].map(map1)"
   ]
  },
  {
   "cell_type": "code",
   "execution_count": 34,
   "metadata": {},
   "outputs": [],
   "source": [
    "for dataset in test1:\n",
    "    test1['Smoking_Ordinal'] = test1['Description'].map(map1)"
   ]
  },
  {
   "cell_type": "code",
   "execution_count": 35,
   "metadata": {
    "scrolled": true
   },
   "outputs": [],
   "source": [
    "df1['Smoking_Ordinal'].fillna(0,inplace=True)"
   ]
  },
  {
   "cell_type": "code",
   "execution_count": 36,
   "metadata": {},
   "outputs": [
    {
     "data": {
      "text/plain": [
       "0.0    6126\n",
       "2.0     300\n",
       "1.0     105\n",
       "3.0      60\n",
       "4.0       9\n",
       "Name: Smoking_Ordinal, dtype: int64"
      ]
     },
     "execution_count": 36,
     "metadata": {},
     "output_type": "execute_result"
    }
   ],
   "source": [
    "df1['Smoking_Ordinal'].value_counts()"
   ]
  },
  {
   "cell_type": "code",
   "execution_count": 37,
   "metadata": {},
   "outputs": [],
   "source": [
    "test1['Smoking_Ordinal'].fillna(0,inplace=True)"
   ]
  },
  {
   "cell_type": "code",
   "execution_count": 38,
   "metadata": {},
   "outputs": [
    {
     "data": {
      "text/plain": [
       "0.0    3096\n",
       "2.0     178\n",
       "1.0      43\n",
       "3.0      26\n",
       "4.0       5\n",
       "Name: Smoking_Ordinal, dtype: int64"
      ]
     },
     "execution_count": 38,
     "metadata": {},
     "output_type": "execute_result"
    }
   ],
   "source": [
    "test1['Smoking_Ordinal'].value_counts()"
   ]
  },
  {
   "cell_type": "code",
   "execution_count": 39,
   "metadata": {
    "scrolled": true
   },
   "outputs": [
    {
     "name": "stdout",
     "output_type": "stream",
     "text": [
      "<class 'pandas.core.frame.DataFrame'>\n",
      "Int64Index: 6600 entries, 0 to 6599\n",
      "Data columns (total 12 columns):\n",
      " #   Column                    Non-Null Count  Dtype  \n",
      "---  ------                    --------------  -----  \n",
      " 0   PatientGuid               6600 non-null   object \n",
      " 1   DMIndicator               6600 non-null   float64\n",
      " 2   Gender                    6600 non-null   object \n",
      " 3   YearOfBirth               6600 non-null   float64\n",
      " 4   State                     6600 non-null   object \n",
      " 5   PracticeGuid              6600 non-null   object \n",
      " 6   PatientSmokingStatusGuid  2921 non-null   object \n",
      " 7   SmokingStatusGuid         2921 non-null   object \n",
      " 8   EffectiveYear             2921 non-null   float64\n",
      " 9   Description               2921 non-null   object \n",
      " 10  NISTcode                  2921 non-null   float64\n",
      " 11  Smoking_Ordinal           6600 non-null   float64\n",
      "dtypes: float64(5), object(7)\n",
      "memory usage: 990.3+ KB\n"
     ]
    }
   ],
   "source": [
    "df1.info()"
   ]
  },
  {
   "cell_type": "code",
   "execution_count": 40,
   "metadata": {},
   "outputs": [
    {
     "name": "stdout",
     "output_type": "stream",
     "text": [
      "<class 'pandas.core.frame.DataFrame'>\n",
      "Int64Index: 3348 entries, 0 to 3347\n",
      "Data columns (total 12 columns):\n",
      " #   Column                    Non-Null Count  Dtype  \n",
      "---  ------                    --------------  -----  \n",
      " 0   index                     3348 non-null   int64  \n",
      " 1   PatientGuid               3348 non-null   object \n",
      " 2   Gender                    3348 non-null   object \n",
      " 3   YearOfBirth               3348 non-null   int64  \n",
      " 4   State                     3348 non-null   object \n",
      " 5   PracticeGuid              3348 non-null   object \n",
      " 6   PatientSmokingStatusGuid  1506 non-null   object \n",
      " 7   SmokingStatusGuid         1506 non-null   object \n",
      " 8   EffectiveYear             1506 non-null   float64\n",
      " 9   Description               1506 non-null   object \n",
      " 10  NISTcode                  1506 non-null   float64\n",
      " 11  Smoking_Ordinal           3348 non-null   float64\n",
      "dtypes: float64(3), int64(2), object(7)\n",
      "memory usage: 340.0+ KB\n"
     ]
    }
   ],
   "source": [
    "test1.info()"
   ]
  },
  {
   "cell_type": "code",
   "execution_count": 41,
   "metadata": {},
   "outputs": [],
   "source": [
    "Patient['Smoking'] = df1['Smoking_Ordinal']"
   ]
  },
  {
   "cell_type": "code",
   "execution_count": 42,
   "metadata": {
    "scrolled": true
   },
   "outputs": [
    {
     "name": "stdout",
     "output_type": "stream",
     "text": [
      "<class 'pandas.core.frame.DataFrame'>\n",
      "Int64Index: 6600 entries, 0 to 6599\n",
      "Data columns (total 7 columns):\n",
      " #   Column        Non-Null Count  Dtype  \n",
      "---  ------        --------------  -----  \n",
      " 0   PatientGuid   6600 non-null   object \n",
      " 1   DMIndicator   6600 non-null   float64\n",
      " 2   Gender        6600 non-null   object \n",
      " 3   YearOfBirth   6600 non-null   float64\n",
      " 4   State         6600 non-null   object \n",
      " 5   PracticeGuid  6600 non-null   object \n",
      " 6   Smoking       6600 non-null   float64\n",
      "dtypes: float64(3), object(4)\n",
      "memory usage: 412.5+ KB\n"
     ]
    }
   ],
   "source": [
    "Patient.info()"
   ]
  },
  {
   "cell_type": "code",
   "execution_count": 43,
   "metadata": {},
   "outputs": [],
   "source": [
    "test_data['Smoking'] = test1['Smoking_Ordinal']"
   ]
  },
  {
   "cell_type": "code",
   "execution_count": 44,
   "metadata": {},
   "outputs": [
    {
     "name": "stdout",
     "output_type": "stream",
     "text": [
      "<class 'pandas.core.frame.DataFrame'>\n",
      "RangeIndex: 3348 entries, 0 to 3347\n",
      "Data columns (total 7 columns):\n",
      " #   Column        Non-Null Count  Dtype  \n",
      "---  ------        --------------  -----  \n",
      " 0   index         3348 non-null   int64  \n",
      " 1   PatientGuid   3348 non-null   object \n",
      " 2   Gender        3348 non-null   object \n",
      " 3   YearOfBirth   3348 non-null   int64  \n",
      " 4   State         3348 non-null   object \n",
      " 5   PracticeGuid  3348 non-null   object \n",
      " 6   Smoking       3348 non-null   float64\n",
      "dtypes: float64(1), int64(2), object(4)\n",
      "memory usage: 183.2+ KB\n"
     ]
    }
   ],
   "source": [
    "test_data.info()"
   ]
  },
  {
   "cell_type": "code",
   "execution_count": 45,
   "metadata": {},
   "outputs": [
    {
     "data": {
      "text/plain": [
       "0.0    3096\n",
       "2.0     178\n",
       "1.0      43\n",
       "3.0      26\n",
       "4.0       5\n",
       "Name: Smoking, dtype: int64"
      ]
     },
     "execution_count": 45,
     "metadata": {},
     "output_type": "execute_result"
    }
   ],
   "source": [
    "test_data['Smoking'].value_counts()"
   ]
  },
  {
   "cell_type": "markdown",
   "metadata": {},
   "source": [
    "## 2.Examine BMI Score"
   ]
  },
  {
   "cell_type": "code",
   "execution_count": 46,
   "metadata": {
    "scrolled": false
   },
   "outputs": [
    {
     "name": "stdout",
     "output_type": "stream",
     "text": [
      "<class 'pandas.core.frame.DataFrame'>\n",
      "RangeIndex: 131031 entries, 0 to 131030\n",
      "Data columns (total 13 columns):\n",
      " #   Column              Non-Null Count   Dtype  \n",
      "---  ------              --------------   -----  \n",
      " 0   TranscriptGuid      131031 non-null  object \n",
      " 1   PatientGuid         131031 non-null  object \n",
      " 2   VisitYear           131031 non-null  int64  \n",
      " 3   Height              60048 non-null   float64\n",
      " 4   Weight              131031 non-null  float64\n",
      " 5   BMI                 131031 non-null  float64\n",
      " 6   SystolicBP          85580 non-null   float64\n",
      " 7   DiastolicBP         85580 non-null   float64\n",
      " 8   RespiratoryRate     51192 non-null   float64\n",
      " 9   HeartRate           0 non-null       float64\n",
      " 10  Temperature         50034 non-null   float64\n",
      " 11  PhysicianSpecialty  130850 non-null  object \n",
      " 12  UserGuid            131031 non-null  object \n",
      "dtypes: float64(8), int64(1), object(4)\n",
      "memory usage: 13.0+ MB\n"
     ]
    }
   ],
   "source": [
    "Transcript = pd.read_csv('training_SyncTranscript.csv')\n",
    "Transcript.info()"
   ]
  },
  {
   "cell_type": "code",
   "execution_count": 47,
   "metadata": {
    "scrolled": true
   },
   "outputs": [
    {
     "data": {
      "text/plain": [
       "65515         0.000\n",
       "74515         0.000\n",
       "74513         0.000\n",
       "74512         0.000\n",
       "74510         0.000\n",
       "            ...    \n",
       "14105      5595.880\n",
       "4829       5811.034\n",
       "58204     45850.839\n",
       "64540    149739.000\n",
       "41371    549746.000\n",
       "Name: BMI, Length: 131031, dtype: float64"
      ]
     },
     "execution_count": 47,
     "metadata": {},
     "output_type": "execute_result"
    }
   ],
   "source": [
    "Transcript['BMI'].sort_values()"
   ]
  },
  {
   "cell_type": "code",
   "execution_count": 48,
   "metadata": {
    "scrolled": true
   },
   "outputs": [],
   "source": [
    "Transcript = Transcript[(Transcript['BMI']<60) & (Transcript['BMI']>10)] "
   ]
  },
  {
   "cell_type": "code",
   "execution_count": 49,
   "metadata": {},
   "outputs": [],
   "source": [
    "Transcript.sort_values(by='VisitYear',inplace=True)"
   ]
  },
  {
   "cell_type": "code",
   "execution_count": 50,
   "metadata": {},
   "outputs": [],
   "source": [
    "Transcript.drop_duplicates(subset=['PatientGuid'],inplace=True,keep='last')"
   ]
  },
  {
   "cell_type": "code",
   "execution_count": 51,
   "metadata": {
    "scrolled": true
   },
   "outputs": [
    {
     "data": {
      "text/plain": [
       "E056B70F-608B-493F-83F2-B6B2BCCC85B3    1\n",
       "8A8D5B99-4E66-4C51-8D44-8BCC54FDDD7F    1\n",
       "3E45DA32-F8D0-466D-AEC3-6C8DBEFE00EC    1\n",
       "6EBA33BF-DE2C-4851-B251-BA2580BB8756    1\n",
       "69297D95-53A5-4D4C-B841-BB3AB9164B7F    1\n",
       "                                       ..\n",
       "4CD1741C-3377-4951-AB5E-4F1C17C3BC1D    1\n",
       "B4641000-4571-42C3-B12A-FE792F7A8900    1\n",
       "226CD885-0721-4982-ADC9-4233C8FFC1E9    1\n",
       "0B5A4355-3C50-404E-B8A2-784DD72C2FA0    1\n",
       "23E8A1CB-D3B2-4FDF-91BC-1C4B12564D94    1\n",
       "Name: PatientGuid, Length: 9947, dtype: int64"
      ]
     },
     "execution_count": 51,
     "metadata": {},
     "output_type": "execute_result"
    }
   ],
   "source": [
    "Transcript['PatientGuid'].value_counts()"
   ]
  },
  {
   "cell_type": "code",
   "execution_count": 52,
   "metadata": {},
   "outputs": [
    {
     "data": {
      "text/plain": [
       "0"
      ]
     },
     "execution_count": 52,
     "metadata": {},
     "output_type": "execute_result"
    }
   ],
   "source": [
    "Transcript['BMI'].isnull().sum()"
   ]
  },
  {
   "cell_type": "code",
   "execution_count": 53,
   "metadata": {
    "code_folding": []
   },
   "outputs": [],
   "source": [
    "for dataset in Transcript:\n",
    "    Transcript.loc[Transcript['BMI']<=18.5,'BMI_New']=0\n",
    "    Transcript.loc[(Transcript['BMI']>18.5) & (Transcript['BMI']<=25),'BMI_New']=1\n",
    "    Transcript.loc[(Transcript['BMI']>25) & (Transcript['BMI']<=30),'BMI_New']=2\n",
    "    Transcript.loc[(Transcript['BMI']>30) & (Transcript['BMI']<=40),'BMI_New']=3\n",
    "    Transcript.loc[Transcript['BMI']>40,'BMI_New']=4"
   ]
  },
  {
   "cell_type": "code",
   "execution_count": 54,
   "metadata": {},
   "outputs": [],
   "source": [
    "Transcript.loc[Transcript['BMI']<=18.5,'BMI_New']=0\n",
    "Transcript.loc[(Transcript['BMI']>18.5) & (Transcript['BMI']<=25),'BMI_New']=1\n",
    "Transcript.loc[(Transcript['BMI']>25) & (Transcript['BMI']<=30),'BMI_New']=2\n",
    "Transcript.loc[(Transcript['BMI']>30) & (Transcript['BMI']<=40),'BMI_New']=3\n",
    "Transcript.loc[Transcript['BMI']>40,'BMI_New']=4"
   ]
  },
  {
   "cell_type": "code",
   "execution_count": 55,
   "metadata": {
    "scrolled": false
   },
   "outputs": [
    {
     "data": {
      "text/plain": [
       "3.0    3359\n",
       "2.0    3257\n",
       "1.0    2670\n",
       "4.0     509\n",
       "0.0     152\n",
       "Name: BMI_New, dtype: int64"
      ]
     },
     "execution_count": 55,
     "metadata": {},
     "output_type": "execute_result"
    }
   ],
   "source": [
    "Transcript['BMI_New'].value_counts()"
   ]
  },
  {
   "cell_type": "code",
   "execution_count": 56,
   "metadata": {},
   "outputs": [],
   "source": [
    "df2 = Patient.merge(Transcript,on='PatientGuid',how='left')"
   ]
  },
  {
   "cell_type": "code",
   "execution_count": 57,
   "metadata": {
    "scrolled": false
   },
   "outputs": [
    {
     "data": {
      "text/plain": [
       "5465F577-72DF-4CA9-BBFC-1FF94BD2489A    1\n",
       "35FA4950-1955-4712-896F-2ABCDB2160A9    1\n",
       "E926346B-2BF0-4AB9-9C00-3877A300D8DD    1\n",
       "2C893D4C-7B19-44AB-9DE9-9C4BCD7D4464    1\n",
       "3C5D57F1-333F-42FD-BEA8-676401F81607    1\n",
       "                                       ..\n",
       "613C775A-7B8D-4BEE-9A6A-3113FAE14836    1\n",
       "1781EA1E-C4BC-4B82-8A94-31CBEDAF7162    1\n",
       "5A5FB3C4-F946-490C-B19A-A4F5DC601338    1\n",
       "15769CC4-3C56-4748-AC7B-2120D04B803B    1\n",
       "23E8A1CB-D3B2-4FDF-91BC-1C4B12564D94    1\n",
       "Name: PatientGuid, Length: 6600, dtype: int64"
      ]
     },
     "execution_count": 57,
     "metadata": {},
     "output_type": "execute_result"
    }
   ],
   "source": [
    "df2['PatientGuid'].value_counts()"
   ]
  },
  {
   "cell_type": "code",
   "execution_count": 58,
   "metadata": {},
   "outputs": [],
   "source": [
    "Patient['BMI'] = df2['BMI_New']"
   ]
  },
  {
   "cell_type": "code",
   "execution_count": 59,
   "metadata": {},
   "outputs": [],
   "source": [
    "Patient['BMI'].fillna(1,inplace=True)"
   ]
  },
  {
   "cell_type": "code",
   "execution_count": 60,
   "metadata": {},
   "outputs": [
    {
     "data": {
      "text/plain": [
       "6599    0.0\n",
       "6080    0.0\n",
       "3509    0.0\n",
       "2053    0.0\n",
       "2054    0.0\n",
       "       ... \n",
       "3075    4.0\n",
       "1053    4.0\n",
       "254     4.0\n",
       "5771    4.0\n",
       "4052    4.0\n",
       "Name: BMI, Length: 6600, dtype: float64"
      ]
     },
     "execution_count": 60,
     "metadata": {},
     "output_type": "execute_result"
    }
   ],
   "source": [
    "Patient['BMI'].sort_values()"
   ]
  },
  {
   "cell_type": "code",
   "execution_count": 61,
   "metadata": {},
   "outputs": [],
   "source": [
    "test2 = test_data.merge(Transcript,on='PatientGuid',how='left')"
   ]
  },
  {
   "cell_type": "code",
   "execution_count": 62,
   "metadata": {},
   "outputs": [],
   "source": [
    "test_data['BMI'] = test2['BMI_New']"
   ]
  },
  {
   "cell_type": "code",
   "execution_count": 63,
   "metadata": {},
   "outputs": [
    {
     "name": "stdout",
     "output_type": "stream",
     "text": [
      "<class 'pandas.core.frame.DataFrame'>\n",
      "RangeIndex: 3348 entries, 0 to 3347\n",
      "Data columns (total 8 columns):\n",
      " #   Column        Non-Null Count  Dtype  \n",
      "---  ------        --------------  -----  \n",
      " 0   index         3348 non-null   int64  \n",
      " 1   PatientGuid   3348 non-null   object \n",
      " 2   Gender        3348 non-null   object \n",
      " 3   YearOfBirth   3348 non-null   int64  \n",
      " 4   State         3348 non-null   object \n",
      " 5   PracticeGuid  3348 non-null   object \n",
      " 6   Smoking       3348 non-null   float64\n",
      " 7   BMI           3348 non-null   float64\n",
      "dtypes: float64(2), int64(2), object(4)\n",
      "memory usage: 209.4+ KB\n"
     ]
    }
   ],
   "source": [
    "test_data.info()"
   ]
  },
  {
   "cell_type": "markdown",
   "metadata": {},
   "source": [
    "## 3.Create Age Band"
   ]
  },
  {
   "cell_type": "code",
   "execution_count": 64,
   "metadata": {},
   "outputs": [
    {
     "data": {
      "text/html": [
       "<div>\n",
       "<style scoped>\n",
       "    .dataframe tbody tr th:only-of-type {\n",
       "        vertical-align: middle;\n",
       "    }\n",
       "\n",
       "    .dataframe tbody tr th {\n",
       "        vertical-align: top;\n",
       "    }\n",
       "\n",
       "    .dataframe thead th {\n",
       "        text-align: right;\n",
       "    }\n",
       "</style>\n",
       "<table border=\"1\" class=\"dataframe\">\n",
       "  <thead>\n",
       "    <tr style=\"text-align: right;\">\n",
       "      <th></th>\n",
       "      <th>YearOfBirthBand</th>\n",
       "      <th>DMIndicator</th>\n",
       "    </tr>\n",
       "  </thead>\n",
       "  <tbody>\n",
       "    <tr>\n",
       "      <th>0</th>\n",
       "      <td>(1921.928, 1931.0]</td>\n",
       "      <td>0.276000</td>\n",
       "    </tr>\n",
       "    <tr>\n",
       "      <th>1</th>\n",
       "      <td>(1931.0, 1940.0]</td>\n",
       "      <td>0.351166</td>\n",
       "    </tr>\n",
       "    <tr>\n",
       "      <th>2</th>\n",
       "      <td>(1940.0, 1949.0]</td>\n",
       "      <td>0.293358</td>\n",
       "    </tr>\n",
       "    <tr>\n",
       "      <th>3</th>\n",
       "      <td>(1949.0, 1958.0]</td>\n",
       "      <td>0.229412</td>\n",
       "    </tr>\n",
       "    <tr>\n",
       "      <th>4</th>\n",
       "      <td>(1958.0, 1967.0]</td>\n",
       "      <td>0.161965</td>\n",
       "    </tr>\n",
       "    <tr>\n",
       "      <th>5</th>\n",
       "      <td>(1967.0, 1976.0]</td>\n",
       "      <td>0.086034</td>\n",
       "    </tr>\n",
       "    <tr>\n",
       "      <th>6</th>\n",
       "      <td>(1976.0, 1985.0]</td>\n",
       "      <td>0.031390</td>\n",
       "    </tr>\n",
       "    <tr>\n",
       "      <th>7</th>\n",
       "      <td>(1985.0, 1994.0]</td>\n",
       "      <td>0.011521</td>\n",
       "    </tr>\n",
       "  </tbody>\n",
       "</table>\n",
       "</div>"
      ],
      "text/plain": [
       "      YearOfBirthBand  DMIndicator\n",
       "0  (1921.928, 1931.0]     0.276000\n",
       "1    (1931.0, 1940.0]     0.351166\n",
       "2    (1940.0, 1949.0]     0.293358\n",
       "3    (1949.0, 1958.0]     0.229412\n",
       "4    (1958.0, 1967.0]     0.161965\n",
       "5    (1967.0, 1976.0]     0.086034\n",
       "6    (1976.0, 1985.0]     0.031390\n",
       "7    (1985.0, 1994.0]     0.011521"
      ]
     },
     "execution_count": 64,
     "metadata": {},
     "output_type": "execute_result"
    }
   ],
   "source": [
    "Patient['YearOfBirthBand'] = pd.cut(Patient['YearOfBirth'],8)\n",
    "Patient[['YearOfBirthBand','DMIndicator']].groupby(['YearOfBirthBand'],as_index=False).mean().sort_values(by='YearOfBirthBand')"
   ]
  },
  {
   "cell_type": "code",
   "execution_count": 65,
   "metadata": {},
   "outputs": [],
   "source": [
    "for dataset in Patient:\n",
    "    Patient.loc[Patient['YearOfBirth']<1930,'Age']=0\n",
    "    Patient.loc[(Patient['YearOfBirth']>=1930) & (Patient['YearOfBirth']<1940),'Age']=1\n",
    "    Patient.loc[(Patient['YearOfBirth']>=1940) & (Patient['YearOfBirth']<1950),'Age']=2\n",
    "    Patient.loc[(Patient['YearOfBirth']>=1950) & (Patient['YearOfBirth']<1960),'Age']=3\n",
    "    Patient.loc[(Patient['YearOfBirth']>=1960) & (Patient['YearOfBirth']<1970),'Age']=4\n",
    "    Patient.loc[(Patient['YearOfBirth']>=1970) & (Patient['YearOfBirth']<1980),'Age']=5\n",
    "    Patient.loc[(Patient['YearOfBirth']>=1980) & (Patient['YearOfBirth']<1990),'Age']=6\n",
    "    Patient.loc[Patient['YearOfBirth']>=1990,'Age']=7"
   ]
  },
  {
   "cell_type": "code",
   "execution_count": 66,
   "metadata": {},
   "outputs": [],
   "source": [
    "for dataset in test_data:\n",
    "    test_data.loc[test_data['YearOfBirth']<1930,'Age']=0\n",
    "    test_data.loc[(test_data['YearOfBirth']>=1930) & (test_data['YearOfBirth']<1940),'Age']=1\n",
    "    test_data.loc[(test_data['YearOfBirth']>=1940) & (test_data['YearOfBirth']<1950),'Age']=2\n",
    "    test_data.loc[(test_data['YearOfBirth']>=1950) & (test_data['YearOfBirth']<1960),'Age']=3\n",
    "    test_data.loc[(test_data['YearOfBirth']>=1960) & (test_data['YearOfBirth']<1970),'Age']=4\n",
    "    test_data.loc[(test_data['YearOfBirth']>=1970) & (test_data['YearOfBirth']<1980),'Age']=5\n",
    "    test_data.loc[(test_data['YearOfBirth']>=1980) & (test_data['YearOfBirth']<=1990),'Age']=6\n",
    "    test_data.loc[test_data['YearOfBirth']>1990,'Age']=7"
   ]
  },
  {
   "cell_type": "markdown",
   "metadata": {},
   "source": [
    "## 4.Create Gender Mapping"
   ]
  },
  {
   "cell_type": "code",
   "execution_count": 67,
   "metadata": {},
   "outputs": [
    {
     "data": {
      "text/plain": [
       "<matplotlib.axes._subplots.AxesSubplot at 0x7f9865173c40>"
      ]
     },
     "execution_count": 67,
     "metadata": {},
     "output_type": "execute_result"
    },
    {
     "data": {
      "image/png": "[encoded data removed]",
      "text/plain": [
       "<Figure size 432x288 with 1 Axes>"
      ]
     },
     "metadata": {
      "needs_background": "light"
     },
     "output_type": "display_data"
    }
   ],
   "source": [
    "sns.countplot(x=Patient['DMIndicator'])\n",
    "\n",
    "# The data is biased towards datapoints having outcome values as 0"
   ]
  },
  {
   "cell_type": "code",
   "execution_count": 68,
   "metadata": {},
   "outputs": [
    {
     "data": {
      "text/plain": [
       "<matplotlib.axes._subplots.AxesSubplot at 0x7f986683bcd0>"
      ]
     },
     "execution_count": 68,
     "metadata": {},
     "output_type": "execute_result"
    },
    {
     "data": {
      "image/png": "[encoded data removed]",
      "text/plain": [
       "<Figure size 432x288 with 1 Axes>"
      ]
     },
     "metadata": {
      "needs_background": "light"
     },
     "output_type": "display_data"
    }
   ],
   "source": [
    "sns.countplot(x=Patient['Gender'],hue=Patient['DMIndicator'])"
   ]
  },
  {
   "cell_type": "code",
   "execution_count": 69,
   "metadata": {},
   "outputs": [
    {
     "data": {
      "text/html": [
       "<div>\n",
       "<style scoped>\n",
       "    .dataframe tbody tr th:only-of-type {\n",
       "        vertical-align: middle;\n",
       "    }\n",
       "\n",
       "    .dataframe tbody tr th {\n",
       "        vertical-align: top;\n",
       "    }\n",
       "\n",
       "    .dataframe thead th {\n",
       "        text-align: right;\n",
       "    }\n",
       "</style>\n",
       "<table border=\"1\" class=\"dataframe\">\n",
       "  <thead>\n",
       "    <tr style=\"text-align: right;\">\n",
       "      <th></th>\n",
       "      <th>DMIndicator</th>\n",
       "    </tr>\n",
       "    <tr>\n",
       "      <th>Gender</th>\n",
       "      <th></th>\n",
       "    </tr>\n",
       "  </thead>\n",
       "  <tbody>\n",
       "    <tr>\n",
       "      <th>M</th>\n",
       "      <td>0.226336</td>\n",
       "    </tr>\n",
       "    <tr>\n",
       "      <th>F</th>\n",
       "      <td>0.165373</td>\n",
       "    </tr>\n",
       "  </tbody>\n",
       "</table>\n",
       "</div>"
      ],
      "text/plain": [
       "        DMIndicator\n",
       "Gender             \n",
       "M          0.226336\n",
       "F          0.165373"
      ]
     },
     "execution_count": 69,
     "metadata": {},
     "output_type": "execute_result"
    }
   ],
   "source": [
    "Patient[['Gender','DMIndicator']].groupby(['Gender']).mean().sort_values(by='DMIndicator',ascending=False)\n",
    "# Gender doesn't seem to make a difference; Males might be slightly more likely to get Diabetes "
   ]
  },
  {
   "cell_type": "code",
   "execution_count": 70,
   "metadata": {},
   "outputs": [
    {
     "data": {
      "text/plain": [
       "<seaborn.axisgrid.FacetGrid at 0x7f986491b3a0>"
      ]
     },
     "execution_count": 70,
     "metadata": {},
     "output_type": "execute_result"
    },
    {
     "data": {
      "image/png": "[encoded data removed]",
      "text/plain": [
       "<Figure size 432x216 with 2 Axes>"
      ]
     },
     "metadata": {
      "needs_background": "light"
     },
     "output_type": "display_data"
    }
   ],
   "source": [
    "g = sns.FacetGrid(Patient,col='DMIndicator')\n",
    "g.map(plt.hist,'YearOfBirth',bins=20) \n",
    "# We need to band age groups"
   ]
  },
  {
   "cell_type": "code",
   "execution_count": 71,
   "metadata": {},
   "outputs": [],
   "source": [
    "Patient['Gender'] = Patient['Gender'].map({'M':0,'F':1})"
   ]
  },
  {
   "cell_type": "code",
   "execution_count": 72,
   "metadata": {},
   "outputs": [],
   "source": [
    "test_data['Gender'] = test_data['Gender'].map({'M':0,'F':1})"
   ]
  },
  {
   "cell_type": "code",
   "execution_count": 73,
   "metadata": {},
   "outputs": [
    {
     "name": "stdout",
     "output_type": "stream",
     "text": [
      "<class 'pandas.core.frame.DataFrame'>\n",
      "Int64Index: 6600 entries, 0 to 6599\n",
      "Data columns (total 10 columns):\n",
      " #   Column           Non-Null Count  Dtype   \n",
      "---  ------           --------------  -----   \n",
      " 0   PatientGuid      6600 non-null   object  \n",
      " 1   DMIndicator      6600 non-null   float64 \n",
      " 2   Gender           6600 non-null   int64   \n",
      " 3   YearOfBirth      6600 non-null   float64 \n",
      " 4   State            6600 non-null   object  \n",
      " 5   PracticeGuid     6600 non-null   object  \n",
      " 6   Smoking          6600 non-null   float64 \n",
      " 7   BMI              6600 non-null   float64 \n",
      " 8   YearOfBirthBand  6600 non-null   category\n",
      " 9   Age              6600 non-null   float64 \n",
      "dtypes: category(1), float64(5), int64(1), object(3)\n",
      "memory usage: 842.5+ KB\n"
     ]
    }
   ],
   "source": [
    "Patient.info()"
   ]
  },
  {
   "cell_type": "code",
   "execution_count": 74,
   "metadata": {
    "scrolled": true
   },
   "outputs": [
    {
     "name": "stdout",
     "output_type": "stream",
     "text": [
      "<class 'pandas.core.frame.DataFrame'>\n",
      "RangeIndex: 3348 entries, 0 to 3347\n",
      "Data columns (total 9 columns):\n",
      " #   Column        Non-Null Count  Dtype  \n",
      "---  ------        --------------  -----  \n",
      " 0   index         3348 non-null   int64  \n",
      " 1   PatientGuid   3348 non-null   object \n",
      " 2   Gender        3348 non-null   int64  \n",
      " 3   YearOfBirth   3348 non-null   int64  \n",
      " 4   State         3348 non-null   object \n",
      " 5   PracticeGuid  3348 non-null   object \n",
      " 6   Smoking       3348 non-null   float64\n",
      " 7   BMI           3348 non-null   float64\n",
      " 8   Age           3348 non-null   float64\n",
      "dtypes: float64(3), int64(3), object(3)\n",
      "memory usage: 235.5+ KB\n"
     ]
    }
   ],
   "source": [
    "test_data.info()"
   ]
  },
  {
   "cell_type": "markdown",
   "metadata": {},
   "source": [
    "## 5. Examine Patient's Medication"
   ]
  },
  {
   "cell_type": "code",
   "execution_count": 75,
   "metadata": {
    "scrolled": true
   },
   "outputs": [
    {
     "name": "stdout",
     "output_type": "stream",
     "text": [
      "<class 'pandas.core.frame.DataFrame'>\n",
      "RangeIndex: 44520 entries, 0 to 44519\n",
      "Data columns (total 8 columns):\n",
      " #   Column              Non-Null Count  Dtype  \n",
      "---  ------              --------------  -----  \n",
      " 0   MedicationGuid      44520 non-null  object \n",
      " 1   PatientGuid         44520 non-null  object \n",
      " 2   NdcCode             44520 non-null  int64  \n",
      " 3   MedicationName      44382 non-null  object \n",
      " 4   MedicationStrength  44393 non-null  object \n",
      " 5   Schedule            5127 non-null   float64\n",
      " 6   DiagnosisGuid       44520 non-null  object \n",
      " 7   UserGuid            44520 non-null  object \n",
      "dtypes: float64(1), int64(1), object(6)\n",
      "memory usage: 2.7+ MB\n"
     ]
    }
   ],
   "source": [
    "Medication.info()"
   ]
  },
  {
   "cell_type": "code",
   "execution_count": 76,
   "metadata": {},
   "outputs": [
    {
     "data": {
      "text/plain": [
       "9846"
      ]
     },
     "execution_count": 76,
     "metadata": {},
     "output_type": "execute_result"
    }
   ],
   "source": [
    "Medication['PatientGuid'].nunique()"
   ]
  },
  {
   "cell_type": "code",
   "execution_count": 77,
   "metadata": {},
   "outputs": [
    {
     "name": "stdout",
     "output_type": "stream",
     "text": [
      "<class 'pandas.core.frame.DataFrame'>\n",
      "Int64Index: 1266 entries, 7 to 6591\n",
      "Data columns (total 10 columns):\n",
      " #   Column           Non-Null Count  Dtype   \n",
      "---  ------           --------------  -----   \n",
      " 0   PatientGuid      1266 non-null   object  \n",
      " 1   DMIndicator      1266 non-null   float64 \n",
      " 2   Gender           1266 non-null   int64   \n",
      " 3   YearOfBirth      1266 non-null   float64 \n",
      " 4   State            1266 non-null   object  \n",
      " 5   PracticeGuid     1266 non-null   object  \n",
      " 6   Smoking          1266 non-null   float64 \n",
      " 7   BMI              1266 non-null   float64 \n",
      " 8   YearOfBirthBand  1266 non-null   category\n",
      " 9   Age              1266 non-null   float64 \n",
      "dtypes: category(1), float64(5), int64(1), object(3)\n",
      "memory usage: 100.6+ KB\n"
     ]
    }
   ],
   "source": [
    "Patient[Patient['DMIndicator']==1].info()"
   ]
  },
  {
   "cell_type": "code",
   "execution_count": 78,
   "metadata": {},
   "outputs": [],
   "source": [
    "df3 = Patient[Patient['DMIndicator']==1].merge(Medication,on='PatientGuid',how='left')"
   ]
  },
  {
   "cell_type": "code",
   "execution_count": 79,
   "metadata": {
    "scrolled": true
   },
   "outputs": [
    {
     "name": "stdout",
     "output_type": "stream",
     "text": [
      "<class 'pandas.core.frame.DataFrame'>\n",
      "Int64Index: 7049 entries, 0 to 7048\n",
      "Data columns (total 17 columns):\n",
      " #   Column              Non-Null Count  Dtype   \n",
      "---  ------              --------------  -----   \n",
      " 0   PatientGuid         7049 non-null   object  \n",
      " 1   DMIndicator         7049 non-null   float64 \n",
      " 2   Gender              7049 non-null   int64   \n",
      " 3   YearOfBirth         7049 non-null   float64 \n",
      " 4   State               7049 non-null   object  \n",
      " 5   PracticeGuid        7049 non-null   object  \n",
      " 6   Smoking             7049 non-null   float64 \n",
      " 7   BMI                 7049 non-null   float64 \n",
      " 8   YearOfBirthBand     7049 non-null   category\n",
      " 9   Age                 7049 non-null   float64 \n",
      " 10  MedicationGuid      6987 non-null   object  \n",
      " 11  NdcCode             6987 non-null   float64 \n",
      " 12  MedicationName      6912 non-null   object  \n",
      " 13  MedicationStrength  6919 non-null   object  \n",
      " 14  Schedule            535 non-null    float64 \n",
      " 15  DiagnosisGuid       6987 non-null   object  \n",
      " 16  UserGuid            6987 non-null   object  \n",
      "dtypes: category(1), float64(7), int64(1), object(8)\n",
      "memory usage: 943.5+ KB\n"
     ]
    }
   ],
   "source": [
    "df3.info()"
   ]
  },
  {
   "cell_type": "code",
   "execution_count": 80,
   "metadata": {
    "scrolled": true
   },
   "outputs": [],
   "source": [
    "df4 = df3.drop_duplicates(subset=['PatientGuid','MedicationName'])"
   ]
  },
  {
   "cell_type": "code",
   "execution_count": 81,
   "metadata": {
    "scrolled": true
   },
   "outputs": [
    {
     "name": "stdout",
     "output_type": "stream",
     "text": [
      "<class 'pandas.core.frame.DataFrame'>\n",
      "Int64Index: 6623 entries, 0 to 7048\n",
      "Data columns (total 17 columns):\n",
      " #   Column              Non-Null Count  Dtype   \n",
      "---  ------              --------------  -----   \n",
      " 0   PatientGuid         6623 non-null   object  \n",
      " 1   DMIndicator         6623 non-null   float64 \n",
      " 2   Gender              6623 non-null   int64   \n",
      " 3   YearOfBirth         6623 non-null   float64 \n",
      " 4   State               6623 non-null   object  \n",
      " 5   PracticeGuid        6623 non-null   object  \n",
      " 6   Smoking             6623 non-null   float64 \n",
      " 7   BMI                 6623 non-null   float64 \n",
      " 8   YearOfBirthBand     6623 non-null   category\n",
      " 9   Age                 6623 non-null   float64 \n",
      " 10  MedicationGuid      6561 non-null   object  \n",
      " 11  NdcCode             6561 non-null   float64 \n",
      " 12  MedicationName      6507 non-null   object  \n",
      " 13  MedicationStrength  6513 non-null   object  \n",
      " 14  Schedule            497 non-null    float64 \n",
      " 15  DiagnosisGuid       6561 non-null   object  \n",
      " 16  UserGuid            6561 non-null   object  \n",
      "dtypes: category(1), float64(7), int64(1), object(8)\n",
      "memory usage: 886.5+ KB\n"
     ]
    }
   ],
   "source": [
    "df4.info()"
   ]
  },
  {
   "cell_type": "code",
   "execution_count": 82,
   "metadata": {},
   "outputs": [
    {
     "data": {
      "text/plain": [
       "Lisinopril oral tablet                                              0.030047\n",
       "Lipitor (atorvastatin) oral tablet                                  0.018874\n",
       "Simvastatin oral tablet                                             0.017817\n",
       "Zocor (simvastatin) oral tablet                                     0.014948\n",
       "Norvasc (amLODIPine) oral tablet                                    0.011928\n",
       "                                                                      ...   \n",
       "Niferex-150 (obsolete2) (iron polysaccharide) oral capsule          0.000151\n",
       "Phenergan (promethazine) rectal suppository                         0.000151\n",
       "Mestinon Timespan (pyridostigmine) oral tablet, extended release    0.000151\n",
       "Oruvail (ketoprofen) oral capsule, extended release                 0.000151\n",
       "Carafate (sucralfate) oral tablet                                   0.000151\n",
       "Name: MedicationName, Length: 1130, dtype: float64"
      ]
     },
     "execution_count": 82,
     "metadata": {},
     "output_type": "execute_result"
    }
   ],
   "source": [
    "df4['MedicationName'].value_counts()/len(df4)"
   ]
  },
  {
   "cell_type": "code",
   "execution_count": 83,
   "metadata": {
    "scrolled": true
   },
   "outputs": [
    {
     "data": {
      "text/plain": [
       "Lisinopril oral tablet                                       0.015594\n",
       "Zithromax Z-Pak (azithromycin) oral tablet                   0.014409\n",
       "Augmentin (amoxicillin-clavulanate) oral tablet              0.011660\n",
       "Lipitor (atorvastatin) oral tablet                           0.010996\n",
       "Simvastatin oral tablet                                      0.010665\n",
       "                                                               ...   \n",
       "Doc-Q-Lax (docusate-senna) oral tablet                       0.000047\n",
       "Plan B (levonorgestrel) oral tablet                          0.000047\n",
       "Mag 64 (magnesium chloride) oral tablet, extended release    0.000047\n",
       "Amerge (naratriptan) oral tablet                             0.000047\n",
       "Salagen (pilocarpine) oral tablet                            0.000047\n",
       "Name: MedicationName, Length: 2012, dtype: float64"
      ]
     },
     "execution_count": 83,
     "metadata": {},
     "output_type": "execute_result"
    }
   ],
   "source": [
    "df9 = Patient[Patient['DMIndicator']==0].merge(Medication,on='PatientGuid',how='left')\n",
    "df10 = df9.drop_duplicates(subset=['PatientGuid','MedicationName'])\n",
    "df10['MedicationName'].value_counts()/len(df10)"
   ]
  },
  {
   "cell_type": "code",
   "execution_count": 84,
   "metadata": {
    "scrolled": true
   },
   "outputs": [],
   "source": [
    "df5 = df4.groupby(by='MedicationName')"
   ]
  },
  {
   "cell_type": "code",
   "execution_count": 85,
   "metadata": {},
   "outputs": [],
   "source": [
    "medlist1 = list(df5.get_group('Lisinopril oral tablet')['PatientGuid'])\n",
    "dfm1 = pd.DataFrame({'PatientGuid':medlist1,'Med1':1})\n",
    "Patient = Patient.merge(dfm1,on='PatientGuid',how='left')"
   ]
  },
  {
   "cell_type": "code",
   "execution_count": 86,
   "metadata": {},
   "outputs": [],
   "source": [
    "medlist2 = list(df5.get_group('Lipitor (atorvastatin) oral tablet')['PatientGuid'])\n",
    "dfm2 = pd.DataFrame({'PatientGuid':medlist2,'Med2':1})\n",
    "Patient = Patient.merge(dfm2,on='PatientGuid',how='left')"
   ]
  },
  {
   "cell_type": "code",
   "execution_count": 87,
   "metadata": {},
   "outputs": [],
   "source": [
    "medlist3 = list(df5.get_group('Simvastatin oral tablet')['PatientGuid'])\n",
    "dfm3 = pd.DataFrame({'PatientGuid':medlist3,'Med3':1})\n",
    "Patient = Patient.merge(dfm3,on='PatientGuid',how='left')"
   ]
  },
  {
   "cell_type": "code",
   "execution_count": 88,
   "metadata": {},
   "outputs": [],
   "source": [
    "medlist4 = list(df5.get_group('Zocor (simvastatin) oral tablet')['PatientGuid'])\n",
    "dfm4 = pd.DataFrame({'PatientGuid':medlist4,'Med4':1})\n",
    "Patient = Patient.merge(dfm4,on='PatientGuid',how='left')"
   ]
  },
  {
   "cell_type": "code",
   "execution_count": 89,
   "metadata": {},
   "outputs": [],
   "source": [
    "medlist5 = list(df5.get_group('Norvasc (amLODIPine) oral tablet')['PatientGuid'])\n",
    "dfm5 = pd.DataFrame({'PatientGuid':medlist5,'Med5':1})\n",
    "Patient = Patient.merge(dfm5,on='PatientGuid',how='left')"
   ]
  },
  {
   "cell_type": "code",
   "execution_count": 90,
   "metadata": {},
   "outputs": [
    {
     "name": "stdout",
     "output_type": "stream",
     "text": [
      "<class 'pandas.core.frame.DataFrame'>\n",
      "Int64Index: 6600 entries, 0 to 6599\n",
      "Data columns (total 5 columns):\n",
      " #   Column  Non-Null Count  Dtype  \n",
      "---  ------  --------------  -----  \n",
      " 0   Med1    199 non-null    float64\n",
      " 1   Med2    125 non-null    float64\n",
      " 2   Med3    118 non-null    float64\n",
      " 3   Med4    99 non-null     float64\n",
      " 4   Med5    79 non-null     float64\n",
      "dtypes: float64(5)\n",
      "memory usage: 309.4 KB\n"
     ]
    }
   ],
   "source": [
    "Patient[['Med1','Med2','Med3','Med4','Med5']].info()"
   ]
  },
  {
   "cell_type": "code",
   "execution_count": 91,
   "metadata": {},
   "outputs": [],
   "source": [
    "Patient.replace(np.NaN,0,inplace=True)"
   ]
  },
  {
   "cell_type": "code",
   "execution_count": 92,
   "metadata": {
    "scrolled": true
   },
   "outputs": [
    {
     "data": {
      "text/html": [
       "<div>\n",
       "<style scoped>\n",
       "    .dataframe tbody tr th:only-of-type {\n",
       "        vertical-align: middle;\n",
       "    }\n",
       "\n",
       "    .dataframe tbody tr th {\n",
       "        vertical-align: top;\n",
       "    }\n",
       "\n",
       "    .dataframe thead th {\n",
       "        text-align: right;\n",
       "    }\n",
       "</style>\n",
       "<table border=\"1\" class=\"dataframe\">\n",
       "  <thead>\n",
       "    <tr style=\"text-align: right;\">\n",
       "      <th></th>\n",
       "      <th>PatientGuid</th>\n",
       "      <th>DMIndicator</th>\n",
       "      <th>Gender</th>\n",
       "      <th>YearOfBirth</th>\n",
       "      <th>State</th>\n",
       "      <th>PracticeGuid</th>\n",
       "      <th>Smoking</th>\n",
       "      <th>BMI</th>\n",
       "      <th>YearOfBirthBand</th>\n",
       "      <th>Age</th>\n",
       "      <th>Med1</th>\n",
       "      <th>Med2</th>\n",
       "      <th>Med3</th>\n",
       "      <th>Med4</th>\n",
       "      <th>Med5</th>\n",
       "    </tr>\n",
       "  </thead>\n",
       "  <tbody>\n",
       "    <tr>\n",
       "      <th>0</th>\n",
       "      <td>FB6EFC3D-1A20-4497-9CBD-00027CC5D220</td>\n",
       "      <td>0.0</td>\n",
       "      <td>0</td>\n",
       "      <td>1929.0</td>\n",
       "      <td>SD</td>\n",
       "      <td>7BF4DAD8-5F67-4985-B911-20C9E89A3737</td>\n",
       "      <td>0.0</td>\n",
       "      <td>1.0</td>\n",
       "      <td>(1921.928, 1931.0]</td>\n",
       "      <td>0.0</td>\n",
       "      <td>0.0</td>\n",
       "      <td>0.0</td>\n",
       "      <td>0.0</td>\n",
       "      <td>0.0</td>\n",
       "      <td>0.0</td>\n",
       "    </tr>\n",
       "    <tr>\n",
       "      <th>1</th>\n",
       "      <td>C6746626-6783-4650-A58F-00065649139A</td>\n",
       "      <td>0.0</td>\n",
       "      <td>1</td>\n",
       "      <td>1985.0</td>\n",
       "      <td>TX</td>\n",
       "      <td>E7101967-2FF1-4B0F-8129-B0B429D1D15C</td>\n",
       "      <td>0.0</td>\n",
       "      <td>2.0</td>\n",
       "      <td>(1976.0, 1985.0]</td>\n",
       "      <td>6.0</td>\n",
       "      <td>0.0</td>\n",
       "      <td>0.0</td>\n",
       "      <td>0.0</td>\n",
       "      <td>0.0</td>\n",
       "      <td>0.0</td>\n",
       "    </tr>\n",
       "    <tr>\n",
       "      <th>2</th>\n",
       "      <td>E05C6E8F-779F-4594-A388-000C635AE4D3</td>\n",
       "      <td>0.0</td>\n",
       "      <td>1</td>\n",
       "      <td>1984.0</td>\n",
       "      <td>NJ</td>\n",
       "      <td>FC01A799-1CAF-464F-A86F-8A666AB86F32</td>\n",
       "      <td>0.0</td>\n",
       "      <td>3.0</td>\n",
       "      <td>(1976.0, 1985.0]</td>\n",
       "      <td>6.0</td>\n",
       "      <td>0.0</td>\n",
       "      <td>0.0</td>\n",
       "      <td>0.0</td>\n",
       "      <td>0.0</td>\n",
       "      <td>0.0</td>\n",
       "    </tr>\n",
       "    <tr>\n",
       "      <th>3</th>\n",
       "      <td>EAEBD216-F847-4355-87B2-000D942E08F0</td>\n",
       "      <td>0.0</td>\n",
       "      <td>0</td>\n",
       "      <td>1959.0</td>\n",
       "      <td>OH</td>\n",
       "      <td>EEBC95EF-79BE-4542-892E-98D3166BAB20</td>\n",
       "      <td>3.0</td>\n",
       "      <td>3.0</td>\n",
       "      <td>(1958.0, 1967.0]</td>\n",
       "      <td>3.0</td>\n",
       "      <td>0.0</td>\n",
       "      <td>0.0</td>\n",
       "      <td>0.0</td>\n",
       "      <td>0.0</td>\n",
       "      <td>0.0</td>\n",
       "    </tr>\n",
       "    <tr>\n",
       "      <th>4</th>\n",
       "      <td>C7F10A80-4934-42D2-8540-000FBEBA75C8</td>\n",
       "      <td>0.0</td>\n",
       "      <td>1</td>\n",
       "      <td>1990.0</td>\n",
       "      <td>FL</td>\n",
       "      <td>677BA32E-B4C4-48F2-86E4-08C42B135401</td>\n",
       "      <td>0.0</td>\n",
       "      <td>3.0</td>\n",
       "      <td>(1985.0, 1994.0]</td>\n",
       "      <td>7.0</td>\n",
       "      <td>0.0</td>\n",
       "      <td>0.0</td>\n",
       "      <td>0.0</td>\n",
       "      <td>0.0</td>\n",
       "      <td>0.0</td>\n",
       "    </tr>\n",
       "    <tr>\n",
       "      <th>...</th>\n",
       "      <td>...</td>\n",
       "      <td>...</td>\n",
       "      <td>...</td>\n",
       "      <td>...</td>\n",
       "      <td>...</td>\n",
       "      <td>...</td>\n",
       "      <td>...</td>\n",
       "      <td>...</td>\n",
       "      <td>...</td>\n",
       "      <td>...</td>\n",
       "      <td>...</td>\n",
       "      <td>...</td>\n",
       "      <td>...</td>\n",
       "      <td>...</td>\n",
       "      <td>...</td>\n",
       "    </tr>\n",
       "    <tr>\n",
       "      <th>6595</th>\n",
       "      <td>83492E15-745E-4A3E-A05E-A737E5088CEB</td>\n",
       "      <td>0.0</td>\n",
       "      <td>0</td>\n",
       "      <td>1925.0</td>\n",
       "      <td>CA</td>\n",
       "      <td>DD0D8C67-1F38-4BFE-A54E-191AB0C66FCA</td>\n",
       "      <td>0.0</td>\n",
       "      <td>1.0</td>\n",
       "      <td>(1921.928, 1931.0]</td>\n",
       "      <td>0.0</td>\n",
       "      <td>0.0</td>\n",
       "      <td>0.0</td>\n",
       "      <td>0.0</td>\n",
       "      <td>0.0</td>\n",
       "      <td>0.0</td>\n",
       "    </tr>\n",
       "    <tr>\n",
       "      <th>6596</th>\n",
       "      <td>9CAE08C1-F6E4-4B9A-A1D4-A7392CF5159B</td>\n",
       "      <td>0.0</td>\n",
       "      <td>0</td>\n",
       "      <td>1969.0</td>\n",
       "      <td>CA</td>\n",
       "      <td>7AFFC5D8-05B5-405E-9A9F-8D18190A5FEF</td>\n",
       "      <td>0.0</td>\n",
       "      <td>1.0</td>\n",
       "      <td>(1967.0, 1976.0]</td>\n",
       "      <td>4.0</td>\n",
       "      <td>0.0</td>\n",
       "      <td>0.0</td>\n",
       "      <td>0.0</td>\n",
       "      <td>0.0</td>\n",
       "      <td>0.0</td>\n",
       "    </tr>\n",
       "    <tr>\n",
       "      <th>6597</th>\n",
       "      <td>FEF04377-E07A-4389-9493-A749165D8D78</td>\n",
       "      <td>0.0</td>\n",
       "      <td>1</td>\n",
       "      <td>1958.0</td>\n",
       "      <td>SD</td>\n",
       "      <td>7BF4DAD8-5F67-4985-B911-20C9E89A3737</td>\n",
       "      <td>0.0</td>\n",
       "      <td>3.0</td>\n",
       "      <td>(1949.0, 1958.0]</td>\n",
       "      <td>3.0</td>\n",
       "      <td>0.0</td>\n",
       "      <td>0.0</td>\n",
       "      <td>0.0</td>\n",
       "      <td>0.0</td>\n",
       "      <td>0.0</td>\n",
       "    </tr>\n",
       "    <tr>\n",
       "      <th>6598</th>\n",
       "      <td>052D137A-DFB2-4806-9434-A74A54A46E14</td>\n",
       "      <td>0.0</td>\n",
       "      <td>0</td>\n",
       "      <td>1956.0</td>\n",
       "      <td>FL</td>\n",
       "      <td>6373C626-559A-40B5-9936-AEEE8B4CAB5E</td>\n",
       "      <td>0.0</td>\n",
       "      <td>3.0</td>\n",
       "      <td>(1949.0, 1958.0]</td>\n",
       "      <td>3.0</td>\n",
       "      <td>0.0</td>\n",
       "      <td>0.0</td>\n",
       "      <td>0.0</td>\n",
       "      <td>0.0</td>\n",
       "      <td>0.0</td>\n",
       "    </tr>\n",
       "    <tr>\n",
       "      <th>6599</th>\n",
       "      <td>269A2938-916A-495C-B68A-A74B723F83E4</td>\n",
       "      <td>0.0</td>\n",
       "      <td>0</td>\n",
       "      <td>1967.0</td>\n",
       "      <td>FL</td>\n",
       "      <td>BD7ECDCC-4EBE-4042-A51F-A9E85DBAA7DD</td>\n",
       "      <td>0.0</td>\n",
       "      <td>0.0</td>\n",
       "      <td>(1958.0, 1967.0]</td>\n",
       "      <td>4.0</td>\n",
       "      <td>0.0</td>\n",
       "      <td>0.0</td>\n",
       "      <td>0.0</td>\n",
       "      <td>0.0</td>\n",
       "      <td>0.0</td>\n",
       "    </tr>\n",
       "  </tbody>\n",
       "</table>\n",
       "<p>6600 rows × 15 columns</p>\n",
       "</div>"
      ],
      "text/plain": [
       "                               PatientGuid  DMIndicator  Gender  YearOfBirth  \\\n",
       "0     FB6EFC3D-1A20-4497-9CBD-00027CC5D220          0.0       0       1929.0   \n",
       "1     C6746626-6783-4650-A58F-00065649139A          0.0       1       1985.0   \n",
       "2     E05C6E8F-779F-4594-A388-000C635AE4D3          0.0       1       1984.0   \n",
       "3     EAEBD216-F847-4355-87B2-000D942E08F0          0.0       0       1959.0   \n",
       "4     C7F10A80-4934-42D2-8540-000FBEBA75C8          0.0       1       1990.0   \n",
       "...                                    ...          ...     ...          ...   \n",
       "6595  83492E15-745E-4A3E-A05E-A737E5088CEB          0.0       0       1925.0   \n",
       "6596  9CAE08C1-F6E4-4B9A-A1D4-A7392CF5159B          0.0       0       1969.0   \n",
       "6597  FEF04377-E07A-4389-9493-A749165D8D78          0.0       1       1958.0   \n",
       "6598  052D137A-DFB2-4806-9434-A74A54A46E14          0.0       0       1956.0   \n",
       "6599  269A2938-916A-495C-B68A-A74B723F83E4          0.0       0       1967.0   \n",
       "\n",
       "     State                          PracticeGuid  Smoking  BMI  \\\n",
       "0       SD  7BF4DAD8-5F67-4985-B911-20C9E89A3737      0.0  1.0   \n",
       "1       TX  E7101967-2FF1-4B0F-8129-B0B429D1D15C      0.0  2.0   \n",
       "2       NJ  FC01A799-1CAF-464F-A86F-8A666AB86F32      0.0  3.0   \n",
       "3       OH  EEBC95EF-79BE-4542-892E-98D3166BAB20      3.0  3.0   \n",
       "4       FL  677BA32E-B4C4-48F2-86E4-08C42B135401      0.0  3.0   \n",
       "...    ...                                   ...      ...  ...   \n",
       "6595    CA  DD0D8C67-1F38-4BFE-A54E-191AB0C66FCA      0.0  1.0   \n",
       "6596    CA  7AFFC5D8-05B5-405E-9A9F-8D18190A5FEF      0.0  1.0   \n",
       "6597    SD  7BF4DAD8-5F67-4985-B911-20C9E89A3737      0.0  3.0   \n",
       "6598    FL  6373C626-559A-40B5-9936-AEEE8B4CAB5E      0.0  3.0   \n",
       "6599    FL  BD7ECDCC-4EBE-4042-A51F-A9E85DBAA7DD      0.0  0.0   \n",
       "\n",
       "         YearOfBirthBand  Age  Med1  Med2  Med3  Med4  Med5  \n",
       "0     (1921.928, 1931.0]  0.0   0.0   0.0   0.0   0.0   0.0  \n",
       "1       (1976.0, 1985.0]  6.0   0.0   0.0   0.0   0.0   0.0  \n",
       "2       (1976.0, 1985.0]  6.0   0.0   0.0   0.0   0.0   0.0  \n",
       "3       (1958.0, 1967.0]  3.0   0.0   0.0   0.0   0.0   0.0  \n",
       "4       (1985.0, 1994.0]  7.0   0.0   0.0   0.0   0.0   0.0  \n",
       "...                  ...  ...   ...   ...   ...   ...   ...  \n",
       "6595  (1921.928, 1931.0]  0.0   0.0   0.0   0.0   0.0   0.0  \n",
       "6596    (1967.0, 1976.0]  4.0   0.0   0.0   0.0   0.0   0.0  \n",
       "6597    (1949.0, 1958.0]  3.0   0.0   0.0   0.0   0.0   0.0  \n",
       "6598    (1949.0, 1958.0]  3.0   0.0   0.0   0.0   0.0   0.0  \n",
       "6599    (1958.0, 1967.0]  4.0   0.0   0.0   0.0   0.0   0.0  \n",
       "\n",
       "[6600 rows x 15 columns]"
      ]
     },
     "execution_count": 92,
     "metadata": {},
     "output_type": "execute_result"
    }
   ],
   "source": [
    "Patient"
   ]
  },
  {
   "cell_type": "code",
   "execution_count": 93,
   "metadata": {
    "scrolled": false
   },
   "outputs": [
    {
     "data": {
      "text/html": [
       "<div>\n",
       "<style scoped>\n",
       "    .dataframe tbody tr th:only-of-type {\n",
       "        vertical-align: middle;\n",
       "    }\n",
       "\n",
       "    .dataframe tbody tr th {\n",
       "        vertical-align: top;\n",
       "    }\n",
       "\n",
       "    .dataframe thead th {\n",
       "        text-align: right;\n",
       "    }\n",
       "</style>\n",
       "<table border=\"1\" class=\"dataframe\">\n",
       "  <thead>\n",
       "    <tr style=\"text-align: right;\">\n",
       "      <th></th>\n",
       "      <th>index</th>\n",
       "      <th>PatientGuid</th>\n",
       "      <th>Gender</th>\n",
       "      <th>YearOfBirth</th>\n",
       "      <th>State</th>\n",
       "      <th>PracticeGuid</th>\n",
       "      <th>Smoking</th>\n",
       "      <th>BMI</th>\n",
       "      <th>Age</th>\n",
       "    </tr>\n",
       "  </thead>\n",
       "  <tbody>\n",
       "    <tr>\n",
       "      <th>0</th>\n",
       "      <td>6600</td>\n",
       "      <td>027AC271-0852-4DDD-99C2-A74FE50066E0</td>\n",
       "      <td>1</td>\n",
       "      <td>1978</td>\n",
       "      <td>CA</td>\n",
       "      <td>4D27688B-C925-4513-9CF9-8D281ACC6712</td>\n",
       "      <td>0.0</td>\n",
       "      <td>3.0</td>\n",
       "      <td>5.0</td>\n",
       "    </tr>\n",
       "    <tr>\n",
       "      <th>1</th>\n",
       "      <td>6601</td>\n",
       "      <td>C5D4C6FA-A2B3-4CCD-A8D5-A760127CE47D</td>\n",
       "      <td>1</td>\n",
       "      <td>1941</td>\n",
       "      <td>PA</td>\n",
       "      <td>44C560D5-82B4-436A-9C72-C090F5377FD0</td>\n",
       "      <td>0.0</td>\n",
       "      <td>3.0</td>\n",
       "      <td>2.0</td>\n",
       "    </tr>\n",
       "    <tr>\n",
       "      <th>2</th>\n",
       "      <td>6602</td>\n",
       "      <td>1F4D1486-7632-4576-AC92-A760680D1DC9</td>\n",
       "      <td>0</td>\n",
       "      <td>1938</td>\n",
       "      <td>VA</td>\n",
       "      <td>9891CFAA-9B40-4120-AE20-3A1D86064898</td>\n",
       "      <td>0.0</td>\n",
       "      <td>2.0</td>\n",
       "      <td>1.0</td>\n",
       "    </tr>\n",
       "    <tr>\n",
       "      <th>3</th>\n",
       "      <td>6603</td>\n",
       "      <td>0F6AD971-F133-4BD7-B508-A76788D9C46C</td>\n",
       "      <td>0</td>\n",
       "      <td>1952</td>\n",
       "      <td>OH</td>\n",
       "      <td>64F84808-F87B-41CF-8E4B-5E0F456359B4</td>\n",
       "      <td>0.0</td>\n",
       "      <td>3.0</td>\n",
       "      <td>3.0</td>\n",
       "    </tr>\n",
       "    <tr>\n",
       "      <th>4</th>\n",
       "      <td>6604</td>\n",
       "      <td>1E23496C-7AAF-4A91-AAF4-A769BD439E67</td>\n",
       "      <td>1</td>\n",
       "      <td>1961</td>\n",
       "      <td>FL</td>\n",
       "      <td>BD209FBC-E92C-4392-A085-1DDA42AF37BA</td>\n",
       "      <td>0.0</td>\n",
       "      <td>2.0</td>\n",
       "      <td>4.0</td>\n",
       "    </tr>\n",
       "    <tr>\n",
       "      <th>...</th>\n",
       "      <td>...</td>\n",
       "      <td>...</td>\n",
       "      <td>...</td>\n",
       "      <td>...</td>\n",
       "      <td>...</td>\n",
       "      <td>...</td>\n",
       "      <td>...</td>\n",
       "      <td>...</td>\n",
       "      <td>...</td>\n",
       "    </tr>\n",
       "    <tr>\n",
       "      <th>3343</th>\n",
       "      <td>9943</td>\n",
       "      <td>96C0A4E6-1E3E-497E-9C4E-FFEC0E25AD3A</td>\n",
       "      <td>1</td>\n",
       "      <td>1978</td>\n",
       "      <td>TX</td>\n",
       "      <td>E7101967-2FF1-4B0F-8129-B0B429D1D15C</td>\n",
       "      <td>0.0</td>\n",
       "      <td>2.0</td>\n",
       "      <td>5.0</td>\n",
       "    </tr>\n",
       "    <tr>\n",
       "      <th>3344</th>\n",
       "      <td>9944</td>\n",
       "      <td>5845977A-3014-4301-92B3-FFF0A2EBBAD2</td>\n",
       "      <td>1</td>\n",
       "      <td>1986</td>\n",
       "      <td>WA</td>\n",
       "      <td>EADEC07A-9901-411F-BBE3-04376029E1E8</td>\n",
       "      <td>0.0</td>\n",
       "      <td>1.0</td>\n",
       "      <td>6.0</td>\n",
       "    </tr>\n",
       "    <tr>\n",
       "      <th>3345</th>\n",
       "      <td>9945</td>\n",
       "      <td>F948403A-ABE6-496D-B37D-FFF9A9D79767</td>\n",
       "      <td>1</td>\n",
       "      <td>1955</td>\n",
       "      <td>CA</td>\n",
       "      <td>57B6F75F-CF0A-4225-BAD0-8222A7D4B489</td>\n",
       "      <td>0.0</td>\n",
       "      <td>3.0</td>\n",
       "      <td>3.0</td>\n",
       "    </tr>\n",
       "    <tr>\n",
       "      <th>3346</th>\n",
       "      <td>9946</td>\n",
       "      <td>F764BC86-0CFA-4661-8D84-FFFA8E2B6080</td>\n",
       "      <td>1</td>\n",
       "      <td>1960</td>\n",
       "      <td>CA</td>\n",
       "      <td>1A69F223-8409-4FDC-A26C-114677D2D4C3</td>\n",
       "      <td>0.0</td>\n",
       "      <td>3.0</td>\n",
       "      <td>4.0</td>\n",
       "    </tr>\n",
       "    <tr>\n",
       "      <th>3347</th>\n",
       "      <td>9947</td>\n",
       "      <td>A411D8EA-81A2-4A7F-9EF9-FFFD8ECBE91C</td>\n",
       "      <td>1</td>\n",
       "      <td>1934</td>\n",
       "      <td>NJ</td>\n",
       "      <td>6C808413-0201-4850-B906-5D2A8433A82D</td>\n",
       "      <td>0.0</td>\n",
       "      <td>2.0</td>\n",
       "      <td>1.0</td>\n",
       "    </tr>\n",
       "  </tbody>\n",
       "</table>\n",
       "<p>3348 rows × 9 columns</p>\n",
       "</div>"
      ],
      "text/plain": [
       "      index                           PatientGuid  Gender  YearOfBirth State  \\\n",
       "0      6600  027AC271-0852-4DDD-99C2-A74FE50066E0       1         1978    CA   \n",
       "1      6601  C5D4C6FA-A2B3-4CCD-A8D5-A760127CE47D       1         1941    PA   \n",
       "2      6602  1F4D1486-7632-4576-AC92-A760680D1DC9       0         1938    VA   \n",
       "3      6603  0F6AD971-F133-4BD7-B508-A76788D9C46C       0         1952    OH   \n",
       "4      6604  1E23496C-7AAF-4A91-AAF4-A769BD439E67       1         1961    FL   \n",
       "...     ...                                   ...     ...          ...   ...   \n",
       "3343   9943  96C0A4E6-1E3E-497E-9C4E-FFEC0E25AD3A       1         1978    TX   \n",
       "3344   9944  5845977A-3014-4301-92B3-FFF0A2EBBAD2       1         1986    WA   \n",
       "3345   9945  F948403A-ABE6-496D-B37D-FFF9A9D79767       1         1955    CA   \n",
       "3346   9946  F764BC86-0CFA-4661-8D84-FFFA8E2B6080       1         1960    CA   \n",
       "3347   9947  A411D8EA-81A2-4A7F-9EF9-FFFD8ECBE91C       1         1934    NJ   \n",
       "\n",
       "                              PracticeGuid  Smoking  BMI  Age  \n",
       "0     4D27688B-C925-4513-9CF9-8D281ACC6712      0.0  3.0  5.0  \n",
       "1     44C560D5-82B4-436A-9C72-C090F5377FD0      0.0  3.0  2.0  \n",
       "2     9891CFAA-9B40-4120-AE20-3A1D86064898      0.0  2.0  1.0  \n",
       "3     64F84808-F87B-41CF-8E4B-5E0F456359B4      0.0  3.0  3.0  \n",
       "4     BD209FBC-E92C-4392-A085-1DDA42AF37BA      0.0  2.0  4.0  \n",
       "...                                    ...      ...  ...  ...  \n",
       "3343  E7101967-2FF1-4B0F-8129-B0B429D1D15C      0.0  2.0  5.0  \n",
       "3344  EADEC07A-9901-411F-BBE3-04376029E1E8      0.0  1.0  6.0  \n",
       "3345  57B6F75F-CF0A-4225-BAD0-8222A7D4B489      0.0  3.0  3.0  \n",
       "3346  1A69F223-8409-4FDC-A26C-114677D2D4C3      0.0  3.0  4.0  \n",
       "3347  6C808413-0201-4850-B906-5D2A8433A82D      0.0  2.0  1.0  \n",
       "\n",
       "[3348 rows x 9 columns]"
      ]
     },
     "execution_count": 93,
     "metadata": {},
     "output_type": "execute_result"
    }
   ],
   "source": [
    "test_data"
   ]
  },
  {
   "cell_type": "code",
   "execution_count": 94,
   "metadata": {},
   "outputs": [],
   "source": [
    "df6 = test_data.merge(Medication,on='PatientGuid',how='left')"
   ]
  },
  {
   "cell_type": "code",
   "execution_count": 95,
   "metadata": {},
   "outputs": [
    {
     "name": "stdout",
     "output_type": "stream",
     "text": [
      "<class 'pandas.core.frame.DataFrame'>\n",
      "Int64Index: 15012 entries, 0 to 15011\n",
      "Data columns (total 16 columns):\n",
      " #   Column              Non-Null Count  Dtype  \n",
      "---  ------              --------------  -----  \n",
      " 0   index               15012 non-null  int64  \n",
      " 1   PatientGuid         15012 non-null  object \n",
      " 2   Gender              15012 non-null  int64  \n",
      " 3   YearOfBirth         15012 non-null  int64  \n",
      " 4   State               15012 non-null  object \n",
      " 5   PracticeGuid        15012 non-null  object \n",
      " 6   Smoking             15012 non-null  float64\n",
      " 7   BMI                 15012 non-null  float64\n",
      " 8   Age                 15012 non-null  float64\n",
      " 9   MedicationGuid      14978 non-null  object \n",
      " 10  NdcCode             14978 non-null  float64\n",
      " 11  MedicationName      14928 non-null  object \n",
      " 12  MedicationStrength  14932 non-null  object \n",
      " 13  Schedule            1771 non-null   float64\n",
      " 14  DiagnosisGuid       14978 non-null  object \n",
      " 15  UserGuid            14978 non-null  object \n",
      "dtypes: float64(5), int64(3), object(8)\n",
      "memory usage: 1.9+ MB\n"
     ]
    }
   ],
   "source": [
    "df6.info()"
   ]
  },
  {
   "cell_type": "code",
   "execution_count": 96,
   "metadata": {},
   "outputs": [],
   "source": [
    "df7 = df6.drop_duplicates(subset=['PatientGuid','MedicationName'])"
   ]
  },
  {
   "cell_type": "code",
   "execution_count": 97,
   "metadata": {
    "scrolled": true
   },
   "outputs": [
    {
     "name": "stdout",
     "output_type": "stream",
     "text": [
      "<class 'pandas.core.frame.DataFrame'>\n",
      "Int64Index: 14058 entries, 0 to 15010\n",
      "Data columns (total 16 columns):\n",
      " #   Column              Non-Null Count  Dtype  \n",
      "---  ------              --------------  -----  \n",
      " 0   index               14058 non-null  int64  \n",
      " 1   PatientGuid         14058 non-null  object \n",
      " 2   Gender              14058 non-null  int64  \n",
      " 3   YearOfBirth         14058 non-null  int64  \n",
      " 4   State               14058 non-null  object \n",
      " 5   PracticeGuid        14058 non-null  object \n",
      " 6   Smoking             14058 non-null  float64\n",
      " 7   BMI                 14058 non-null  float64\n",
      " 8   Age                 14058 non-null  float64\n",
      " 9   MedicationGuid      14024 non-null  object \n",
      " 10  NdcCode             14024 non-null  float64\n",
      " 11  MedicationName      13986 non-null  object \n",
      " 12  MedicationStrength  13988 non-null  object \n",
      " 13  Schedule            1550 non-null   float64\n",
      " 14  DiagnosisGuid       14024 non-null  object \n",
      " 15  UserGuid            14024 non-null  object \n",
      "dtypes: float64(5), int64(3), object(8)\n",
      "memory usage: 1.8+ MB\n"
     ]
    }
   ],
   "source": [
    "df7.info()"
   ]
  },
  {
   "cell_type": "code",
   "execution_count": 98,
   "metadata": {
    "scrolled": true
   },
   "outputs": [
    {
     "data": {
      "text/html": [
       "<div>\n",
       "<style scoped>\n",
       "    .dataframe tbody tr th:only-of-type {\n",
       "        vertical-align: middle;\n",
       "    }\n",
       "\n",
       "    .dataframe tbody tr th {\n",
       "        vertical-align: top;\n",
       "    }\n",
       "\n",
       "    .dataframe thead th {\n",
       "        text-align: right;\n",
       "    }\n",
       "</style>\n",
       "<table border=\"1\" class=\"dataframe\">\n",
       "  <thead>\n",
       "    <tr style=\"text-align: right;\">\n",
       "      <th></th>\n",
       "      <th>index</th>\n",
       "      <th>PatientGuid</th>\n",
       "      <th>Gender</th>\n",
       "      <th>YearOfBirth</th>\n",
       "      <th>State</th>\n",
       "      <th>PracticeGuid</th>\n",
       "      <th>Smoking</th>\n",
       "      <th>BMI</th>\n",
       "      <th>Age</th>\n",
       "      <th>MedicationGuid</th>\n",
       "      <th>NdcCode</th>\n",
       "      <th>MedicationName</th>\n",
       "      <th>MedicationStrength</th>\n",
       "      <th>Schedule</th>\n",
       "      <th>DiagnosisGuid</th>\n",
       "      <th>UserGuid</th>\n",
       "    </tr>\n",
       "  </thead>\n",
       "  <tbody>\n",
       "    <tr>\n",
       "      <th>0</th>\n",
       "      <td>6600</td>\n",
       "      <td>027AC271-0852-4DDD-99C2-A74FE50066E0</td>\n",
       "      <td>1</td>\n",
       "      <td>1978</td>\n",
       "      <td>CA</td>\n",
       "      <td>4D27688B-C925-4513-9CF9-8D281ACC6712</td>\n",
       "      <td>0.0</td>\n",
       "      <td>3.0</td>\n",
       "      <td>5.0</td>\n",
       "      <td>AA9E8522-F81D-4D86-B119-51B5B4BCC706</td>\n",
       "      <td>2.470397e+08</td>\n",
       "      <td>Septra DS (sulfamethoxazole-trimethoprim) oral...</td>\n",
       "      <td>800 mg-160 mg</td>\n",
       "      <td>NaN</td>\n",
       "      <td>D37A5460-39CA-489C-9486-B919262BE49F</td>\n",
       "      <td>7511BCEC-9E46-4808-99A7-5B30778B6E84</td>\n",
       "    </tr>\n",
       "    <tr>\n",
       "      <th>1</th>\n",
       "      <td>6601</td>\n",
       "      <td>C5D4C6FA-A2B3-4CCD-A8D5-A760127CE47D</td>\n",
       "      <td>1</td>\n",
       "      <td>1941</td>\n",
       "      <td>PA</td>\n",
       "      <td>44C560D5-82B4-436A-9C72-C090F5377FD0</td>\n",
       "      <td>0.0</td>\n",
       "      <td>3.0</td>\n",
       "      <td>2.0</td>\n",
       "      <td>233164E6-541B-440A-B529-B2D2FAAE3F53</td>\n",
       "      <td>7.770871e+08</td>\n",
       "      <td>Keflex (cephalexin) oral capsule</td>\n",
       "      <td>monohydrate 500 mg</td>\n",
       "      <td>NaN</td>\n",
       "      <td>F1322DB9-9420-461E-B312-54E1B30D29CD</td>\n",
       "      <td>4628E39D-B339-4233-B217-A20112574090</td>\n",
       "    </tr>\n",
       "    <tr>\n",
       "      <th>2</th>\n",
       "      <td>6601</td>\n",
       "      <td>C5D4C6FA-A2B3-4CCD-A8D5-A760127CE47D</td>\n",
       "      <td>1</td>\n",
       "      <td>1941</td>\n",
       "      <td>PA</td>\n",
       "      <td>44C560D5-82B4-436A-9C72-C090F5377FD0</td>\n",
       "      <td>0.0</td>\n",
       "      <td>3.0</td>\n",
       "      <td>2.0</td>\n",
       "      <td>704DEB94-1D68-42A1-B255-CF9EAA3B05BB</td>\n",
       "      <td>1.680004e+08</td>\n",
       "      <td>Triamcinolone Acetonide Topical (triamcinolone...</td>\n",
       "      <td>0.1%</td>\n",
       "      <td>NaN</td>\n",
       "      <td>21FB2D37-4A4B-49BB-AEEF-BF676CC0B974</td>\n",
       "      <td>4628E39D-B339-4233-B217-A20112574090</td>\n",
       "    </tr>\n",
       "    <tr>\n",
       "      <th>3</th>\n",
       "      <td>6602</td>\n",
       "      <td>1F4D1486-7632-4576-AC92-A760680D1DC9</td>\n",
       "      <td>0</td>\n",
       "      <td>1938</td>\n",
       "      <td>VA</td>\n",
       "      <td>9891CFAA-9B40-4120-AE20-3A1D86064898</td>\n",
       "      <td>0.0</td>\n",
       "      <td>2.0</td>\n",
       "      <td>1.0</td>\n",
       "      <td>958D8914-6402-4972-8970-1B166163E044</td>\n",
       "      <td>2.470027e+08</td>\n",
       "      <td>Augmentin (amoxicillin-clavulanate) oral tablet</td>\n",
       "      <td>500 mg-125 mg</td>\n",
       "      <td>NaN</td>\n",
       "      <td>ECF9A15F-D529-4BE2-87A1-D3659D1F8839</td>\n",
       "      <td>5B23252E-23A0-466D-9E86-96561488C45C</td>\n",
       "    </tr>\n",
       "    <tr>\n",
       "      <th>4</th>\n",
       "      <td>6603</td>\n",
       "      <td>0F6AD971-F133-4BD7-B508-A76788D9C46C</td>\n",
       "      <td>0</td>\n",
       "      <td>1952</td>\n",
       "      <td>OH</td>\n",
       "      <td>64F84808-F87B-41CF-8E4B-5E0F456359B4</td>\n",
       "      <td>0.0</td>\n",
       "      <td>3.0</td>\n",
       "      <td>3.0</td>\n",
       "      <td>185C24D4-BF2D-41ED-A0BA-28C1583FE13E</td>\n",
       "      <td>2.932111e+07</td>\n",
       "      <td>Paxil (PARoxetine) oral tablet</td>\n",
       "      <td>20 mg</td>\n",
       "      <td>NaN</td>\n",
       "      <td>7D8EC2F9-FF2F-4520-8490-C0E6E886B317</td>\n",
       "      <td>63F8F0D0-F707-42D2-B453-0C46BE1C15F0</td>\n",
       "    </tr>\n",
       "    <tr>\n",
       "      <th>...</th>\n",
       "      <td>...</td>\n",
       "      <td>...</td>\n",
       "      <td>...</td>\n",
       "      <td>...</td>\n",
       "      <td>...</td>\n",
       "      <td>...</td>\n",
       "      <td>...</td>\n",
       "      <td>...</td>\n",
       "      <td>...</td>\n",
       "      <td>...</td>\n",
       "      <td>...</td>\n",
       "      <td>...</td>\n",
       "      <td>...</td>\n",
       "      <td>...</td>\n",
       "      <td>...</td>\n",
       "      <td>...</td>\n",
       "    </tr>\n",
       "    <tr>\n",
       "      <th>15006</th>\n",
       "      <td>9947</td>\n",
       "      <td>A411D8EA-81A2-4A7F-9EF9-FFFD8ECBE91C</td>\n",
       "      <td>1</td>\n",
       "      <td>1934</td>\n",
       "      <td>NJ</td>\n",
       "      <td>6C808413-0201-4850-B906-5D2A8433A82D</td>\n",
       "      <td>0.0</td>\n",
       "      <td>2.0</td>\n",
       "      <td>1.0</td>\n",
       "      <td>AE229D2E-9841-4DBF-A6FD-A5F57290A6B8</td>\n",
       "      <td>7.803583e+07</td>\n",
       "      <td>Diovan (valsartan) oral tablet</td>\n",
       "      <td>80 mg</td>\n",
       "      <td>NaN</td>\n",
       "      <td>1121E3F9-BAD2-482A-9AF4-D70557D5405D</td>\n",
       "      <td>2F7B6534-886A-4CC7-958E-2197A1741126</td>\n",
       "    </tr>\n",
       "    <tr>\n",
       "      <th>15007</th>\n",
       "      <td>9947</td>\n",
       "      <td>A411D8EA-81A2-4A7F-9EF9-FFFD8ECBE91C</td>\n",
       "      <td>1</td>\n",
       "      <td>1934</td>\n",
       "      <td>NJ</td>\n",
       "      <td>6C808413-0201-4850-B906-5D2A8433A82D</td>\n",
       "      <td>0.0</td>\n",
       "      <td>2.0</td>\n",
       "      <td>1.0</td>\n",
       "      <td>2A3715F5-097C-4DF8-866B-B2929F856806</td>\n",
       "      <td>8.511970e+07</td>\n",
       "      <td>Nasonex (mometasone nasal) nasal spray</td>\n",
       "      <td>50 mcg/inh</td>\n",
       "      <td>NaN</td>\n",
       "      <td>C44D4F2F-C3E1-47F6-B8F3-B06B3CD0592B</td>\n",
       "      <td>2F7B6534-886A-4CC7-958E-2197A1741126</td>\n",
       "    </tr>\n",
       "    <tr>\n",
       "      <th>15008</th>\n",
       "      <td>9947</td>\n",
       "      <td>A411D8EA-81A2-4A7F-9EF9-FFFD8ECBE91C</td>\n",
       "      <td>1</td>\n",
       "      <td>1934</td>\n",
       "      <td>NJ</td>\n",
       "      <td>6C808413-0201-4850-B906-5D2A8433A82D</td>\n",
       "      <td>0.0</td>\n",
       "      <td>2.0</td>\n",
       "      <td>1.0</td>\n",
       "      <td>D11B8D64-A665-4298-AAC3-B50D1147AC51</td>\n",
       "      <td>5.295909e+10</td>\n",
       "      <td>Lyrica (pregabalin) oral capsule</td>\n",
       "      <td>50 mg</td>\n",
       "      <td>5.0</td>\n",
       "      <td>601E3F9D-08B1-482E-81CE-4F0DFF767290</td>\n",
       "      <td>2F7B6534-886A-4CC7-958E-2197A1741126</td>\n",
       "    </tr>\n",
       "    <tr>\n",
       "      <th>15009</th>\n",
       "      <td>9947</td>\n",
       "      <td>A411D8EA-81A2-4A7F-9EF9-FFFD8ECBE91C</td>\n",
       "      <td>1</td>\n",
       "      <td>1934</td>\n",
       "      <td>NJ</td>\n",
       "      <td>6C808413-0201-4850-B906-5D2A8433A82D</td>\n",
       "      <td>0.0</td>\n",
       "      <td>2.0</td>\n",
       "      <td>1.0</td>\n",
       "      <td>7B34C7F0-F6B8-4B48-BB50-C0020F3FD461</td>\n",
       "      <td>5.601707e+07</td>\n",
       "      <td>Coumadin (warfarin) oral tablet</td>\n",
       "      <td>2 mg</td>\n",
       "      <td>NaN</td>\n",
       "      <td>9C545CAB-8091-460C-8923-2769E19AB5E9</td>\n",
       "      <td>2F7B6534-886A-4CC7-958E-2197A1741126</td>\n",
       "    </tr>\n",
       "    <tr>\n",
       "      <th>15010</th>\n",
       "      <td>9947</td>\n",
       "      <td>A411D8EA-81A2-4A7F-9EF9-FFFD8ECBE91C</td>\n",
       "      <td>1</td>\n",
       "      <td>1934</td>\n",
       "      <td>NJ</td>\n",
       "      <td>6C808413-0201-4850-B906-5D2A8433A82D</td>\n",
       "      <td>0.0</td>\n",
       "      <td>2.0</td>\n",
       "      <td>1.0</td>\n",
       "      <td>72C82D3C-BF01-49C5-A887-DBD0562C260C</td>\n",
       "      <td>2.960073e+07</td>\n",
       "      <td>Amoxil (amoxicillin) oral capsule</td>\n",
       "      <td>500 mg</td>\n",
       "      <td>NaN</td>\n",
       "      <td>5D579F21-BB03-4277-8D0D-DB24FCD70846</td>\n",
       "      <td>2F7B6534-886A-4CC7-958E-2197A1741126</td>\n",
       "    </tr>\n",
       "  </tbody>\n",
       "</table>\n",
       "<p>14058 rows × 16 columns</p>\n",
       "</div>"
      ],
      "text/plain": [
       "       index                           PatientGuid  Gender  YearOfBirth State  \\\n",
       "0       6600  027AC271-0852-4DDD-99C2-A74FE50066E0       1         1978    CA   \n",
       "1       6601  C5D4C6FA-A2B3-4CCD-A8D5-A760127CE47D       1         1941    PA   \n",
       "2       6601  C5D4C6FA-A2B3-4CCD-A8D5-A760127CE47D       1         1941    PA   \n",
       "3       6602  1F4D1486-7632-4576-AC92-A760680D1DC9       0         1938    VA   \n",
       "4       6603  0F6AD971-F133-4BD7-B508-A76788D9C46C       0         1952    OH   \n",
       "...      ...                                   ...     ...          ...   ...   \n",
       "15006   9947  A411D8EA-81A2-4A7F-9EF9-FFFD8ECBE91C       1         1934    NJ   \n",
       "15007   9947  A411D8EA-81A2-4A7F-9EF9-FFFD8ECBE91C       1         1934    NJ   \n",
       "15008   9947  A411D8EA-81A2-4A7F-9EF9-FFFD8ECBE91C       1         1934    NJ   \n",
       "15009   9947  A411D8EA-81A2-4A7F-9EF9-FFFD8ECBE91C       1         1934    NJ   \n",
       "15010   9947  A411D8EA-81A2-4A7F-9EF9-FFFD8ECBE91C       1         1934    NJ   \n",
       "\n",
       "                               PracticeGuid  Smoking  BMI  Age  \\\n",
       "0      4D27688B-C925-4513-9CF9-8D281ACC6712      0.0  3.0  5.0   \n",
       "1      44C560D5-82B4-436A-9C72-C090F5377FD0      0.0  3.0  2.0   \n",
       "2      44C560D5-82B4-436A-9C72-C090F5377FD0      0.0  3.0  2.0   \n",
       "3      9891CFAA-9B40-4120-AE20-3A1D86064898      0.0  2.0  1.0   \n",
       "4      64F84808-F87B-41CF-8E4B-5E0F456359B4      0.0  3.0  3.0   \n",
       "...                                     ...      ...  ...  ...   \n",
       "15006  6C808413-0201-4850-B906-5D2A8433A82D      0.0  2.0  1.0   \n",
       "15007  6C808413-0201-4850-B906-5D2A8433A82D      0.0  2.0  1.0   \n",
       "15008  6C808413-0201-4850-B906-5D2A8433A82D      0.0  2.0  1.0   \n",
       "15009  6C808413-0201-4850-B906-5D2A8433A82D      0.0  2.0  1.0   \n",
       "15010  6C808413-0201-4850-B906-5D2A8433A82D      0.0  2.0  1.0   \n",
       "\n",
       "                             MedicationGuid       NdcCode  \\\n",
       "0      AA9E8522-F81D-4D86-B119-51B5B4BCC706  2.470397e+08   \n",
       "1      233164E6-541B-440A-B529-B2D2FAAE3F53  7.770871e+08   \n",
       "2      704DEB94-1D68-42A1-B255-CF9EAA3B05BB  1.680004e+08   \n",
       "3      958D8914-6402-4972-8970-1B166163E044  2.470027e+08   \n",
       "4      185C24D4-BF2D-41ED-A0BA-28C1583FE13E  2.932111e+07   \n",
       "...                                     ...           ...   \n",
       "15006  AE229D2E-9841-4DBF-A6FD-A5F57290A6B8  7.803583e+07   \n",
       "15007  2A3715F5-097C-4DF8-866B-B2929F856806  8.511970e+07   \n",
       "15008  D11B8D64-A665-4298-AAC3-B50D1147AC51  5.295909e+10   \n",
       "15009  7B34C7F0-F6B8-4B48-BB50-C0020F3FD461  5.601707e+07   \n",
       "15010  72C82D3C-BF01-49C5-A887-DBD0562C260C  2.960073e+07   \n",
       "\n",
       "                                          MedicationName  MedicationStrength  \\\n",
       "0      Septra DS (sulfamethoxazole-trimethoprim) oral...       800 mg-160 mg   \n",
       "1                       Keflex (cephalexin) oral capsule  monohydrate 500 mg   \n",
       "2      Triamcinolone Acetonide Topical (triamcinolone...                0.1%   \n",
       "3        Augmentin (amoxicillin-clavulanate) oral tablet       500 mg-125 mg   \n",
       "4                         Paxil (PARoxetine) oral tablet               20 mg   \n",
       "...                                                  ...                 ...   \n",
       "15006                     Diovan (valsartan) oral tablet               80 mg   \n",
       "15007             Nasonex (mometasone nasal) nasal spray          50 mcg/inh   \n",
       "15008                   Lyrica (pregabalin) oral capsule               50 mg   \n",
       "15009                    Coumadin (warfarin) oral tablet                2 mg   \n",
       "15010                  Amoxil (amoxicillin) oral capsule              500 mg   \n",
       "\n",
       "       Schedule                         DiagnosisGuid  \\\n",
       "0           NaN  D37A5460-39CA-489C-9486-B919262BE49F   \n",
       "1           NaN  F1322DB9-9420-461E-B312-54E1B30D29CD   \n",
       "2           NaN  21FB2D37-4A4B-49BB-AEEF-BF676CC0B974   \n",
       "3           NaN  ECF9A15F-D529-4BE2-87A1-D3659D1F8839   \n",
       "4           NaN  7D8EC2F9-FF2F-4520-8490-C0E6E886B317   \n",
       "...         ...                                   ...   \n",
       "15006       NaN  1121E3F9-BAD2-482A-9AF4-D70557D5405D   \n",
       "15007       NaN  C44D4F2F-C3E1-47F6-B8F3-B06B3CD0592B   \n",
       "15008       5.0  601E3F9D-08B1-482E-81CE-4F0DFF767290   \n",
       "15009       NaN  9C545CAB-8091-460C-8923-2769E19AB5E9   \n",
       "15010       NaN  5D579F21-BB03-4277-8D0D-DB24FCD70846   \n",
       "\n",
       "                                   UserGuid  \n",
       "0      7511BCEC-9E46-4808-99A7-5B30778B6E84  \n",
       "1      4628E39D-B339-4233-B217-A20112574090  \n",
       "2      4628E39D-B339-4233-B217-A20112574090  \n",
       "3      5B23252E-23A0-466D-9E86-96561488C45C  \n",
       "4      63F8F0D0-F707-42D2-B453-0C46BE1C15F0  \n",
       "...                                     ...  \n",
       "15006  2F7B6534-886A-4CC7-958E-2197A1741126  \n",
       "15007  2F7B6534-886A-4CC7-958E-2197A1741126  \n",
       "15008  2F7B6534-886A-4CC7-958E-2197A1741126  \n",
       "15009  2F7B6534-886A-4CC7-958E-2197A1741126  \n",
       "15010  2F7B6534-886A-4CC7-958E-2197A1741126  \n",
       "\n",
       "[14058 rows x 16 columns]"
      ]
     },
     "execution_count": 98,
     "metadata": {},
     "output_type": "execute_result"
    }
   ],
   "source": [
    "df7"
   ]
  },
  {
   "cell_type": "code",
   "execution_count": 99,
   "metadata": {},
   "outputs": [],
   "source": [
    "df8 = df7.groupby(by='MedicationName')"
   ]
  },
  {
   "cell_type": "code",
   "execution_count": 100,
   "metadata": {},
   "outputs": [],
   "source": [
    "test_medlist1 = list(df8.get_group('Lisinopril oral tablet')['PatientGuid'])\n",
    "test_dfm1 = pd.DataFrame({'PatientGuid':test_medlist1,'Med1':1})\n",
    "test_data = test_data.merge(test_dfm1,on='PatientGuid',how='left')"
   ]
  },
  {
   "cell_type": "code",
   "execution_count": 101,
   "metadata": {},
   "outputs": [],
   "source": [
    "test_medlist2 = list(df8.get_group('Lipitor (atorvastatin) oral tablet')['PatientGuid'])\n",
    "test_dfm2 = pd.DataFrame({'PatientGuid':test_medlist2,'Med2':1})\n",
    "test_data = test_data.merge(test_dfm2,on='PatientGuid',how='left')"
   ]
  },
  {
   "cell_type": "code",
   "execution_count": 102,
   "metadata": {},
   "outputs": [],
   "source": [
    "test_medlist3 = list(df8.get_group('Simvastatin oral tablet')['PatientGuid'])\n",
    "test_dfm3 = pd.DataFrame({'PatientGuid':test_medlist3,'Med3':1})\n",
    "test_data = test_data.merge(test_dfm3,on='PatientGuid',how='left')"
   ]
  },
  {
   "cell_type": "code",
   "execution_count": 103,
   "metadata": {},
   "outputs": [],
   "source": [
    "test_medlist4 = list(df8.get_group('Zocor (simvastatin) oral tablet')['PatientGuid'])\n",
    "test_dfm4 = pd.DataFrame({'PatientGuid':test_medlist4,'Med4':1})\n",
    "test_data = test_data.merge(test_dfm4,on='PatientGuid',how='left')"
   ]
  },
  {
   "cell_type": "code",
   "execution_count": 104,
   "metadata": {},
   "outputs": [],
   "source": [
    "test_medlist5 = list(df8.get_group('Norvasc (amLODIPine) oral tablet')['PatientGuid'])\n",
    "test_dfm5 = pd.DataFrame({'PatientGuid':test_medlist5,'Med5':1})\n",
    "test_data = test_data.merge(test_dfm5,on='PatientGuid',how='left')"
   ]
  },
  {
   "cell_type": "code",
   "execution_count": 105,
   "metadata": {
    "scrolled": true
   },
   "outputs": [
    {
     "name": "stdout",
     "output_type": "stream",
     "text": [
      "<class 'pandas.core.frame.DataFrame'>\n",
      "Int64Index: 3348 entries, 0 to 3347\n",
      "Data columns (total 14 columns):\n",
      " #   Column        Non-Null Count  Dtype  \n",
      "---  ------        --------------  -----  \n",
      " 0   index         3348 non-null   int64  \n",
      " 1   PatientGuid   3348 non-null   object \n",
      " 2   Gender        3348 non-null   int64  \n",
      " 3   YearOfBirth   3348 non-null   int64  \n",
      " 4   State         3348 non-null   object \n",
      " 5   PracticeGuid  3348 non-null   object \n",
      " 6   Smoking       3348 non-null   float64\n",
      " 7   BMI           3348 non-null   float64\n",
      " 8   Age           3348 non-null   float64\n",
      " 9   Med1          255 non-null    float64\n",
      " 10  Med2          179 non-null    float64\n",
      " 11  Med3          188 non-null    float64\n",
      " 12  Med4          110 non-null    float64\n",
      " 13  Med5          111 non-null    float64\n",
      "dtypes: float64(8), int64(3), object(3)\n",
      "memory usage: 392.3+ KB\n"
     ]
    }
   ],
   "source": [
    "test_data.info()"
   ]
  },
  {
   "cell_type": "code",
   "execution_count": 106,
   "metadata": {},
   "outputs": [],
   "source": [
    "test_data.replace(np.NaN,0,inplace=True)"
   ]
  },
  {
   "cell_type": "code",
   "execution_count": 107,
   "metadata": {},
   "outputs": [
    {
     "name": "stdout",
     "output_type": "stream",
     "text": [
      "<class 'pandas.core.frame.DataFrame'>\n",
      "Int64Index: 3348 entries, 0 to 3347\n",
      "Data columns (total 14 columns):\n",
      " #   Column        Non-Null Count  Dtype  \n",
      "---  ------        --------------  -----  \n",
      " 0   index         3348 non-null   int64  \n",
      " 1   PatientGuid   3348 non-null   object \n",
      " 2   Gender        3348 non-null   int64  \n",
      " 3   YearOfBirth   3348 non-null   int64  \n",
      " 4   State         3348 non-null   object \n",
      " 5   PracticeGuid  3348 non-null   object \n",
      " 6   Smoking       3348 non-null   float64\n",
      " 7   BMI           3348 non-null   float64\n",
      " 8   Age           3348 non-null   float64\n",
      " 9   Med1          3348 non-null   float64\n",
      " 10  Med2          3348 non-null   float64\n",
      " 11  Med3          3348 non-null   float64\n",
      " 12  Med4          3348 non-null   float64\n",
      " 13  Med5          3348 non-null   float64\n",
      "dtypes: float64(8), int64(3), object(3)\n",
      "memory usage: 392.3+ KB\n"
     ]
    }
   ],
   "source": [
    "test_data.info()"
   ]
  },
  {
   "cell_type": "markdown",
   "metadata": {},
   "source": [
    "# Model and Predict"
   ]
  },
  {
   "cell_type": "markdown",
   "metadata": {},
   "source": [
    "## 1. Logistic Regression"
   ]
  },
  {
   "cell_type": "code",
   "execution_count": 108,
   "metadata": {},
   "outputs": [],
   "source": [
    "from sklearn.model_selection import train_test_split\n",
    "from sklearn.metrics import classification_report\n",
    "from sklearn.metrics import brier_score_loss\n",
    "\n",
    "X = Patient[['Age','BMI','Gender','Med1','Med2','Med3','Med4','Med5']]\n",
    "y = Patient[['DMIndicator']]\n",
    "\n",
    "X_train,X_test,y_train,y_test = train_test_split(X,y,test_size=0.25,random_state=22,stratify=y)"
   ]
  },
  {
   "cell_type": "code",
   "execution_count": 109,
   "metadata": {},
   "outputs": [],
   "source": [
    "from sklearn.linear_model import LogisticRegression"
   ]
  },
  {
   "cell_type": "code",
   "execution_count": 110,
   "metadata": {},
   "outputs": [
    {
     "name": "stdout",
     "output_type": "stream",
     "text": [
      "              precision    recall  f1-score   support\n",
      "\n",
      "         0.0       0.87      1.00      0.93      1333\n",
      "         1.0       0.98      0.39      0.56       317\n",
      "\n",
      "    accuracy                           0.88      1650\n",
      "   macro avg       0.93      0.70      0.75      1650\n",
      "weighted avg       0.89      0.88      0.86      1650\n",
      "\n"
     ]
    }
   ],
   "source": [
    "logreg = LogisticRegression()\n",
    "logreg.fit(X_train,y_train)\n",
    "y_pred = logreg.predict(X_test)\n",
    "print(classification_report(y_test,y_pred)) "
   ]
  },
  {
   "cell_type": "code",
   "execution_count": 111,
   "metadata": {
    "scrolled": true
   },
   "outputs": [
    {
     "data": {
      "text/plain": [
       "128.0"
      ]
     },
     "execution_count": 111,
     "metadata": {},
     "output_type": "execute_result"
    }
   ],
   "source": [
    "sum(y_pred)"
   ]
  },
  {
   "cell_type": "code",
   "execution_count": 112,
   "metadata": {},
   "outputs": [
    {
     "data": {
      "text/plain": [
       "0.8818181818181818"
      ]
     },
     "execution_count": 112,
     "metadata": {},
     "output_type": "execute_result"
    }
   ],
   "source": [
    "logreg.score(X_test,y_test)"
   ]
  },
  {
   "cell_type": "code",
   "execution_count": 113,
   "metadata": {},
   "outputs": [
    {
     "data": {
      "text/plain": [
       "array([[-0.41875316, -0.12203265,  0.56967512, -0.12203265,  4.6989341 ,\n",
       "         4.24799499,  4.26950861,  4.00804762,  3.3045522 ]])"
      ]
     },
     "execution_count": 113,
     "metadata": {},
     "output_type": "execute_result"
    }
   ],
   "source": [
    "logreg.coef_"
   ]
  },
  {
   "cell_type": "code",
   "execution_count": 114,
   "metadata": {},
   "outputs": [
    {
     "data": {
      "text/plain": [
       "Index(['Age', 'Gender', 'BMI', 'Gender', 'Med1', 'Med2', 'Med3', 'Med4',\n",
       "       'Med5'],\n",
       "      dtype='object')"
      ]
     },
     "execution_count": 114,
     "metadata": {},
     "output_type": "execute_result"
    }
   ],
   "source": [
    "X_train.columns"
   ]
  },
  {
   "cell_type": "code",
   "execution_count": 115,
   "metadata": {},
   "outputs": [],
   "source": [
    "coeff_df = pd.DataFrame(X_train.columns)\n",
    "coeff_df.columns=['Feature']\n",
    "coeff_df['Correlation'] = pd.Series(logreg.coef_[0])"
   ]
  },
  {
   "cell_type": "code",
   "execution_count": 116,
   "metadata": {
    "scrolled": false
   },
   "outputs": [
    {
     "data": {
      "text/html": [
       "<div>\n",
       "<style scoped>\n",
       "    .dataframe tbody tr th:only-of-type {\n",
       "        vertical-align: middle;\n",
       "    }\n",
       "\n",
       "    .dataframe tbody tr th {\n",
       "        vertical-align: top;\n",
       "    }\n",
       "\n",
       "    .dataframe thead th {\n",
       "        text-align: right;\n",
       "    }\n",
       "</style>\n",
       "<table border=\"1\" class=\"dataframe\">\n",
       "  <thead>\n",
       "    <tr style=\"text-align: right;\">\n",
       "      <th></th>\n",
       "      <th>Feature</th>\n",
       "      <th>Correlation</th>\n",
       "    </tr>\n",
       "  </thead>\n",
       "  <tbody>\n",
       "    <tr>\n",
       "      <th>0</th>\n",
       "      <td>Age</td>\n",
       "      <td>-0.418753</td>\n",
       "    </tr>\n",
       "    <tr>\n",
       "      <th>1</th>\n",
       "      <td>Gender</td>\n",
       "      <td>-0.122033</td>\n",
       "    </tr>\n",
       "    <tr>\n",
       "      <th>2</th>\n",
       "      <td>BMI</td>\n",
       "      <td>0.569675</td>\n",
       "    </tr>\n",
       "    <tr>\n",
       "      <th>3</th>\n",
       "      <td>Gender</td>\n",
       "      <td>-0.122033</td>\n",
       "    </tr>\n",
       "    <tr>\n",
       "      <th>4</th>\n",
       "      <td>Med1</td>\n",
       "      <td>4.698934</td>\n",
       "    </tr>\n",
       "    <tr>\n",
       "      <th>5</th>\n",
       "      <td>Med2</td>\n",
       "      <td>4.247995</td>\n",
       "    </tr>\n",
       "    <tr>\n",
       "      <th>6</th>\n",
       "      <td>Med3</td>\n",
       "      <td>4.269509</td>\n",
       "    </tr>\n",
       "    <tr>\n",
       "      <th>7</th>\n",
       "      <td>Med4</td>\n",
       "      <td>4.008048</td>\n",
       "    </tr>\n",
       "    <tr>\n",
       "      <th>8</th>\n",
       "      <td>Med5</td>\n",
       "      <td>3.304552</td>\n",
       "    </tr>\n",
       "  </tbody>\n",
       "</table>\n",
       "</div>"
      ],
      "text/plain": [
       "  Feature  Correlation\n",
       "0     Age    -0.418753\n",
       "1  Gender    -0.122033\n",
       "2     BMI     0.569675\n",
       "3  Gender    -0.122033\n",
       "4    Med1     4.698934\n",
       "5    Med2     4.247995\n",
       "6    Med3     4.269509\n",
       "7    Med4     4.008048\n",
       "8    Med5     3.304552"
      ]
     },
     "execution_count": 116,
     "metadata": {},
     "output_type": "execute_result"
    }
   ],
   "source": [
    "coeff_df"
   ]
  },
  {
   "cell_type": "code",
   "execution_count": 116,
   "metadata": {},
   "outputs": [],
   "source": [
    "Y_pred_prob = logreg.predict_proba(X_test)[:,1]"
   ]
  },
  {
   "cell_type": "code",
   "execution_count": 117,
   "metadata": {},
   "outputs": [],
   "source": [
    "Y_pred_prob = pd.DataFrame({'Prob':Y_pred_prob})"
   ]
  },
  {
   "cell_type": "code",
   "execution_count": 118,
   "metadata": {
    "scrolled": false
   },
   "outputs": [
    {
     "data": {
      "text/html": [
       "<div>\n",
       "<style scoped>\n",
       "    .dataframe tbody tr th:only-of-type {\n",
       "        vertical-align: middle;\n",
       "    }\n",
       "\n",
       "    .dataframe tbody tr th {\n",
       "        vertical-align: top;\n",
       "    }\n",
       "\n",
       "    .dataframe thead th {\n",
       "        text-align: right;\n",
       "    }\n",
       "</style>\n",
       "<table border=\"1\" class=\"dataframe\">\n",
       "  <thead>\n",
       "    <tr style=\"text-align: right;\">\n",
       "      <th></th>\n",
       "      <th>Prob</th>\n",
       "    </tr>\n",
       "  </thead>\n",
       "  <tbody>\n",
       "    <tr>\n",
       "      <th>0</th>\n",
       "      <td>0.040473</td>\n",
       "    </tr>\n",
       "    <tr>\n",
       "      <th>1</th>\n",
       "      <td>0.040473</td>\n",
       "    </tr>\n",
       "    <tr>\n",
       "      <th>2</th>\n",
       "      <td>0.166907</td>\n",
       "    </tr>\n",
       "    <tr>\n",
       "      <th>3</th>\n",
       "      <td>0.180264</td>\n",
       "    </tr>\n",
       "    <tr>\n",
       "      <th>4</th>\n",
       "      <td>0.166907</td>\n",
       "    </tr>\n",
       "    <tr>\n",
       "      <th>...</th>\n",
       "      <td>...</td>\n",
       "    </tr>\n",
       "    <tr>\n",
       "      <th>1645</th>\n",
       "      <td>0.015455</td>\n",
       "    </tr>\n",
       "    <tr>\n",
       "      <th>1646</th>\n",
       "      <td>0.999619</td>\n",
       "    </tr>\n",
       "    <tr>\n",
       "      <th>1647</th>\n",
       "      <td>0.371419</td>\n",
       "    </tr>\n",
       "    <tr>\n",
       "      <th>1648</th>\n",
       "      <td>0.144008</td>\n",
       "    </tr>\n",
       "    <tr>\n",
       "      <th>1649</th>\n",
       "      <td>0.203649</td>\n",
       "    </tr>\n",
       "  </tbody>\n",
       "</table>\n",
       "<p>1650 rows × 1 columns</p>\n",
       "</div>"
      ],
      "text/plain": [
       "          Prob\n",
       "0     0.040473\n",
       "1     0.040473\n",
       "2     0.166907\n",
       "3     0.180264\n",
       "4     0.166907\n",
       "...        ...\n",
       "1645  0.015455\n",
       "1646  0.999619\n",
       "1647  0.371419\n",
       "1648  0.144008\n",
       "1649  0.203649\n",
       "\n",
       "[1650 rows x 1 columns]"
      ]
     },
     "execution_count": 118,
     "metadata": {},
     "output_type": "execute_result"
    }
   ],
   "source": [
    "Y_pred_prob"
   ]
  },
  {
   "cell_type": "code",
   "execution_count": 119,
   "metadata": {
    "scrolled": false
   },
   "outputs": [],
   "source": [
    "X_test.reset_index(inplace=True)"
   ]
  },
  {
   "cell_type": "code",
   "execution_count": 120,
   "metadata": {},
   "outputs": [
    {
     "data": {
      "text/html": [
       "<div>\n",
       "<style scoped>\n",
       "    .dataframe tbody tr th:only-of-type {\n",
       "        vertical-align: middle;\n",
       "    }\n",
       "\n",
       "    .dataframe tbody tr th {\n",
       "        vertical-align: top;\n",
       "    }\n",
       "\n",
       "    .dataframe thead th {\n",
       "        text-align: right;\n",
       "    }\n",
       "</style>\n",
       "<table border=\"1\" class=\"dataframe\">\n",
       "  <thead>\n",
       "    <tr style=\"text-align: right;\">\n",
       "      <th></th>\n",
       "      <th>index</th>\n",
       "      <th>Age</th>\n",
       "      <th>Gender</th>\n",
       "      <th>BMI</th>\n",
       "      <th>Gender</th>\n",
       "      <th>Med1</th>\n",
       "      <th>Med2</th>\n",
       "      <th>Med3</th>\n",
       "      <th>Med4</th>\n",
       "      <th>Med5</th>\n",
       "    </tr>\n",
       "  </thead>\n",
       "  <tbody>\n",
       "    <tr>\n",
       "      <th>0</th>\n",
       "      <td>4348</td>\n",
       "      <td>4.0</td>\n",
       "      <td>1</td>\n",
       "      <td>1.0</td>\n",
       "      <td>1</td>\n",
       "      <td>0.0</td>\n",
       "      <td>0.0</td>\n",
       "      <td>0.0</td>\n",
       "      <td>0.0</td>\n",
       "      <td>0.0</td>\n",
       "    </tr>\n",
       "    <tr>\n",
       "      <th>1</th>\n",
       "      <td>3410</td>\n",
       "      <td>4.0</td>\n",
       "      <td>1</td>\n",
       "      <td>1.0</td>\n",
       "      <td>1</td>\n",
       "      <td>0.0</td>\n",
       "      <td>0.0</td>\n",
       "      <td>0.0</td>\n",
       "      <td>0.0</td>\n",
       "      <td>0.0</td>\n",
       "    </tr>\n",
       "    <tr>\n",
       "      <th>2</th>\n",
       "      <td>4582</td>\n",
       "      <td>3.0</td>\n",
       "      <td>1</td>\n",
       "      <td>3.0</td>\n",
       "      <td>1</td>\n",
       "      <td>0.0</td>\n",
       "      <td>0.0</td>\n",
       "      <td>0.0</td>\n",
       "      <td>0.0</td>\n",
       "      <td>0.0</td>\n",
       "    </tr>\n",
       "    <tr>\n",
       "      <th>3</th>\n",
       "      <td>2931</td>\n",
       "      <td>2.0</td>\n",
       "      <td>0</td>\n",
       "      <td>2.0</td>\n",
       "      <td>0</td>\n",
       "      <td>0.0</td>\n",
       "      <td>0.0</td>\n",
       "      <td>0.0</td>\n",
       "      <td>0.0</td>\n",
       "      <td>0.0</td>\n",
       "    </tr>\n",
       "    <tr>\n",
       "      <th>4</th>\n",
       "      <td>4226</td>\n",
       "      <td>3.0</td>\n",
       "      <td>1</td>\n",
       "      <td>3.0</td>\n",
       "      <td>1</td>\n",
       "      <td>0.0</td>\n",
       "      <td>0.0</td>\n",
       "      <td>0.0</td>\n",
       "      <td>0.0</td>\n",
       "      <td>0.0</td>\n",
       "    </tr>\n",
       "    <tr>\n",
       "      <th>...</th>\n",
       "      <td>...</td>\n",
       "      <td>...</td>\n",
       "      <td>...</td>\n",
       "      <td>...</td>\n",
       "      <td>...</td>\n",
       "      <td>...</td>\n",
       "      <td>...</td>\n",
       "      <td>...</td>\n",
       "      <td>...</td>\n",
       "      <td>...</td>\n",
       "    </tr>\n",
       "    <tr>\n",
       "      <th>1645</th>\n",
       "      <td>771</td>\n",
       "      <td>5.0</td>\n",
       "      <td>1</td>\n",
       "      <td>0.0</td>\n",
       "      <td>1</td>\n",
       "      <td>0.0</td>\n",
       "      <td>0.0</td>\n",
       "      <td>0.0</td>\n",
       "      <td>0.0</td>\n",
       "      <td>0.0</td>\n",
       "    </tr>\n",
       "    <tr>\n",
       "      <th>1646</th>\n",
       "      <td>255</td>\n",
       "      <td>1.0</td>\n",
       "      <td>0</td>\n",
       "      <td>2.0</td>\n",
       "      <td>0</td>\n",
       "      <td>1.0</td>\n",
       "      <td>0.0</td>\n",
       "      <td>1.0</td>\n",
       "      <td>0.0</td>\n",
       "      <td>0.0</td>\n",
       "    </tr>\n",
       "    <tr>\n",
       "      <th>1647</th>\n",
       "      <td>2229</td>\n",
       "      <td>1.0</td>\n",
       "      <td>0</td>\n",
       "      <td>3.0</td>\n",
       "      <td>0</td>\n",
       "      <td>0.0</td>\n",
       "      <td>0.0</td>\n",
       "      <td>0.0</td>\n",
       "      <td>0.0</td>\n",
       "      <td>0.0</td>\n",
       "    </tr>\n",
       "    <tr>\n",
       "      <th>1648</th>\n",
       "      <td>4028</td>\n",
       "      <td>4.0</td>\n",
       "      <td>0</td>\n",
       "      <td>3.0</td>\n",
       "      <td>0</td>\n",
       "      <td>0.0</td>\n",
       "      <td>0.0</td>\n",
       "      <td>0.0</td>\n",
       "      <td>0.0</td>\n",
       "      <td>0.0</td>\n",
       "    </tr>\n",
       "    <tr>\n",
       "      <th>1649</th>\n",
       "      <td>2177</td>\n",
       "      <td>3.0</td>\n",
       "      <td>0</td>\n",
       "      <td>3.0</td>\n",
       "      <td>0</td>\n",
       "      <td>0.0</td>\n",
       "      <td>0.0</td>\n",
       "      <td>0.0</td>\n",
       "      <td>0.0</td>\n",
       "      <td>0.0</td>\n",
       "    </tr>\n",
       "  </tbody>\n",
       "</table>\n",
       "<p>1650 rows × 10 columns</p>\n",
       "</div>"
      ],
      "text/plain": [
       "      index  Age  Gender  BMI  Gender  Med1  Med2  Med3  Med4  Med5\n",
       "0      4348  4.0       1  1.0       1   0.0   0.0   0.0   0.0   0.0\n",
       "1      3410  4.0       1  1.0       1   0.0   0.0   0.0   0.0   0.0\n",
       "2      4582  3.0       1  3.0       1   0.0   0.0   0.0   0.0   0.0\n",
       "3      2931  2.0       0  2.0       0   0.0   0.0   0.0   0.0   0.0\n",
       "4      4226  3.0       1  3.0       1   0.0   0.0   0.0   0.0   0.0\n",
       "...     ...  ...     ...  ...     ...   ...   ...   ...   ...   ...\n",
       "1645    771  5.0       1  0.0       1   0.0   0.0   0.0   0.0   0.0\n",
       "1646    255  1.0       0  2.0       0   1.0   0.0   1.0   0.0   0.0\n",
       "1647   2229  1.0       0  3.0       0   0.0   0.0   0.0   0.0   0.0\n",
       "1648   4028  4.0       0  3.0       0   0.0   0.0   0.0   0.0   0.0\n",
       "1649   2177  3.0       0  3.0       0   0.0   0.0   0.0   0.0   0.0\n",
       "\n",
       "[1650 rows x 10 columns]"
      ]
     },
     "execution_count": 120,
     "metadata": {},
     "output_type": "execute_result"
    }
   ],
   "source": [
    "X_test"
   ]
  },
  {
   "cell_type": "code",
   "execution_count": 121,
   "metadata": {},
   "outputs": [],
   "source": [
    "Final = pd.concat([X_test,Y_pred_prob],axis=1)"
   ]
  },
  {
   "cell_type": "code",
   "execution_count": 122,
   "metadata": {},
   "outputs": [],
   "source": [
    "Final = Final.merge(Patient,right_index=True,left_on=['index'])"
   ]
  },
  {
   "cell_type": "code",
   "execution_count": 123,
   "metadata": {
    "scrolled": false
   },
   "outputs": [
    {
     "data": {
      "text/html": [
       "<div>\n",
       "<style scoped>\n",
       "    .dataframe tbody tr th:only-of-type {\n",
       "        vertical-align: middle;\n",
       "    }\n",
       "\n",
       "    .dataframe tbody tr th {\n",
       "        vertical-align: top;\n",
       "    }\n",
       "\n",
       "    .dataframe thead th {\n",
       "        text-align: right;\n",
       "    }\n",
       "</style>\n",
       "<table border=\"1\" class=\"dataframe\">\n",
       "  <thead>\n",
       "    <tr style=\"text-align: right;\">\n",
       "      <th></th>\n",
       "      <th>PatientGuid</th>\n",
       "      <th>Prob</th>\n",
       "      <th>DMIndicator</th>\n",
       "    </tr>\n",
       "  </thead>\n",
       "  <tbody>\n",
       "    <tr>\n",
       "      <th>0</th>\n",
       "      <td>72B72E39-9851-461A-8787-6E8C5FF2EEC3</td>\n",
       "      <td>0.040473</td>\n",
       "      <td>0.0</td>\n",
       "    </tr>\n",
       "    <tr>\n",
       "      <th>1</th>\n",
       "      <td>E765D0DE-248A-4E00-9C96-56CFEEE3689B</td>\n",
       "      <td>0.040473</td>\n",
       "      <td>0.0</td>\n",
       "    </tr>\n",
       "    <tr>\n",
       "      <th>2</th>\n",
       "      <td>DA7E789F-1988-4290-AA81-7399F65A6D94</td>\n",
       "      <td>0.166907</td>\n",
       "      <td>0.0</td>\n",
       "    </tr>\n",
       "    <tr>\n",
       "      <th>3</th>\n",
       "      <td>CA8D8EE1-302F-4B36-AE0D-4A6468540F58</td>\n",
       "      <td>0.180264</td>\n",
       "      <td>0.0</td>\n",
       "    </tr>\n",
       "    <tr>\n",
       "      <th>4</th>\n",
       "      <td>5B1CD779-2C80-431C-8307-6BA5CBBB964C</td>\n",
       "      <td>0.166907</td>\n",
       "      <td>0.0</td>\n",
       "    </tr>\n",
       "    <tr>\n",
       "      <th>...</th>\n",
       "      <td>...</td>\n",
       "      <td>...</td>\n",
       "      <td>...</td>\n",
       "    </tr>\n",
       "    <tr>\n",
       "      <th>1645</th>\n",
       "      <td>0844D0AC-020E-42E0-9DDE-13E66BE18A24</td>\n",
       "      <td>0.015455</td>\n",
       "      <td>0.0</td>\n",
       "    </tr>\n",
       "    <tr>\n",
       "      <th>1646</th>\n",
       "      <td>58C5EF07-7F0A-4133-8ACA-06C198F77F90</td>\n",
       "      <td>0.999619</td>\n",
       "      <td>1.0</td>\n",
       "    </tr>\n",
       "    <tr>\n",
       "      <th>1647</th>\n",
       "      <td>DFFE5EFD-7DB4-44C7-9F3A-38D45F6A5594</td>\n",
       "      <td>0.371419</td>\n",
       "      <td>0.0</td>\n",
       "    </tr>\n",
       "    <tr>\n",
       "      <th>1648</th>\n",
       "      <td>53EA7F3C-22F8-4247-BE0E-66DEA70B7728</td>\n",
       "      <td>0.144008</td>\n",
       "      <td>0.0</td>\n",
       "    </tr>\n",
       "    <tr>\n",
       "      <th>1649</th>\n",
       "      <td>4AD00E3F-63A6-4C10-AD74-37963FE64662</td>\n",
       "      <td>0.203649</td>\n",
       "      <td>0.0</td>\n",
       "    </tr>\n",
       "  </tbody>\n",
       "</table>\n",
       "<p>1650 rows × 3 columns</p>\n",
       "</div>"
      ],
      "text/plain": [
       "                               PatientGuid      Prob  DMIndicator\n",
       "0     72B72E39-9851-461A-8787-6E8C5FF2EEC3  0.040473          0.0\n",
       "1     E765D0DE-248A-4E00-9C96-56CFEEE3689B  0.040473          0.0\n",
       "2     DA7E789F-1988-4290-AA81-7399F65A6D94  0.166907          0.0\n",
       "3     CA8D8EE1-302F-4B36-AE0D-4A6468540F58  0.180264          0.0\n",
       "4     5B1CD779-2C80-431C-8307-6BA5CBBB964C  0.166907          0.0\n",
       "...                                    ...       ...          ...\n",
       "1645  0844D0AC-020E-42E0-9DDE-13E66BE18A24  0.015455          0.0\n",
       "1646  58C5EF07-7F0A-4133-8ACA-06C198F77F90  0.999619          1.0\n",
       "1647  DFFE5EFD-7DB4-44C7-9F3A-38D45F6A5594  0.371419          0.0\n",
       "1648  53EA7F3C-22F8-4247-BE0E-66DEA70B7728  0.144008          0.0\n",
       "1649  4AD00E3F-63A6-4C10-AD74-37963FE64662  0.203649          0.0\n",
       "\n",
       "[1650 rows x 3 columns]"
      ]
     },
     "execution_count": 123,
     "metadata": {},
     "output_type": "execute_result"
    }
   ],
   "source": [
    "Final[['PatientGuid','Prob','DMIndicator']]"
   ]
  },
  {
   "cell_type": "code",
   "execution_count": 124,
   "metadata": {},
   "outputs": [
    {
     "data": {
      "text/plain": [
       "PatientGuid        72B72E39-9851-461A-8787-6E8C5FF2EEC3\n",
       "DMIndicator                                           0\n",
       "Gender                                                1\n",
       "YearOfBirth                                        1965\n",
       "State                                                FL\n",
       "PracticeGuid       95012106-9936-4A0D-99E0-8EC5195DFA2E\n",
       "Smoking                                               0\n",
       "BMI                                                   1\n",
       "YearOfBirthBand                        (1958.0, 1967.0]\n",
       "Age                                                   4\n",
       "Med1                                                  0\n",
       "Med2                                                  0\n",
       "Med3                                                  0\n",
       "Med4                                                  0\n",
       "Med5                                                  0\n",
       "Name: 4348, dtype: object"
      ]
     },
     "execution_count": 124,
     "metadata": {},
     "output_type": "execute_result"
    }
   ],
   "source": [
    "Patient.iloc[4348]"
   ]
  },
  {
   "cell_type": "code",
   "execution_count": 125,
   "metadata": {
    "scrolled": true
   },
   "outputs": [
    {
     "data": {
      "text/plain": [
       "317.0"
      ]
     },
     "execution_count": 125,
     "metadata": {},
     "output_type": "execute_result"
    }
   ],
   "source": [
    "Final['DMIndicator'].sum()"
   ]
  },
  {
   "cell_type": "code",
   "execution_count": 126,
   "metadata": {},
   "outputs": [],
   "source": [
    "y_prob = np.array(Final['Prob'])"
   ]
  },
  {
   "cell_type": "code",
   "execution_count": 127,
   "metadata": {
    "scrolled": true
   },
   "outputs": [
    {
     "data": {
      "text/plain": [
       "array([0.04047284, 0.04047284, 0.16690733, ..., 0.3714189 , 0.14400777,\n",
       "       0.2036492 ])"
      ]
     },
     "execution_count": 127,
     "metadata": {},
     "output_type": "execute_result"
    }
   ],
   "source": [
    "y_prob"
   ]
  },
  {
   "cell_type": "markdown",
   "metadata": {},
   "source": [
    "### Calculate the Brier Score"
   ]
  },
  {
   "cell_type": "code",
   "execution_count": 128,
   "metadata": {},
   "outputs": [
    {
     "data": {
      "text/plain": [
       "0.09635407879906159"
      ]
     },
     "execution_count": 128,
     "metadata": {},
     "output_type": "execute_result"
    }
   ],
   "source": [
    "brier_score_loss(y_test,y_prob)"
   ]
  },
  {
   "cell_type": "markdown",
   "metadata": {},
   "source": [
    "## 2. K-Nearest Neighbour"
   ]
  },
  {
   "cell_type": "code",
   "execution_count": 129,
   "metadata": {},
   "outputs": [],
   "source": [
    "from sklearn.neighbors import KNeighborsClassifier\n",
    "from sklearn.preprocessing import StandardScaler\n",
    "\n",
    "X = Patient[['Age','Gender','BMI','Gender','Med1','Med2','Med3','Med4','Med5']]\n",
    "y = Patient[['DMIndicator']]\n",
    "\n",
    "X_scaled = pd.DataFrame(StandardScaler().fit_transform(X),columns=['Age','Gender','BMI','Gender','Med1','Med2','Med3','Med4','Med5'])\n",
    "\n",
    "X_train,X_test,y_train,y_test = train_test_split(X_scaled,y,test_size=0.25,random_state=22,stratify=y)"
   ]
  },
  {
   "cell_type": "code",
   "execution_count": 130,
   "metadata": {},
   "outputs": [
    {
     "data": {
      "text/html": [
       "<div>\n",
       "<style scoped>\n",
       "    .dataframe tbody tr th:only-of-type {\n",
       "        vertical-align: middle;\n",
       "    }\n",
       "\n",
       "    .dataframe tbody tr th {\n",
       "        vertical-align: top;\n",
       "    }\n",
       "\n",
       "    .dataframe thead th {\n",
       "        text-align: right;\n",
       "    }\n",
       "</style>\n",
       "<table border=\"1\" class=\"dataframe\">\n",
       "  <thead>\n",
       "    <tr style=\"text-align: right;\">\n",
       "      <th></th>\n",
       "      <th>Age</th>\n",
       "      <th>Gender</th>\n",
       "      <th>BMI</th>\n",
       "      <th>Gender</th>\n",
       "      <th>Med1</th>\n",
       "      <th>Med2</th>\n",
       "      <th>Med3</th>\n",
       "      <th>Med4</th>\n",
       "      <th>Med5</th>\n",
       "    </tr>\n",
       "  </thead>\n",
       "  <tbody>\n",
       "    <tr>\n",
       "      <th>0</th>\n",
       "      <td>-1.842248</td>\n",
       "      <td>-1.142486</td>\n",
       "      <td>-1.223413</td>\n",
       "      <td>-1.142486</td>\n",
       "      <td>-0.17632</td>\n",
       "      <td>-0.138943</td>\n",
       "      <td>-0.134923</td>\n",
       "      <td>-0.123404</td>\n",
       "      <td>-0.110067</td>\n",
       "    </tr>\n",
       "    <tr>\n",
       "      <th>1</th>\n",
       "      <td>1.507448</td>\n",
       "      <td>0.875284</td>\n",
       "      <td>-0.141472</td>\n",
       "      <td>0.875284</td>\n",
       "      <td>-0.17632</td>\n",
       "      <td>-0.138943</td>\n",
       "      <td>-0.134923</td>\n",
       "      <td>-0.123404</td>\n",
       "      <td>-0.110067</td>\n",
       "    </tr>\n",
       "    <tr>\n",
       "      <th>2</th>\n",
       "      <td>1.507448</td>\n",
       "      <td>0.875284</td>\n",
       "      <td>0.940469</td>\n",
       "      <td>0.875284</td>\n",
       "      <td>-0.17632</td>\n",
       "      <td>-0.138943</td>\n",
       "      <td>-0.134923</td>\n",
       "      <td>-0.123404</td>\n",
       "      <td>-0.110067</td>\n",
       "    </tr>\n",
       "    <tr>\n",
       "      <th>3</th>\n",
       "      <td>-0.167400</td>\n",
       "      <td>-1.142486</td>\n",
       "      <td>0.940469</td>\n",
       "      <td>-1.142486</td>\n",
       "      <td>-0.17632</td>\n",
       "      <td>-0.138943</td>\n",
       "      <td>-0.134923</td>\n",
       "      <td>-0.123404</td>\n",
       "      <td>-0.110067</td>\n",
       "    </tr>\n",
       "    <tr>\n",
       "      <th>4</th>\n",
       "      <td>2.065730</td>\n",
       "      <td>0.875284</td>\n",
       "      <td>0.940469</td>\n",
       "      <td>0.875284</td>\n",
       "      <td>-0.17632</td>\n",
       "      <td>-0.138943</td>\n",
       "      <td>-0.134923</td>\n",
       "      <td>-0.123404</td>\n",
       "      <td>-0.110067</td>\n",
       "    </tr>\n",
       "    <tr>\n",
       "      <th>...</th>\n",
       "      <td>...</td>\n",
       "      <td>...</td>\n",
       "      <td>...</td>\n",
       "      <td>...</td>\n",
       "      <td>...</td>\n",
       "      <td>...</td>\n",
       "      <td>...</td>\n",
       "      <td>...</td>\n",
       "      <td>...</td>\n",
       "    </tr>\n",
       "    <tr>\n",
       "      <th>6595</th>\n",
       "      <td>-1.842248</td>\n",
       "      <td>-1.142486</td>\n",
       "      <td>-1.223413</td>\n",
       "      <td>-1.142486</td>\n",
       "      <td>-0.17632</td>\n",
       "      <td>-0.138943</td>\n",
       "      <td>-0.134923</td>\n",
       "      <td>-0.123404</td>\n",
       "      <td>-0.110067</td>\n",
       "    </tr>\n",
       "    <tr>\n",
       "      <th>6596</th>\n",
       "      <td>0.390882</td>\n",
       "      <td>-1.142486</td>\n",
       "      <td>-1.223413</td>\n",
       "      <td>-1.142486</td>\n",
       "      <td>-0.17632</td>\n",
       "      <td>-0.138943</td>\n",
       "      <td>-0.134923</td>\n",
       "      <td>-0.123404</td>\n",
       "      <td>-0.110067</td>\n",
       "    </tr>\n",
       "    <tr>\n",
       "      <th>6597</th>\n",
       "      <td>-0.167400</td>\n",
       "      <td>0.875284</td>\n",
       "      <td>0.940469</td>\n",
       "      <td>0.875284</td>\n",
       "      <td>-0.17632</td>\n",
       "      <td>-0.138943</td>\n",
       "      <td>-0.134923</td>\n",
       "      <td>-0.123404</td>\n",
       "      <td>-0.110067</td>\n",
       "    </tr>\n",
       "    <tr>\n",
       "      <th>6598</th>\n",
       "      <td>-0.167400</td>\n",
       "      <td>-1.142486</td>\n",
       "      <td>0.940469</td>\n",
       "      <td>-1.142486</td>\n",
       "      <td>-0.17632</td>\n",
       "      <td>-0.138943</td>\n",
       "      <td>-0.134923</td>\n",
       "      <td>-0.123404</td>\n",
       "      <td>-0.110067</td>\n",
       "    </tr>\n",
       "    <tr>\n",
       "      <th>6599</th>\n",
       "      <td>0.390882</td>\n",
       "      <td>-1.142486</td>\n",
       "      <td>-2.305353</td>\n",
       "      <td>-1.142486</td>\n",
       "      <td>-0.17632</td>\n",
       "      <td>-0.138943</td>\n",
       "      <td>-0.134923</td>\n",
       "      <td>-0.123404</td>\n",
       "      <td>-0.110067</td>\n",
       "    </tr>\n",
       "  </tbody>\n",
       "</table>\n",
       "<p>6600 rows × 9 columns</p>\n",
       "</div>"
      ],
      "text/plain": [
       "           Age    Gender       BMI    Gender     Med1      Med2      Med3  \\\n",
       "0    -1.842248 -1.142486 -1.223413 -1.142486 -0.17632 -0.138943 -0.134923   \n",
       "1     1.507448  0.875284 -0.141472  0.875284 -0.17632 -0.138943 -0.134923   \n",
       "2     1.507448  0.875284  0.940469  0.875284 -0.17632 -0.138943 -0.134923   \n",
       "3    -0.167400 -1.142486  0.940469 -1.142486 -0.17632 -0.138943 -0.134923   \n",
       "4     2.065730  0.875284  0.940469  0.875284 -0.17632 -0.138943 -0.134923   \n",
       "...        ...       ...       ...       ...      ...       ...       ...   \n",
       "6595 -1.842248 -1.142486 -1.223413 -1.142486 -0.17632 -0.138943 -0.134923   \n",
       "6596  0.390882 -1.142486 -1.223413 -1.142486 -0.17632 -0.138943 -0.134923   \n",
       "6597 -0.167400  0.875284  0.940469  0.875284 -0.17632 -0.138943 -0.134923   \n",
       "6598 -0.167400 -1.142486  0.940469 -1.142486 -0.17632 -0.138943 -0.134923   \n",
       "6599  0.390882 -1.142486 -2.305353 -1.142486 -0.17632 -0.138943 -0.134923   \n",
       "\n",
       "          Med4      Med5  \n",
       "0    -0.123404 -0.110067  \n",
       "1    -0.123404 -0.110067  \n",
       "2    -0.123404 -0.110067  \n",
       "3    -0.123404 -0.110067  \n",
       "4    -0.123404 -0.110067  \n",
       "...        ...       ...  \n",
       "6595 -0.123404 -0.110067  \n",
       "6596 -0.123404 -0.110067  \n",
       "6597 -0.123404 -0.110067  \n",
       "6598 -0.123404 -0.110067  \n",
       "6599 -0.123404 -0.110067  \n",
       "\n",
       "[6600 rows x 9 columns]"
      ]
     },
     "execution_count": 130,
     "metadata": {},
     "output_type": "execute_result"
    }
   ],
   "source": [
    "X_scaled"
   ]
  },
  {
   "cell_type": "code",
   "execution_count": 131,
   "metadata": {},
   "outputs": [
    {
     "data": {
      "text/html": [
       "<div>\n",
       "<style scoped>\n",
       "    .dataframe tbody tr th:only-of-type {\n",
       "        vertical-align: middle;\n",
       "    }\n",
       "\n",
       "    .dataframe tbody tr th {\n",
       "        vertical-align: top;\n",
       "    }\n",
       "\n",
       "    .dataframe thead th {\n",
       "        text-align: right;\n",
       "    }\n",
       "</style>\n",
       "<table border=\"1\" class=\"dataframe\">\n",
       "  <thead>\n",
       "    <tr style=\"text-align: right;\">\n",
       "      <th></th>\n",
       "      <th>Age</th>\n",
       "      <th>Gender</th>\n",
       "      <th>BMI</th>\n",
       "      <th>Gender</th>\n",
       "      <th>Med1</th>\n",
       "      <th>Med2</th>\n",
       "      <th>Med3</th>\n",
       "      <th>Med4</th>\n",
       "      <th>Med5</th>\n",
       "    </tr>\n",
       "  </thead>\n",
       "  <tbody>\n",
       "    <tr>\n",
       "      <th>4348</th>\n",
       "      <td>0.390882</td>\n",
       "      <td>0.875284</td>\n",
       "      <td>-1.223413</td>\n",
       "      <td>0.875284</td>\n",
       "      <td>-0.176320</td>\n",
       "      <td>-0.138943</td>\n",
       "      <td>-0.134923</td>\n",
       "      <td>-0.123404</td>\n",
       "      <td>-0.110067</td>\n",
       "    </tr>\n",
       "    <tr>\n",
       "      <th>3410</th>\n",
       "      <td>0.390882</td>\n",
       "      <td>0.875284</td>\n",
       "      <td>-1.223413</td>\n",
       "      <td>0.875284</td>\n",
       "      <td>-0.176320</td>\n",
       "      <td>-0.138943</td>\n",
       "      <td>-0.134923</td>\n",
       "      <td>-0.123404</td>\n",
       "      <td>-0.110067</td>\n",
       "    </tr>\n",
       "    <tr>\n",
       "      <th>4582</th>\n",
       "      <td>-0.167400</td>\n",
       "      <td>0.875284</td>\n",
       "      <td>0.940469</td>\n",
       "      <td>0.875284</td>\n",
       "      <td>-0.176320</td>\n",
       "      <td>-0.138943</td>\n",
       "      <td>-0.134923</td>\n",
       "      <td>-0.123404</td>\n",
       "      <td>-0.110067</td>\n",
       "    </tr>\n",
       "    <tr>\n",
       "      <th>2931</th>\n",
       "      <td>-0.725683</td>\n",
       "      <td>-1.142486</td>\n",
       "      <td>-0.141472</td>\n",
       "      <td>-1.142486</td>\n",
       "      <td>-0.176320</td>\n",
       "      <td>-0.138943</td>\n",
       "      <td>-0.134923</td>\n",
       "      <td>-0.123404</td>\n",
       "      <td>-0.110067</td>\n",
       "    </tr>\n",
       "    <tr>\n",
       "      <th>4226</th>\n",
       "      <td>-0.167400</td>\n",
       "      <td>0.875284</td>\n",
       "      <td>0.940469</td>\n",
       "      <td>0.875284</td>\n",
       "      <td>-0.176320</td>\n",
       "      <td>-0.138943</td>\n",
       "      <td>-0.134923</td>\n",
       "      <td>-0.123404</td>\n",
       "      <td>-0.110067</td>\n",
       "    </tr>\n",
       "    <tr>\n",
       "      <th>...</th>\n",
       "      <td>...</td>\n",
       "      <td>...</td>\n",
       "      <td>...</td>\n",
       "      <td>...</td>\n",
       "      <td>...</td>\n",
       "      <td>...</td>\n",
       "      <td>...</td>\n",
       "      <td>...</td>\n",
       "      <td>...</td>\n",
       "    </tr>\n",
       "    <tr>\n",
       "      <th>771</th>\n",
       "      <td>0.949165</td>\n",
       "      <td>0.875284</td>\n",
       "      <td>-2.305353</td>\n",
       "      <td>0.875284</td>\n",
       "      <td>-0.176320</td>\n",
       "      <td>-0.138943</td>\n",
       "      <td>-0.134923</td>\n",
       "      <td>-0.123404</td>\n",
       "      <td>-0.110067</td>\n",
       "    </tr>\n",
       "    <tr>\n",
       "      <th>255</th>\n",
       "      <td>-1.283965</td>\n",
       "      <td>-1.142486</td>\n",
       "      <td>-0.141472</td>\n",
       "      <td>-1.142486</td>\n",
       "      <td>5.671493</td>\n",
       "      <td>-0.138943</td>\n",
       "      <td>7.411626</td>\n",
       "      <td>-0.123404</td>\n",
       "      <td>-0.110067</td>\n",
       "    </tr>\n",
       "    <tr>\n",
       "      <th>2229</th>\n",
       "      <td>-1.283965</td>\n",
       "      <td>-1.142486</td>\n",
       "      <td>0.940469</td>\n",
       "      <td>-1.142486</td>\n",
       "      <td>-0.176320</td>\n",
       "      <td>-0.138943</td>\n",
       "      <td>-0.134923</td>\n",
       "      <td>-0.123404</td>\n",
       "      <td>-0.110067</td>\n",
       "    </tr>\n",
       "    <tr>\n",
       "      <th>4028</th>\n",
       "      <td>0.390882</td>\n",
       "      <td>-1.142486</td>\n",
       "      <td>0.940469</td>\n",
       "      <td>-1.142486</td>\n",
       "      <td>-0.176320</td>\n",
       "      <td>-0.138943</td>\n",
       "      <td>-0.134923</td>\n",
       "      <td>-0.123404</td>\n",
       "      <td>-0.110067</td>\n",
       "    </tr>\n",
       "    <tr>\n",
       "      <th>2177</th>\n",
       "      <td>-0.167400</td>\n",
       "      <td>-1.142486</td>\n",
       "      <td>0.940469</td>\n",
       "      <td>-1.142486</td>\n",
       "      <td>-0.176320</td>\n",
       "      <td>-0.138943</td>\n",
       "      <td>-0.134923</td>\n",
       "      <td>-0.123404</td>\n",
       "      <td>-0.110067</td>\n",
       "    </tr>\n",
       "  </tbody>\n",
       "</table>\n",
       "<p>1650 rows × 9 columns</p>\n",
       "</div>"
      ],
      "text/plain": [
       "           Age    Gender       BMI    Gender      Med1      Med2      Med3  \\\n",
       "4348  0.390882  0.875284 -1.223413  0.875284 -0.176320 -0.138943 -0.134923   \n",
       "3410  0.390882  0.875284 -1.223413  0.875284 -0.176320 -0.138943 -0.134923   \n",
       "4582 -0.167400  0.875284  0.940469  0.875284 -0.176320 -0.138943 -0.134923   \n",
       "2931 -0.725683 -1.142486 -0.141472 -1.142486 -0.176320 -0.138943 -0.134923   \n",
       "4226 -0.167400  0.875284  0.940469  0.875284 -0.176320 -0.138943 -0.134923   \n",
       "...        ...       ...       ...       ...       ...       ...       ...   \n",
       "771   0.949165  0.875284 -2.305353  0.875284 -0.176320 -0.138943 -0.134923   \n",
       "255  -1.283965 -1.142486 -0.141472 -1.142486  5.671493 -0.138943  7.411626   \n",
       "2229 -1.283965 -1.142486  0.940469 -1.142486 -0.176320 -0.138943 -0.134923   \n",
       "4028  0.390882 -1.142486  0.940469 -1.142486 -0.176320 -0.138943 -0.134923   \n",
       "2177 -0.167400 -1.142486  0.940469 -1.142486 -0.176320 -0.138943 -0.134923   \n",
       "\n",
       "          Med4      Med5  \n",
       "4348 -0.123404 -0.110067  \n",
       "3410 -0.123404 -0.110067  \n",
       "4582 -0.123404 -0.110067  \n",
       "2931 -0.123404 -0.110067  \n",
       "4226 -0.123404 -0.110067  \n",
       "...        ...       ...  \n",
       "771  -0.123404 -0.110067  \n",
       "255  -0.123404 -0.110067  \n",
       "2229 -0.123404 -0.110067  \n",
       "4028 -0.123404 -0.110067  \n",
       "2177 -0.123404 -0.110067  \n",
       "\n",
       "[1650 rows x 9 columns]"
      ]
     },
     "execution_count": 131,
     "metadata": {},
     "output_type": "execute_result"
    }
   ],
   "source": [
    "X_test"
   ]
  },
  {
   "cell_type": "code",
   "execution_count": 132,
   "metadata": {},
   "outputs": [],
   "source": [
    "test_scores = []\n",
    "train_scores = []\n",
    "neighbors = range(1,20)\n",
    "\n",
    "for i in neighbors:\n",
    "    \n",
    "    knn = KNeighborsClassifier(i)\n",
    "    knn.fit(X_train,y_train)\n",
    "    \n",
    "    train_scores.append(knn.score(X_train,y_train))\n",
    "    test_scores.append(knn.score(X_test,y_test))"
   ]
  },
  {
   "cell_type": "code",
   "execution_count": 133,
   "metadata": {
    "scrolled": true
   },
   "outputs": [
    {
     "data": {
      "image/png": "[encoded data removed]",
      "text/plain": [
       "<Figure size 432x288 with 1 Axes>"
      ]
     },
     "metadata": {
      "needs_background": "light"
     },
     "output_type": "display_data"
    }
   ],
   "source": [
    "plt.title('k-NN: Varying Number of Neighbors')\n",
    "plt.plot(neighbors,test_scores,label='Testing Accuracy')\n",
    "plt.plot(neighbors,train_scores,label='Training Accuracy')\n",
    "plt.legend()\n",
    "plt.xlabel('Number of Neighbors')\n",
    "plt.ylabel('Accuracy')\n",
    "plt.show()\n",
    "\n",
    "# As shown in the graph below, we would pick n = 4"
   ]
  },
  {
   "cell_type": "code",
   "execution_count": 134,
   "metadata": {
    "scrolled": true
   },
   "outputs": [
    {
     "name": "stdout",
     "output_type": "stream",
     "text": [
      "The KNN model accuracy is 0.8824242424242424\n",
      "Total number of predicted diabetes is 127.0\n"
     ]
    }
   ],
   "source": [
    "knn = KNeighborsClassifier(4)\n",
    "knn.fit(X_train,y_train)\n",
    "score = knn.score(X_test,y_test)\n",
    "y_pred = knn.predict(X_test)\n",
    "print('The KNN model accuracy is {}'.format(score))\n",
    "print('Total number of predicted diabetes is {}'.format(sum(y_pred)))"
   ]
  },
  {
   "cell_type": "code",
   "execution_count": 135,
   "metadata": {},
   "outputs": [
    {
     "data": {
      "text/html": [
       "<div>\n",
       "<style scoped>\n",
       "    .dataframe tbody tr th:only-of-type {\n",
       "        vertical-align: middle;\n",
       "    }\n",
       "\n",
       "    .dataframe tbody tr th {\n",
       "        vertical-align: top;\n",
       "    }\n",
       "\n",
       "    .dataframe thead th {\n",
       "        text-align: right;\n",
       "    }\n",
       "</style>\n",
       "<table border=\"1\" class=\"dataframe\">\n",
       "  <thead>\n",
       "    <tr style=\"text-align: right;\">\n",
       "      <th></th>\n",
       "      <th>PatientGuid</th>\n",
       "      <th>Prob</th>\n",
       "      <th>DMIndicator</th>\n",
       "    </tr>\n",
       "  </thead>\n",
       "  <tbody>\n",
       "    <tr>\n",
       "      <th>0</th>\n",
       "      <td>72B72E39-9851-461A-8787-6E8C5FF2EEC3</td>\n",
       "      <td>0.00</td>\n",
       "      <td>0.0</td>\n",
       "    </tr>\n",
       "    <tr>\n",
       "      <th>1</th>\n",
       "      <td>E765D0DE-248A-4E00-9C96-56CFEEE3689B</td>\n",
       "      <td>0.00</td>\n",
       "      <td>0.0</td>\n",
       "    </tr>\n",
       "    <tr>\n",
       "      <th>2</th>\n",
       "      <td>DA7E789F-1988-4290-AA81-7399F65A6D94</td>\n",
       "      <td>0.00</td>\n",
       "      <td>0.0</td>\n",
       "    </tr>\n",
       "    <tr>\n",
       "      <th>3</th>\n",
       "      <td>CA8D8EE1-302F-4B36-AE0D-4A6468540F58</td>\n",
       "      <td>0.50</td>\n",
       "      <td>0.0</td>\n",
       "    </tr>\n",
       "    <tr>\n",
       "      <th>4</th>\n",
       "      <td>5B1CD779-2C80-431C-8307-6BA5CBBB964C</td>\n",
       "      <td>0.00</td>\n",
       "      <td>0.0</td>\n",
       "    </tr>\n",
       "    <tr>\n",
       "      <th>...</th>\n",
       "      <td>...</td>\n",
       "      <td>...</td>\n",
       "      <td>...</td>\n",
       "    </tr>\n",
       "    <tr>\n",
       "      <th>1645</th>\n",
       "      <td>0844D0AC-020E-42E0-9DDE-13E66BE18A24</td>\n",
       "      <td>0.00</td>\n",
       "      <td>0.0</td>\n",
       "    </tr>\n",
       "    <tr>\n",
       "      <th>1646</th>\n",
       "      <td>58C5EF07-7F0A-4133-8ACA-06C198F77F90</td>\n",
       "      <td>1.00</td>\n",
       "      <td>1.0</td>\n",
       "    </tr>\n",
       "    <tr>\n",
       "      <th>1647</th>\n",
       "      <td>DFFE5EFD-7DB4-44C7-9F3A-38D45F6A5594</td>\n",
       "      <td>0.50</td>\n",
       "      <td>0.0</td>\n",
       "    </tr>\n",
       "    <tr>\n",
       "      <th>1648</th>\n",
       "      <td>53EA7F3C-22F8-4247-BE0E-66DEA70B7728</td>\n",
       "      <td>0.25</td>\n",
       "      <td>0.0</td>\n",
       "    </tr>\n",
       "    <tr>\n",
       "      <th>1649</th>\n",
       "      <td>4AD00E3F-63A6-4C10-AD74-37963FE64662</td>\n",
       "      <td>0.25</td>\n",
       "      <td>0.0</td>\n",
       "    </tr>\n",
       "  </tbody>\n",
       "</table>\n",
       "<p>1650 rows × 3 columns</p>\n",
       "</div>"
      ],
      "text/plain": [
       "                               PatientGuid  Prob  DMIndicator\n",
       "0     72B72E39-9851-461A-8787-6E8C5FF2EEC3  0.00          0.0\n",
       "1     E765D0DE-248A-4E00-9C96-56CFEEE3689B  0.00          0.0\n",
       "2     DA7E789F-1988-4290-AA81-7399F65A6D94  0.00          0.0\n",
       "3     CA8D8EE1-302F-4B36-AE0D-4A6468540F58  0.50          0.0\n",
       "4     5B1CD779-2C80-431C-8307-6BA5CBBB964C  0.00          0.0\n",
       "...                                    ...   ...          ...\n",
       "1645  0844D0AC-020E-42E0-9DDE-13E66BE18A24  0.00          0.0\n",
       "1646  58C5EF07-7F0A-4133-8ACA-06C198F77F90  1.00          1.0\n",
       "1647  DFFE5EFD-7DB4-44C7-9F3A-38D45F6A5594  0.50          0.0\n",
       "1648  53EA7F3C-22F8-4247-BE0E-66DEA70B7728  0.25          0.0\n",
       "1649  4AD00E3F-63A6-4C10-AD74-37963FE64662  0.25          0.0\n",
       "\n",
       "[1650 rows x 3 columns]"
      ]
     },
     "execution_count": 135,
     "metadata": {},
     "output_type": "execute_result"
    }
   ],
   "source": [
    "Y_pred_prob = knn.predict_proba(X_test)[:,1]\n",
    "Y_pred_prob = pd.DataFrame({'Prob':Y_pred_prob})\n",
    "\n",
    "X_test.reset_index(inplace=True)\n",
    "Final = pd.concat([X_test,Y_pred_prob],axis=1)\n",
    "Final = Final.merge(Patient,right_index=True,left_on=['index'])\n",
    "Final[['PatientGuid','Prob','DMIndicator']]"
   ]
  },
  {
   "cell_type": "markdown",
   "metadata": {},
   "source": [
    "### Calculate Brier Score"
   ]
  },
  {
   "cell_type": "code",
   "execution_count": 136,
   "metadata": {
    "scrolled": true
   },
   "outputs": [
    {
     "data": {
      "text/plain": [
       "0.12825757575757576"
      ]
     },
     "execution_count": 136,
     "metadata": {},
     "output_type": "execute_result"
    }
   ],
   "source": [
    "y_prob = np.array(Final['Prob'])\n",
    "y_prob\n",
    "brier_score_loss(y_test,y_prob)"
   ]
  },
  {
   "cell_type": "markdown",
   "metadata": {},
   "source": [
    "## 3. Random Forest"
   ]
  },
  {
   "cell_type": "code",
   "execution_count": 137,
   "metadata": {},
   "outputs": [],
   "source": [
    "from sklearn.ensemble import RandomForestClassifier\n",
    "\n",
    "X = Patient[['Age','Gender','BMI','Gender','Med1','Med2','Med3','Med4','Med5']]\n",
    "y = Patient[['DMIndicator']]\n",
    "\n",
    "X_train,X_test,y_train,y_test = train_test_split(X,y,test_size=0.25,random_state=22,stratify=y)"
   ]
  },
  {
   "cell_type": "code",
   "execution_count": 138,
   "metadata": {},
   "outputs": [
    {
     "name": "stdout",
     "output_type": "stream",
     "text": [
      "The accuracy of the Random Tree Classifier is 0.8824242424242424\n",
      "Total number of predicted diabetes is 127.0\n"
     ]
    }
   ],
   "source": [
    "rf = RandomForestClassifier(n_estimators=50)\n",
    "rf.fit(X_train,y_train)\n",
    "score = rf.score(X_test,y_test)\n",
    "y_pred = rf.predict(X_test)\n",
    "print(\"The accuracy of the Random Tree Classifier is {}\".format(score))\n",
    "print(\"Total number of predicted diabetes is {}\".format(sum(y_pred)))"
   ]
  },
  {
   "cell_type": "code",
   "execution_count": 139,
   "metadata": {},
   "outputs": [
    {
     "data": {
      "text/html": [
       "<div>\n",
       "<style scoped>\n",
       "    .dataframe tbody tr th:only-of-type {\n",
       "        vertical-align: middle;\n",
       "    }\n",
       "\n",
       "    .dataframe tbody tr th {\n",
       "        vertical-align: top;\n",
       "    }\n",
       "\n",
       "    .dataframe thead th {\n",
       "        text-align: right;\n",
       "    }\n",
       "</style>\n",
       "<table border=\"1\" class=\"dataframe\">\n",
       "  <thead>\n",
       "    <tr style=\"text-align: right;\">\n",
       "      <th></th>\n",
       "      <th>PatientGuid</th>\n",
       "      <th>Prob</th>\n",
       "      <th>DMIndicator</th>\n",
       "    </tr>\n",
       "  </thead>\n",
       "  <tbody>\n",
       "    <tr>\n",
       "      <th>0</th>\n",
       "      <td>72B72E39-9851-461A-8787-6E8C5FF2EEC3</td>\n",
       "      <td>0.021161</td>\n",
       "      <td>0.0</td>\n",
       "    </tr>\n",
       "    <tr>\n",
       "      <th>1</th>\n",
       "      <td>E765D0DE-248A-4E00-9C96-56CFEEE3689B</td>\n",
       "      <td>0.021161</td>\n",
       "      <td>0.0</td>\n",
       "    </tr>\n",
       "    <tr>\n",
       "      <th>2</th>\n",
       "      <td>DA7E789F-1988-4290-AA81-7399F65A6D94</td>\n",
       "      <td>0.185485</td>\n",
       "      <td>0.0</td>\n",
       "    </tr>\n",
       "    <tr>\n",
       "      <th>3</th>\n",
       "      <td>CA8D8EE1-302F-4B36-AE0D-4A6468540F58</td>\n",
       "      <td>0.174652</td>\n",
       "      <td>0.0</td>\n",
       "    </tr>\n",
       "    <tr>\n",
       "      <th>4</th>\n",
       "      <td>5B1CD779-2C80-431C-8307-6BA5CBBB964C</td>\n",
       "      <td>0.185485</td>\n",
       "      <td>0.0</td>\n",
       "    </tr>\n",
       "    <tr>\n",
       "      <th>...</th>\n",
       "      <td>...</td>\n",
       "      <td>...</td>\n",
       "      <td>...</td>\n",
       "    </tr>\n",
       "    <tr>\n",
       "      <th>1645</th>\n",
       "      <td>0844D0AC-020E-42E0-9DDE-13E66BE18A24</td>\n",
       "      <td>0.000301</td>\n",
       "      <td>0.0</td>\n",
       "    </tr>\n",
       "    <tr>\n",
       "      <th>1646</th>\n",
       "      <td>58C5EF07-7F0A-4133-8ACA-06C198F77F90</td>\n",
       "      <td>1.000000</td>\n",
       "      <td>1.0</td>\n",
       "    </tr>\n",
       "    <tr>\n",
       "      <th>1647</th>\n",
       "      <td>DFFE5EFD-7DB4-44C7-9F3A-38D45F6A5594</td>\n",
       "      <td>0.432929</td>\n",
       "      <td>0.0</td>\n",
       "    </tr>\n",
       "    <tr>\n",
       "      <th>1648</th>\n",
       "      <td>53EA7F3C-22F8-4247-BE0E-66DEA70B7728</td>\n",
       "      <td>0.137901</td>\n",
       "      <td>0.0</td>\n",
       "    </tr>\n",
       "    <tr>\n",
       "      <th>1649</th>\n",
       "      <td>4AD00E3F-63A6-4C10-AD74-37963FE64662</td>\n",
       "      <td>0.195556</td>\n",
       "      <td>0.0</td>\n",
       "    </tr>\n",
       "  </tbody>\n",
       "</table>\n",
       "<p>1650 rows × 3 columns</p>\n",
       "</div>"
      ],
      "text/plain": [
       "                               PatientGuid      Prob  DMIndicator\n",
       "0     72B72E39-9851-461A-8787-6E8C5FF2EEC3  0.021161          0.0\n",
       "1     E765D0DE-248A-4E00-9C96-56CFEEE3689B  0.021161          0.0\n",
       "2     DA7E789F-1988-4290-AA81-7399F65A6D94  0.185485          0.0\n",
       "3     CA8D8EE1-302F-4B36-AE0D-4A6468540F58  0.174652          0.0\n",
       "4     5B1CD779-2C80-431C-8307-6BA5CBBB964C  0.185485          0.0\n",
       "...                                    ...       ...          ...\n",
       "1645  0844D0AC-020E-42E0-9DDE-13E66BE18A24  0.000301          0.0\n",
       "1646  58C5EF07-7F0A-4133-8ACA-06C198F77F90  1.000000          1.0\n",
       "1647  DFFE5EFD-7DB4-44C7-9F3A-38D45F6A5594  0.432929          0.0\n",
       "1648  53EA7F3C-22F8-4247-BE0E-66DEA70B7728  0.137901          0.0\n",
       "1649  4AD00E3F-63A6-4C10-AD74-37963FE64662  0.195556          0.0\n",
       "\n",
       "[1650 rows x 3 columns]"
      ]
     },
     "execution_count": 139,
     "metadata": {},
     "output_type": "execute_result"
    }
   ],
   "source": [
    "Y_pred_prob = rf.predict_proba(X_test)[:,1]\n",
    "Y_pred_prob = pd.DataFrame({'Prob':Y_pred_prob})\n",
    "\n",
    "X_test.reset_index(inplace=True)\n",
    "Final = pd.concat([X_test,Y_pred_prob],axis=1)\n",
    "Final = Final.merge(Patient,right_index=True,left_on=['index'])\n",
    "Final[['PatientGuid','Prob','DMIndicator']]"
   ]
  },
  {
   "cell_type": "markdown",
   "metadata": {},
   "source": [
    "### Calculate Brier Score"
   ]
  },
  {
   "cell_type": "code",
   "execution_count": 140,
   "metadata": {},
   "outputs": [
    {
     "data": {
      "text/plain": [
       "0.09815143234038057"
      ]
     },
     "execution_count": 140,
     "metadata": {},
     "output_type": "execute_result"
    }
   ],
   "source": [
    "y_prob = np.array(Final['Prob'])\n",
    "y_prob\n",
    "brier_score_loss(y_test,y_prob)"
   ]
  },
  {
   "cell_type": "markdown",
   "metadata": {},
   "source": [
    "## Predict Output for Test Data Using Logistic Regression"
   ]
  },
  {
   "cell_type": "code",
   "execution_count": 141,
   "metadata": {},
   "outputs": [],
   "source": [
    "X = Patient[['Age','Gender','BMI','Gender','Med1','Med2','Med3','Med4','Med5']]\n",
    "y = Patient[['DMIndicator']]\n",
    "\n",
    "logreg_final = LogisticRegression()\n",
    "logreg_final.fit(X,y)\n",
    "\n",
    "x = test_data[['Age','Gender','BMI','Gender','Med1','Med2','Med3','Med4','Med5']]\n",
    "\n",
    "test_data['Probability'] = logreg_final.predict_proba(x)[:,1]"
   ]
  },
  {
   "cell_type": "code",
   "execution_count": 142,
   "metadata": {},
   "outputs": [
    {
     "data": {
      "text/html": [
       "<div>\n",
       "<style scoped>\n",
       "    .dataframe tbody tr th:only-of-type {\n",
       "        vertical-align: middle;\n",
       "    }\n",
       "\n",
       "    .dataframe tbody tr th {\n",
       "        vertical-align: top;\n",
       "    }\n",
       "\n",
       "    .dataframe thead th {\n",
       "        text-align: right;\n",
       "    }\n",
       "</style>\n",
       "<table border=\"1\" class=\"dataframe\">\n",
       "  <thead>\n",
       "    <tr style=\"text-align: right;\">\n",
       "      <th></th>\n",
       "      <th>index</th>\n",
       "      <th>PatientGuid</th>\n",
       "      <th>Gender</th>\n",
       "      <th>YearOfBirth</th>\n",
       "      <th>State</th>\n",
       "      <th>PracticeGuid</th>\n",
       "      <th>Smoking</th>\n",
       "      <th>BMI</th>\n",
       "      <th>Age</th>\n",
       "      <th>Med1</th>\n",
       "      <th>Med2</th>\n",
       "      <th>Med3</th>\n",
       "      <th>Med4</th>\n",
       "      <th>Med5</th>\n",
       "      <th>Probability</th>\n",
       "    </tr>\n",
       "  </thead>\n",
       "  <tbody>\n",
       "    <tr>\n",
       "      <th>0</th>\n",
       "      <td>6600</td>\n",
       "      <td>027AC271-0852-4DDD-99C2-A74FE50066E0</td>\n",
       "      <td>1</td>\n",
       "      <td>1978</td>\n",
       "      <td>CA</td>\n",
       "      <td>4D27688B-C925-4513-9CF9-8D281ACC6712</td>\n",
       "      <td>0.0</td>\n",
       "      <td>3.0</td>\n",
       "      <td>5.0</td>\n",
       "      <td>0.0</td>\n",
       "      <td>0.0</td>\n",
       "      <td>0.0</td>\n",
       "      <td>0.0</td>\n",
       "      <td>0.0</td>\n",
       "      <td>0.081735</td>\n",
       "    </tr>\n",
       "    <tr>\n",
       "      <th>1</th>\n",
       "      <td>6601</td>\n",
       "      <td>C5D4C6FA-A2B3-4CCD-A8D5-A760127CE47D</td>\n",
       "      <td>1</td>\n",
       "      <td>1941</td>\n",
       "      <td>PA</td>\n",
       "      <td>44C560D5-82B4-436A-9C72-C090F5377FD0</td>\n",
       "      <td>0.0</td>\n",
       "      <td>3.0</td>\n",
       "      <td>2.0</td>\n",
       "      <td>0.0</td>\n",
       "      <td>0.0</td>\n",
       "      <td>0.0</td>\n",
       "      <td>0.0</td>\n",
       "      <td>0.0</td>\n",
       "      <td>0.231524</td>\n",
       "    </tr>\n",
       "    <tr>\n",
       "      <th>2</th>\n",
       "      <td>6602</td>\n",
       "      <td>1F4D1486-7632-4576-AC92-A760680D1DC9</td>\n",
       "      <td>0</td>\n",
       "      <td>1938</td>\n",
       "      <td>VA</td>\n",
       "      <td>9891CFAA-9B40-4120-AE20-3A1D86064898</td>\n",
       "      <td>0.0</td>\n",
       "      <td>2.0</td>\n",
       "      <td>1.0</td>\n",
       "      <td>0.0</td>\n",
       "      <td>0.0</td>\n",
       "      <td>0.0</td>\n",
       "      <td>0.0</td>\n",
       "      <td>0.0</td>\n",
       "      <td>0.245029</td>\n",
       "    </tr>\n",
       "    <tr>\n",
       "      <th>3</th>\n",
       "      <td>6603</td>\n",
       "      <td>0F6AD971-F133-4BD7-B508-A76788D9C46C</td>\n",
       "      <td>0</td>\n",
       "      <td>1952</td>\n",
       "      <td>OH</td>\n",
       "      <td>64F84808-F87B-41CF-8E4B-5E0F456359B4</td>\n",
       "      <td>0.0</td>\n",
       "      <td>3.0</td>\n",
       "      <td>3.0</td>\n",
       "      <td>0.0</td>\n",
       "      <td>0.0</td>\n",
       "      <td>0.0</td>\n",
       "      <td>0.0</td>\n",
       "      <td>0.0</td>\n",
       "      <td>0.204463</td>\n",
       "    </tr>\n",
       "    <tr>\n",
       "      <th>4</th>\n",
       "      <td>6604</td>\n",
       "      <td>1E23496C-7AAF-4A91-AAF4-A769BD439E67</td>\n",
       "      <td>1</td>\n",
       "      <td>1961</td>\n",
       "      <td>FL</td>\n",
       "      <td>BD209FBC-E92C-4392-A085-1DDA42AF37BA</td>\n",
       "      <td>0.0</td>\n",
       "      <td>2.0</td>\n",
       "      <td>4.0</td>\n",
       "      <td>0.0</td>\n",
       "      <td>0.0</td>\n",
       "      <td>0.0</td>\n",
       "      <td>0.0</td>\n",
       "      <td>0.0</td>\n",
       "      <td>0.069648</td>\n",
       "    </tr>\n",
       "    <tr>\n",
       "      <th>...</th>\n",
       "      <td>...</td>\n",
       "      <td>...</td>\n",
       "      <td>...</td>\n",
       "      <td>...</td>\n",
       "      <td>...</td>\n",
       "      <td>...</td>\n",
       "      <td>...</td>\n",
       "      <td>...</td>\n",
       "      <td>...</td>\n",
       "      <td>...</td>\n",
       "      <td>...</td>\n",
       "      <td>...</td>\n",
       "      <td>...</td>\n",
       "      <td>...</td>\n",
       "      <td>...</td>\n",
       "    </tr>\n",
       "    <tr>\n",
       "      <th>3343</th>\n",
       "      <td>9943</td>\n",
       "      <td>96C0A4E6-1E3E-497E-9C4E-FFEC0E25AD3A</td>\n",
       "      <td>1</td>\n",
       "      <td>1978</td>\n",
       "      <td>TX</td>\n",
       "      <td>E7101967-2FF1-4B0F-8129-B0B429D1D15C</td>\n",
       "      <td>0.0</td>\n",
       "      <td>2.0</td>\n",
       "      <td>5.0</td>\n",
       "      <td>0.0</td>\n",
       "      <td>0.0</td>\n",
       "      <td>0.0</td>\n",
       "      <td>0.0</td>\n",
       "      <td>0.0</td>\n",
       "      <td>0.047492</td>\n",
       "    </tr>\n",
       "    <tr>\n",
       "      <th>3344</th>\n",
       "      <td>9944</td>\n",
       "      <td>5845977A-3014-4301-92B3-FFF0A2EBBAD2</td>\n",
       "      <td>1</td>\n",
       "      <td>1986</td>\n",
       "      <td>WA</td>\n",
       "      <td>EADEC07A-9901-411F-BBE3-04376029E1E8</td>\n",
       "      <td>0.0</td>\n",
       "      <td>1.0</td>\n",
       "      <td>6.0</td>\n",
       "      <td>0.0</td>\n",
       "      <td>0.0</td>\n",
       "      <td>0.0</td>\n",
       "      <td>0.0</td>\n",
       "      <td>0.0</td>\n",
       "      <td>0.018262</td>\n",
       "    </tr>\n",
       "    <tr>\n",
       "      <th>3345</th>\n",
       "      <td>9945</td>\n",
       "      <td>F948403A-ABE6-496D-B37D-FFF9A9D79767</td>\n",
       "      <td>1</td>\n",
       "      <td>1955</td>\n",
       "      <td>CA</td>\n",
       "      <td>57B6F75F-CF0A-4225-BAD0-8222A7D4B489</td>\n",
       "      <td>0.0</td>\n",
       "      <td>3.0</td>\n",
       "      <td>3.0</td>\n",
       "      <td>0.0</td>\n",
       "      <td>0.0</td>\n",
       "      <td>0.0</td>\n",
       "      <td>0.0</td>\n",
       "      <td>0.0</td>\n",
       "      <td>0.167123</td>\n",
       "    </tr>\n",
       "    <tr>\n",
       "      <th>3346</th>\n",
       "      <td>9946</td>\n",
       "      <td>F764BC86-0CFA-4661-8D84-FFFA8E2B6080</td>\n",
       "      <td>1</td>\n",
       "      <td>1960</td>\n",
       "      <td>CA</td>\n",
       "      <td>1A69F223-8409-4FDC-A26C-114677D2D4C3</td>\n",
       "      <td>0.0</td>\n",
       "      <td>3.0</td>\n",
       "      <td>4.0</td>\n",
       "      <td>0.0</td>\n",
       "      <td>0.0</td>\n",
       "      <td>0.0</td>\n",
       "      <td>0.0</td>\n",
       "      <td>0.0</td>\n",
       "      <td>0.117888</td>\n",
       "    </tr>\n",
       "    <tr>\n",
       "      <th>3347</th>\n",
       "      <td>9947</td>\n",
       "      <td>A411D8EA-81A2-4A7F-9EF9-FFFD8ECBE91C</td>\n",
       "      <td>1</td>\n",
       "      <td>1934</td>\n",
       "      <td>NJ</td>\n",
       "      <td>6C808413-0201-4850-B906-5D2A8433A82D</td>\n",
       "      <td>0.0</td>\n",
       "      <td>2.0</td>\n",
       "      <td>1.0</td>\n",
       "      <td>0.0</td>\n",
       "      <td>0.0</td>\n",
       "      <td>0.0</td>\n",
       "      <td>0.0</td>\n",
       "      <td>0.0</td>\n",
       "      <td>0.202164</td>\n",
       "    </tr>\n",
       "  </tbody>\n",
       "</table>\n",
       "<p>3348 rows × 15 columns</p>\n",
       "</div>"
      ],
      "text/plain": [
       "      index                           PatientGuid  Gender  YearOfBirth State  \\\n",
       "0      6600  027AC271-0852-4DDD-99C2-A74FE50066E0       1         1978    CA   \n",
       "1      6601  C5D4C6FA-A2B3-4CCD-A8D5-A760127CE47D       1         1941    PA   \n",
       "2      6602  1F4D1486-7632-4576-AC92-A760680D1DC9       0         1938    VA   \n",
       "3      6603  0F6AD971-F133-4BD7-B508-A76788D9C46C       0         1952    OH   \n",
       "4      6604  1E23496C-7AAF-4A91-AAF4-A769BD439E67       1         1961    FL   \n",
       "...     ...                                   ...     ...          ...   ...   \n",
       "3343   9943  96C0A4E6-1E3E-497E-9C4E-FFEC0E25AD3A       1         1978    TX   \n",
       "3344   9944  5845977A-3014-4301-92B3-FFF0A2EBBAD2       1         1986    WA   \n",
       "3345   9945  F948403A-ABE6-496D-B37D-FFF9A9D79767       1         1955    CA   \n",
       "3346   9946  F764BC86-0CFA-4661-8D84-FFFA8E2B6080       1         1960    CA   \n",
       "3347   9947  A411D8EA-81A2-4A7F-9EF9-FFFD8ECBE91C       1         1934    NJ   \n",
       "\n",
       "                              PracticeGuid  Smoking  BMI  Age  Med1  Med2  \\\n",
       "0     4D27688B-C925-4513-9CF9-8D281ACC6712      0.0  3.0  5.0   0.0   0.0   \n",
       "1     44C560D5-82B4-436A-9C72-C090F5377FD0      0.0  3.0  2.0   0.0   0.0   \n",
       "2     9891CFAA-9B40-4120-AE20-3A1D86064898      0.0  2.0  1.0   0.0   0.0   \n",
       "3     64F84808-F87B-41CF-8E4B-5E0F456359B4      0.0  3.0  3.0   0.0   0.0   \n",
       "4     BD209FBC-E92C-4392-A085-1DDA42AF37BA      0.0  2.0  4.0   0.0   0.0   \n",
       "...                                    ...      ...  ...  ...   ...   ...   \n",
       "3343  E7101967-2FF1-4B0F-8129-B0B429D1D15C      0.0  2.0  5.0   0.0   0.0   \n",
       "3344  EADEC07A-9901-411F-BBE3-04376029E1E8      0.0  1.0  6.0   0.0   0.0   \n",
       "3345  57B6F75F-CF0A-4225-BAD0-8222A7D4B489      0.0  3.0  3.0   0.0   0.0   \n",
       "3346  1A69F223-8409-4FDC-A26C-114677D2D4C3      0.0  3.0  4.0   0.0   0.0   \n",
       "3347  6C808413-0201-4850-B906-5D2A8433A82D      0.0  2.0  1.0   0.0   0.0   \n",
       "\n",
       "      Med3  Med4  Med5  Probability  \n",
       "0      0.0   0.0   0.0     0.081735  \n",
       "1      0.0   0.0   0.0     0.231524  \n",
       "2      0.0   0.0   0.0     0.245029  \n",
       "3      0.0   0.0   0.0     0.204463  \n",
       "4      0.0   0.0   0.0     0.069648  \n",
       "...    ...   ...   ...          ...  \n",
       "3343   0.0   0.0   0.0     0.047492  \n",
       "3344   0.0   0.0   0.0     0.018262  \n",
       "3345   0.0   0.0   0.0     0.167123  \n",
       "3346   0.0   0.0   0.0     0.117888  \n",
       "3347   0.0   0.0   0.0     0.202164  \n",
       "\n",
       "[3348 rows x 15 columns]"
      ]
     },
     "execution_count": 142,
     "metadata": {},
     "output_type": "execute_result"
    }
   ],
   "source": [
    "test_data"
   ]
  },
  {
   "cell_type": "code",
   "execution_count": 147,
   "metadata": {},
   "outputs": [],
   "source": [
    "test_data[['PatientGuid','Probability']].to_csv('/Users/Xingkang/Desktop/Prediction Results.csv',index=False)"
   ]
  }
 ],
 "metadata": {
  "kernelspec": {
   "display_name": "Python 3",
   "language": "python",
   "name": "python3"
  },
  "language_info": {
   "codemirror_mode": {
    "name": "ipython",
    "version": 3
   },
   "file_extension": ".py",
   "mimetype": "text/x-python",
   "name": "python",
   "nbconvert_exporter": "python",
   "pygments_lexer": "ipython3",
   "version": "3.8.3"
  }
 },
 "nbformat": 4,
 "nbformat_minor": 4
}
